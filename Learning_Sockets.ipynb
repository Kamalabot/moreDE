{
 "cells": [
  {
   "cell_type": "markdown",
   "id": "ee9a693a",
   "metadata": {},
   "source": [
    "### Learning Sockets in Python\n",
    "\n",
    "This notebook is about programming with Sockets in Python. This is required for practicing the Pyspark streaming, and creating data streams from various IOT devices and services. \n",
    "\n",
    "The socket API for Internet sockets, sometimes called Berkeley or BSD sockets. There are also Unix domain sockets, which can only be used to communicate between processes on the same host.\n"
   ]
  },
  {
   "cell_type": "markdown",
   "id": "21495daf",
   "metadata": {},
   "source": [
    "The primary socket API functions and methods in this module are:\n",
    "\n",
    ".socket()\n",
    "\n",
    ".bind()\n",
    "\n",
    ".listen()\n",
    "\n",
    ".accept()\n",
    "\n",
    ".connect()\n",
    "\n",
    ".connect_ex()\n",
    "\n",
    ".send()\n",
    "\n",
    ".recv()\n",
    "\n",
    ".close()"
   ]
  },
  {
   "cell_type": "code",
   "execution_count": 5,
   "id": "95fb5352",
   "metadata": {},
   "outputs": [
    {
     "name": "stdout",
     "output_type": "stream",
     "text": [
      "Connected with ('127.0.0.1', 40450)\n",
      "b'Hello, worldWorld has become brave new now'\n",
      "b''\n"
     ]
    }
   ],
   "source": [
    "import socket\n",
    "\n",
    "HOST = \"127.0.0.1\"\n",
    "PORT = 65430\n",
    "\n",
    "with socket.socket(socket.AF_INET, socket.SOCK_STREAM) as tcp:\n",
    "    tcp.bind((HOST, PORT))\n",
    "    tcp.listen()\n",
    "    cont, adrs = tcp.accept()\n",
    "    #The .accept() method blocks execution and waits for an incoming connection.\n",
    "    with cont:\n",
    "        print(f\"Connected with {adrs}\")\n",
    "        while True:\n",
    "            data = cont.recv(1024)\n",
    "            print(data)\n",
    "            if not data:\n",
    "                break\n",
    "            cont.sendall(data)"
   ]
  },
  {
   "cell_type": "code",
   "execution_count": null,
   "id": "a0e0e852",
   "metadata": {},
   "outputs": [],
   "source": [
    "import socket\n",
    "\n",
    "HOST = \"127.0.0.1\"\n",
    "PORT = 65430\n",
    "\n",
    "with socket.socket(socket.AF_INET, socket.SOCK_STREAM) as s:\n",
    "    s.connect((HOST, PORT))\n",
    "    #The above connect is temporary. Once program ends the connection stops\n",
    "    s.sendall(b\"Hello, world\")\n",
    "    data = s.recv(1024)\n",
    "    \n",
    "print(f\"Recieved {data}\")"
   ]
  },
  {
   "cell_type": "code",
   "execution_count": 6,
   "id": "4eac6a1e",
   "metadata": {},
   "outputs": [],
   "source": [
    "#Lets build a non-blocking sockets\n",
    "import sys\n",
    "import selectors\n",
    "import types"
   ]
  },
  {
   "cell_type": "code",
   "execution_count": 16,
   "id": "5ac10581",
   "metadata": {},
   "outputs": [],
   "source": [
    "def accept_wrapper(sock):\n",
    "    conn, addr = sock.accept()  # Should be ready to read\n",
    "    print(f\"Accepted connection from {addr}\")\n",
    "    conn.setblocking(False)\n",
    "    data = types.SimpleNamespace(addr=addr, inb=b\"\", outb=b\"\")\n",
    "    events = selectors.EVENT_READ | selectors.EVENT_WRITE\n",
    "    sel.register(conn, events, data=data)"
   ]
  },
  {
   "cell_type": "code",
   "execution_count": 17,
   "id": "62c22ff4",
   "metadata": {},
   "outputs": [],
   "source": [
    "def service_connection(key, mask):\n",
    "    sock = key.fileobj\n",
    "    data = key.data\n",
    "    if mask & selectors.EVENT_READ:\n",
    "        recv_data = sock.recv(1024)  # Should be ready to read\n",
    "        if recv_data:\n",
    "            data.outb += recv_data\n",
    "        else:\n",
    "            print(f\"Closing connection to {data.addr}\")\n",
    "            sel.unregister(sock)\n",
    "            sock.close()\n",
    "    if mask & selectors.EVENT_WRITE:\n",
    "        if data.outb:\n",
    "            print(f\"Echoing {data.outb!r} to {data.addr}\")\n",
    "            sent = sock.send(data.outb)  # Should be ready to write\n",
    "            data.outb = data.outb[sent:]"
   ]
  },
  {
   "cell_type": "code",
   "execution_count": 19,
   "id": "5ba47559",
   "metadata": {},
   "outputs": [
    {
     "name": "stdout",
     "output_type": "stream",
     "text": [
      "Listening on ('127.0.0.1', 65280)\n",
      "Accepted connection from ('127.0.0.1', 37630)\n",
      "Echoing b'Hello, worldWorld has become brave new now' to ('127.0.0.1', 37630)\n",
      "Closing connection to ('127.0.0.1', 37630)\n",
      "Accepted connection from ('127.0.0.1', 54938)\n",
      "Echoing b'Hello, worldWorld has become brave new now' to ('127.0.0.1', 54938)\n",
      "Closing connection to ('127.0.0.1', 54938)\n",
      "Accepted connection from ('127.0.0.1', 54940)\n",
      "Echoing b'Hello, worldWorld has become brave new now' to ('127.0.0.1', 54940)\n",
      "Closing connection to ('127.0.0.1', 54940)\n",
      "caught Key interrupt\n"
     ]
    }
   ],
   "source": [
    "sel = selectors.DefaultSelector()\n",
    "\n",
    "\n",
    "host, port = '127.0.0.1',65280\n",
    "lsock = socket.socket(socket.AF_INET, socket.SOCK_STREAM)\n",
    "lsock.bind((host,port))\n",
    "lsock.listen()\n",
    "print(f\"Listening on {(host, port)}\")\n",
    "lsock.setblocking(False)\n",
    "sel.register(lsock,selectors.EVENT_READ, data=None)\n",
    "\n",
    "try:\n",
    "    while True:\n",
    "        events = sel.select(timeout=None)\n",
    "        for key, mask in events:\n",
    "            if key.data is None:\n",
    "                accept_wrapper(key.fileobj)\n",
    "            else:\n",
    "                service_connection(key,mask)\n",
    "except KeyboardInterrupt:\n",
    "    print(\"caught Key interrupt\")\n",
    "\n",
    "finally:\n",
    "    sel.close()"
   ]
  },
  {
   "cell_type": "code",
   "execution_count": 21,
   "id": "75b41d56",
   "metadata": {},
   "outputs": [],
   "source": [
    "sel = selectors.DefaultSelector()\n",
    "messages = [b\"Message 1 from client.\", b\"Message 2 from client.\"]\n",
    "\n",
    "def start_connections(host, port, num_conns):\n",
    "    server_addr = (host, port)\n",
    "    for i in range(0, num_conns):\n",
    "        connid = i + 1\n",
    "        print(f\"Starting connection {connid} to {server_addr}\")\n",
    "        sock = socket.socket(socket.AF_INET, socket.SOCK_STREAM)\n",
    "        sock.setblocking(False)\n",
    "        sock.connect_ex(server_addr)\n",
    "        events = selectors.EVENT_READ | selectors.EVENT_WRITE\n",
    "        data = types.SimpleNamespace(\n",
    "            connid=connid,\n",
    "            msg_total=sum(len(m) for m in messages),\n",
    "            recv_total=0,\n",
    "            messages=messages.copy(),\n",
    "            outb=b\"\",\n",
    "        )\n",
    "        sel.register(sock, events, data=data)"
   ]
  },
  {
   "cell_type": "code",
   "execution_count": 34,
   "id": "096be7b5",
   "metadata": {},
   "outputs": [],
   "source": [
    " def service_connection(key, mask):\n",
    "    sock = key.fileobj\n",
    "    data = key.data\n",
    "    if mask & selectors.EVENT_READ:\n",
    "        recv_data = sock.recv(1024)  # Should be ready to read\n",
    "        if recv_data:\n",
    "          data.outb += recv_data\n",
    "          print(f\"Received {recv_data!r} from connection {data.connid}\")\n",
    "          data.recv_total += len(recv_data)\n",
    "        else:\n",
    "          print(f\"Closing connection {data.connid}\")\n",
    "        if not recv_data or data.recv_total == data.msg_total:\n",
    "          print(f\"Closing connection {data.connid}\")\n",
    "          sel.unregister(sock)\n",
    "          sock.close()\n",
    "    if mask & selectors.EVENT_WRITE:\n",
    "        if not data.outb and data.messages:\n",
    "            data.outb = data.messages.pop(0)\n",
    "        if data.outb:\n",
    "            print(f\"Echoing {data.outb!r} to {data.addr}\")\n",
    "            print(f\"Sending {data.outb!r} to connection {data.connid}\")\n",
    "            sent = sock.send(data.outb)  # Should be ready to write\n",
    "            data.outb = data.outb[sent:]"
   ]
  },
  {
   "cell_type": "markdown",
   "id": "2d9fa8b3",
   "metadata": {},
   "source": [
    "What you’re going to do is move the message code into a class named Message and add methods to support reading, writing, and processing of the headers and content. This is a great example for using a class."
   ]
  }
 ],
 "metadata": {
  "kernelspec": {
   "display_name": "Python 3 (ipykernel)",
   "language": "python",
   "name": "python3"
  },
  "language_info": {
   "codemirror_mode": {
    "name": "ipython",
    "version": 3
   },
   "file_extension": ".py",
   "mimetype": "text/x-python",
   "name": "python",
   "nbconvert_exporter": "python",
   "pygments_lexer": "ipython3",
   "version": "3.10.8"
  }
 },
 "nbformat": 4,
 "nbformat_minor": 5
}
