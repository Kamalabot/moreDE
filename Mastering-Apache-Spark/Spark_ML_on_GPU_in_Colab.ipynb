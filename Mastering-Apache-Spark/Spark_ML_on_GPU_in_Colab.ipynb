{
  "nbformat": 4,
  "nbformat_minor": 0,
  "metadata": {
    "colab": {
      "name": "Spark ML on GPU in Colab.ipynb",
      "provenance": [],
      "authorship_tag": "ABX9TyOGPfxbMQJuaXGW2PAH1/oN",
      "include_colab_link": true
    },
    "kernelspec": {
      "name": "python3",
      "display_name": "Python 3"
    },
    "accelerator": "GPU"
  },
  "cells": [
    {
      "cell_type": "markdown",
      "metadata": {
        "id": "view-in-github",
        "colab_type": "text"
      },
      "source": [
        "<a href=\"https://colab.research.google.com/github/srivatsan88/Mastering-Apache-Spark/blob/master/Spark_ML_on_GPU_in_Colab.ipynb\" target=\"_parent\"><img src=\"https://colab.research.google.com/assets/colab-badge.svg\" alt=\"Open In Colab\"/></a>"
      ]
    },
    {
      "cell_type": "code",
      "metadata": {
        "id": "PxABYv6orSsW",
        "colab_type": "code",
        "colab": {}
      },
      "source": [
        "!nvidia-smi"
      ],
      "execution_count": 0,
      "outputs": []
    },
    {
      "cell_type": "code",
      "metadata": {
        "id": "jEymwVEhRU51",
        "colab_type": "code",
        "colab": {}
      },
      "source": [
        "!apt-get install openjdk-8-jdk-headless -qq > /dev/null\n",
        "!wget -q https://downloads.apache.org/spark/spark-2.4.5/spark-2.4.5-bin-hadoop2.7.tgz\n",
        "!tar xf spark-2.4.5-bin-hadoop2.7.tgz\n",
        "!pip install -q findspark"
      ],
      "execution_count": 0,
      "outputs": []
    },
    {
      "cell_type": "code",
      "metadata": {
        "id": "kCNwVCj1pdFj",
        "colab_type": "code",
        "colab": {}
      },
      "source": [
        "!wget https://repo1.maven.org/maven2/ai/rapids/cudf/0.9.2/cudf-0.9.2-cuda10-1.jar\n",
        "!wget https://repo1.maven.org/maven2/ai/rapids/xgboost4j_2.x/1.0.0-Beta5/xgboost4j_2.x-1.0.0-Beta5.jar\n",
        "!wget https://repo1.maven.org/maven2/ai/rapids/xgboost4j-spark_2.x/1.0.0-Beta5/xgboost4j-spark_2.x-1.0.0-Beta5.jar"
      ],
      "execution_count": 0,
      "outputs": []
    },
    {
      "cell_type": "code",
      "metadata": {
        "id": "BbugtVXGgQwt",
        "colab_type": "code",
        "colab": {}
      },
      "source": [
        "!ls\n",
        "!pwd"
      ],
      "execution_count": 0,
      "outputs": []
    },
    {
      "cell_type": "code",
      "metadata": {
        "id": "CrzF3tsBJ-3r",
        "colab_type": "code",
        "colab": {}
      },
      "source": [
        "import os\n",
        "os.environ[\"JAVA_HOME\"] = \"/usr/lib/jvm/java-8-openjdk-amd64\"\n",
        "os.environ[\"SPARK_HOME\"] = \"/content/spark-2.4.5-bin-hadoop2.7\""
      ],
      "execution_count": 0,
      "outputs": []
    },
    {
      "cell_type": "code",
      "metadata": {
        "id": "8d6HUb7Xhc2m",
        "colab_type": "code",
        "colab": {}
      },
      "source": [
        "os.environ['PYSPARK_SUBMIT_ARGS'] = '--jars /content/cudf-0.9.2-cuda10-1.jar,/content/xgboost4j_2.x-1.0.0-Beta5.jar,/content/xgboost4j-spark_2.x-1.0.0-Beta5.jar pyspark-shell'"
      ],
      "execution_count": 0,
      "outputs": []
    },
    {
      "cell_type": "code",
      "metadata": {
        "id": "TyrI8ZghKksx",
        "colab_type": "code",
        "colab": {}
      },
      "source": [
        "import findspark\n",
        "findspark.init()\n",
        "from pyspark.sql import SparkSession\n",
        "spark = SparkSession.builder.master(\"local[*]\").getOrCreate()\n",
        "spark.conf.set(\"spark.executor.memory\", \"2g\")\n",
        "spark.conf.set(\"spark.driver.memory\", \"2g\")\n",
        "spark.sparkContext.addPyFile('/content/xgboost4j-spark_2.x-1.0.0-Beta5.jar')"
      ],
      "execution_count": 0,
      "outputs": []
    },
    {
      "cell_type": "code",
      "metadata": {
        "id": "5G845ub6jiQw",
        "colab_type": "code",
        "colab": {}
      },
      "source": [
        "from ml.dmlc.xgboost4j.scala.spark import XGBoostClassificationModel, XGBoostClassifier\n",
        "from ml.dmlc.xgboost4j.scala.spark.rapids import GpuDataReader\n",
        "from pyspark.ml.evaluation import MulticlassClassificationEvaluator\n",
        "import numpy as np\n",
        "import pandas as pd"
      ],
      "execution_count": 0,
      "outputs": []
    },
    {
      "cell_type": "code",
      "metadata": {
        "id": "pV0Z4aq4146c",
        "colab_type": "code",
        "colab": {}
      },
      "source": [
        "from sklearn.datasets import fetch_openml\n",
        "covtyp = fetch_openml(name='covertype', version=4)"
      ],
      "execution_count": 0,
      "outputs": []
    },
    {
      "cell_type": "code",
      "metadata": {
        "id": "0zHevy9Q18Hy",
        "colab_type": "code",
        "colab": {}
      },
      "source": [
        "covtyp.data.shape"
      ],
      "execution_count": 0,
      "outputs": []
    },
    {
      "cell_type": "code",
      "metadata": {
        "id": "YxGjRU8g1772",
        "colab_type": "code",
        "colab": {}
      },
      "source": [
        "np.unique(covtyp.target)"
      ],
      "execution_count": 0,
      "outputs": []
    },
    {
      "cell_type": "code",
      "metadata": {
        "id": "cM_okKJa17q4",
        "colab_type": "code",
        "colab": {}
      },
      "source": [
        "cov_df = pd.DataFrame(data= np.c_[covtyp['data'], covtyp['target']],\n",
        "                     columns= covtyp['feature_names'] + ['target'])"
      ],
      "execution_count": 0,
      "outputs": []
    },
    {
      "cell_type": "code",
      "metadata": {
        "id": "QbdkZ2ir2l8P",
        "colab_type": "code",
        "colab": {}
      },
      "source": [
        "cov_df.memory_usage(index=True).sum()"
      ],
      "execution_count": 0,
      "outputs": []
    },
    {
      "cell_type": "code",
      "metadata": {
        "id": "5bDypzjN2qwH",
        "colab_type": "code",
        "colab": {}
      },
      "source": [
        "cov_df.head()"
      ],
      "execution_count": 0,
      "outputs": []
    },
    {
      "cell_type": "code",
      "metadata": {
        "id": "y8O5PuUs2qi-",
        "colab_type": "code",
        "colab": {}
      },
      "source": [
        "print (\"Rows     : \" ,cov_df.shape[0])\n",
        "print (\"Columns  : \" ,cov_df.shape[1])"
      ],
      "execution_count": 0,
      "outputs": []
    },
    {
      "cell_type": "code",
      "metadata": {
        "id": "rNoMyiHV272m",
        "colab_type": "code",
        "colab": {}
      },
      "source": [
        "cov_df.target.value_counts()"
      ],
      "execution_count": 0,
      "outputs": []
    },
    {
      "cell_type": "code",
      "metadata": {
        "id": "C1ouiOI027uM",
        "colab_type": "code",
        "colab": {}
      },
      "source": [
        "cov_df.dtypes"
      ],
      "execution_count": 0,
      "outputs": []
    },
    {
      "cell_type": "code",
      "metadata": {
        "id": "b_Zo4TWV3D6q",
        "colab_type": "code",
        "colab": {}
      },
      "source": [
        "for cols in cov_df.columns:\n",
        "  cov_df[cols] = pd.to_numeric(cov_df[cols])"
      ],
      "execution_count": 0,
      "outputs": []
    },
    {
      "cell_type": "code",
      "metadata": {
        "id": "QfSTxhCc3D2i",
        "colab_type": "code",
        "colab": {}
      },
      "source": [
        "cov_df['target'] = cov_df['target']-1"
      ],
      "execution_count": 0,
      "outputs": []
    },
    {
      "cell_type": "code",
      "metadata": {
        "id": "f5IRl15HF0n2",
        "colab_type": "code",
        "colab": {}
      },
      "source": [
        "train_df=cov_df.sample(frac=0.8,random_state=10) \n",
        "test_df=cov_df.drop(train_df.index)"
      ],
      "execution_count": 0,
      "outputs": []
    },
    {
      "cell_type": "code",
      "metadata": {
        "id": "fX5FqdQH3Dx6",
        "colab_type": "code",
        "colab": {}
      },
      "source": [
        "train_df.to_parquet(fname='covtype_train.parquet',compression='snappy', index=False)\n",
        "test_df.to_parquet(fname='covtype_test.parquet',compression='snappy', index=False)"
      ],
      "execution_count": 0,
      "outputs": []
    },
    {
      "cell_type": "code",
      "metadata": {
        "id": "DdTcafR-3DoQ",
        "colab_type": "code",
        "colab": {}
      },
      "source": [
        "!ls "
      ],
      "execution_count": 0,
      "outputs": []
    },
    {
      "cell_type": "code",
      "metadata": {
        "id": "FOkHwbMZ27gh",
        "colab_type": "code",
        "colab": {}
      },
      "source": [
        "import pyarrow.parquet as pq"
      ],
      "execution_count": 0,
      "outputs": []
    },
    {
      "cell_type": "code",
      "metadata": {
        "id": "SaMjfngP4NBW",
        "colab_type": "code",
        "colab": {}
      },
      "source": [
        "pq.read_table('covtype_train.parquet')"
      ],
      "execution_count": 0,
      "outputs": []
    },
    {
      "cell_type": "code",
      "metadata": {
        "id": "IPASQafp0LiF",
        "colab_type": "code",
        "colab": {}
      },
      "source": [
        "train_data = GpuDataReader(spark).format('parquet').load('covtype_train.parquet')\n",
        "test_data = GpuDataReader(spark).format('parquet').load('covtype_test.parquet')"
      ],
      "execution_count": 0,
      "outputs": []
    },
    {
      "cell_type": "code",
      "metadata": {
        "id": "mF7y6Lhx79-7",
        "colab_type": "code",
        "colab": {}
      },
      "source": [
        "train_data.schema"
      ],
      "execution_count": 0,
      "outputs": []
    },
    {
      "cell_type": "code",
      "metadata": {
        "id": "_Xxnu2tX9E23",
        "colab_type": "code",
        "colab": {}
      },
      "source": [
        "pq_file=pq.read_table('covtype_train.parquet')"
      ],
      "execution_count": 0,
      "outputs": []
    },
    {
      "cell_type": "code",
      "metadata": {
        "id": "Arj1KyTy9MX0",
        "colab_type": "code",
        "colab": {}
      },
      "source": [
        "pq_file.column_names"
      ],
      "execution_count": 0,
      "outputs": []
    },
    {
      "cell_type": "code",
      "metadata": {
        "id": "z-H7CLer9DLE",
        "colab_type": "code",
        "colab": {}
      },
      "source": [
        "label=\"target\"\n",
        "features = [ x for x in pq_file.column_names if x != label ]"
      ],
      "execution_count": 0,
      "outputs": []
    },
    {
      "cell_type": "code",
      "metadata": {
        "id": "7m0_Ifbx9fNU",
        "colab_type": "code",
        "colab": {}
      },
      "source": [
        "features"
      ],
      "execution_count": 0,
      "outputs": []
    },
    {
      "cell_type": "code",
      "metadata": {
        "id": "JP--zyP48CcZ",
        "colab_type": "code",
        "colab": {}
      },
      "source": [
        "import time\n",
        "params = { \n",
        "    'eta': 0.1,\n",
        "    'gamma': 0.1,\n",
        "    'missing': 0.0,\n",
        "    'treeMethod': 'gpu_hist',\n",
        "    'maxDepth': 8, \n",
        "    'growPolicy': 'depthwise',\n",
        "    'lambda_': 1.0,\n",
        "    'subsample': 1.0,\n",
        "    'numRound': 1000,\n",
        "    'numWorkers': 1,\n",
        "    'verbosity': 1\n",
        "}\n",
        "classifier = XGBoostClassifier(**params).setLabelCol(label).setFeaturesCols(features)"
      ],
      "execution_count": 0,
      "outputs": []
    },
    {
      "cell_type": "code",
      "metadata": {
        "id": "ETmJCqpc92DS",
        "colab_type": "code",
        "colab": {}
      },
      "source": [
        "start_time = time.time()\n",
        "\n",
        "model=classifier.fit(train_data)\n",
        "\n",
        "print(\"GPU Training Time: %s seconds\" % (str(time.time() - start_time)))"
      ],
      "execution_count": 0,
      "outputs": []
    },
    {
      "cell_type": "code",
      "metadata": {
        "id": "5HNM0Yvhad5g",
        "colab_type": "code",
        "colab": {}
      },
      "source": [
        "!nvidia-smi"
      ],
      "execution_count": 0,
      "outputs": []
    },
    {
      "cell_type": "code",
      "metadata": {
        "id": "gsncl_YUd_t5",
        "colab_type": "code",
        "colab": {}
      },
      "source": [
        "model.write().overwrite().save('/content/model/')"
      ],
      "execution_count": 0,
      "outputs": []
    },
    {
      "cell_type": "code",
      "metadata": {
        "id": "DSicQt2S_ZwA",
        "colab_type": "code",
        "colab": {}
      },
      "source": [
        "!ls"
      ],
      "execution_count": 0,
      "outputs": []
    },
    {
      "cell_type": "code",
      "metadata": {
        "id": "8SNSDrk8_a6v",
        "colab_type": "code",
        "colab": {}
      },
      "source": [
        "loaded_model = XGBoostClassificationModel().load('/content/model/')"
      ],
      "execution_count": 0,
      "outputs": []
    },
    {
      "cell_type": "code",
      "metadata": {
        "id": "JbOE8VmeLLRB",
        "colab_type": "code",
        "colab": {}
      },
      "source": [
        "result=loaded_model.transform(test_data)"
      ],
      "execution_count": 0,
      "outputs": []
    },
    {
      "cell_type": "code",
      "metadata": {
        "id": "9L5c-kfDLaoU",
        "colab_type": "code",
        "colab": {}
      },
      "source": [
        "result.show()"
      ],
      "execution_count": 0,
      "outputs": []
    },
    {
      "cell_type": "code",
      "metadata": {
        "id": "Uhq48w_WLlP9",
        "colab_type": "code",
        "colab": {}
      },
      "source": [
        "MulticlassClassificationEvaluator().setLabelCol(label).evaluate(result)"
      ],
      "execution_count": 0,
      "outputs": []
    },
    {
      "cell_type": "code",
      "metadata": {
        "id": "qvEZN98PMALM",
        "colab_type": "code",
        "colab": {}
      },
      "source": [
        ""
      ],
      "execution_count": 0,
      "outputs": []
    }
  ]
}