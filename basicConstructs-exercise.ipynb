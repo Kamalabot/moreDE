{
 "cells": [
  {
   "cell_type": "code",
   "execution_count": 1,
   "id": "ada41c86",
   "metadata": {},
   "outputs": [],
   "source": [
    "def sumIntegers(lists):\n",
    "    total = 0\n",
    "    for ele in lists:\n",
    "        total += ele * ele\n",
    "        \n",
    "    return total"
   ]
  },
  {
   "cell_type": "code",
   "execution_count": 7,
   "id": "8b352687",
   "metadata": {},
   "outputs": [],
   "source": [
    "testList = list(range(2,5))"
   ]
  },
  {
   "cell_type": "code",
   "execution_count": 8,
   "id": "65506fbd",
   "metadata": {},
   "outputs": [
    {
     "data": {
      "text/plain": [
       "[2, 3, 4]"
      ]
     },
     "execution_count": 8,
     "metadata": {},
     "output_type": "execute_result"
    }
   ],
   "source": [
    "testList"
   ]
  },
  {
   "cell_type": "code",
   "execution_count": 9,
   "id": "cfd34963",
   "metadata": {},
   "outputs": [
    {
     "data": {
      "text/plain": [
       "29"
      ]
     },
     "execution_count": 9,
     "metadata": {},
     "output_type": "execute_result"
    }
   ],
   "source": [
    "sumIntegers(testList)"
   ]
  },
  {
   "cell_type": "code",
   "execution_count": 12,
   "id": "1af8f4cd",
   "metadata": {},
   "outputs": [],
   "source": [
    "def evenSquare(lists):\n",
    "    total = 0\n",
    "    for ele in lists:\n",
    "        if (ele % 2 == 0):\n",
    "            total += ele * ele\n",
    "            \n",
    "    return total"
   ]
  },
  {
   "cell_type": "code",
   "execution_count": 13,
   "id": "42566772",
   "metadata": {},
   "outputs": [],
   "source": [
    "def evenSum(lists):\n",
    "    total = 0\n",
    "    for ele in lists:\n",
    "        if (ele % 2 == 0):\n",
    "            total += ele\n",
    "            \n",
    "    return total"
   ]
  },
  {
   "cell_type": "code",
   "execution_count": 14,
   "id": "674319b4",
   "metadata": {},
   "outputs": [
    {
     "data": {
      "text/plain": [
       "24"
      ]
     },
     "execution_count": 14,
     "metadata": {},
     "output_type": "execute_result"
    }
   ],
   "source": [
    "testTen = list(range(5,11))\n",
    "evenSum(testTen)"
   ]
  },
  {
   "cell_type": "code",
   "execution_count": 15,
   "id": "3bb35828",
   "metadata": {},
   "outputs": [
    {
     "data": {
      "text/plain": [
       "36"
      ]
     },
     "execution_count": 15,
     "metadata": {},
     "output_type": "execute_result"
    }
   ],
   "source": [
    "sum([1, 6, 8, 3, 7, 2, 9])"
   ]
  },
  {
   "cell_type": "code",
   "execution_count": 16,
   "id": "fd3b6395",
   "metadata": {},
   "outputs": [],
   "source": [
    "def sumThree(lists):\n",
    "    total = 0\n",
    "    for ele in lists:\n",
    "        if (ele % 3 == 0):\n",
    "            total += ele\n",
    "            \n",
    "    return total"
   ]
  },
  {
   "cell_type": "code",
   "execution_count": 17,
   "id": "fbb0483a",
   "metadata": {},
   "outputs": [
    {
     "data": {
      "text/plain": [
       "18"
      ]
     },
     "execution_count": 17,
     "metadata": {},
     "output_type": "execute_result"
    }
   ],
   "source": [
    "sumThree([1, 6, 8, 3, 7, 2, 9])"
   ]
  },
  {
   "cell_type": "code",
   "execution_count": 18,
   "id": "7ee4fe6b",
   "metadata": {},
   "outputs": [],
   "source": [
    "test = 'three_more'"
   ]
  },
  {
   "cell_type": "code",
   "execution_count": 24,
   "id": "b32e96cb",
   "metadata": {},
   "outputs": [
    {
     "data": {
      "text/plain": [
       "[10, 9, 8, 7, 6, 5, 4, 3, 2, 1]"
      ]
     },
     "execution_count": 24,
     "metadata": {},
     "output_type": "execute_result"
    }
   ],
   "source": [
    "list(range(10,0,-1))"
   ]
  },
  {
   "cell_type": "code",
   "execution_count": 33,
   "id": "d5583a17",
   "metadata": {},
   "outputs": [],
   "source": [
    "strLen = len(test) - 1\n",
    "revStr =''\n",
    "for i in range(strLen,-1,-1):\n",
    "    revStr += test[i]\n",
    "    "
   ]
  },
  {
   "cell_type": "code",
   "execution_count": 34,
   "id": "254c96ab",
   "metadata": {},
   "outputs": [
    {
     "data": {
      "text/plain": [
       "False"
      ]
     },
     "execution_count": 34,
     "metadata": {},
     "output_type": "execute_result"
    }
   ],
   "source": [
    "revStr == test"
   ]
  },
  {
   "cell_type": "code",
   "execution_count": 36,
   "id": "269bbae2",
   "metadata": {},
   "outputs": [],
   "source": [
    "from datetime import datetime\n",
    "from datetime import date "
   ]
  },
  {
   "cell_type": "code",
   "execution_count": 40,
   "id": "792e8590",
   "metadata": {},
   "outputs": [],
   "source": [
    "getDate = datetime.strptime('2020-10-18','%Y-%m-%d')"
   ]
  },
  {
   "cell_type": "code",
   "execution_count": 42,
   "id": "50086ba8",
   "metadata": {},
   "outputs": [
    {
     "data": {
      "text/plain": [
       "18"
      ]
     },
     "execution_count": 42,
     "metadata": {},
     "output_type": "execute_result"
    }
   ],
   "source": [
    "getDate.day"
   ]
  },
  {
   "cell_type": "code",
   "execution_count": 56,
   "id": "7fcfc1d4",
   "metadata": {},
   "outputs": [
    {
     "data": {
      "text/plain": [
       "10"
      ]
     },
     "execution_count": 56,
     "metadata": {},
     "output_type": "execute_result"
    }
   ],
   "source": [
    "getDate.month"
   ]
  },
  {
   "cell_type": "code",
   "execution_count": 57,
   "id": "1d18872d",
   "metadata": {},
   "outputs": [
    {
     "data": {
      "text/plain": [
       "2020"
      ]
     },
     "execution_count": 57,
     "metadata": {},
     "output_type": "execute_result"
    }
   ],
   "source": [
    "getDate.year"
   ]
  },
  {
   "cell_type": "code",
   "execution_count": 45,
   "id": "64caf6f0",
   "metadata": {},
   "outputs": [],
   "source": [
    "import calendar"
   ]
  },
  {
   "cell_type": "code",
   "execution_count": 60,
   "id": "ba810e3c",
   "metadata": {},
   "outputs": [
    {
     "data": {
      "text/plain": [
       "'Sunday'"
      ]
     },
     "execution_count": 60,
     "metadata": {},
     "output_type": "execute_result"
    }
   ],
   "source": [
    "calendar.day_name[calendar.weekday(getDate.year, getDate.month,getDate.day)]"
   ]
  },
  {
   "cell_type": "code",
   "execution_count": 61,
   "id": "d57457be",
   "metadata": {},
   "outputs": [
    {
     "name": "stdout",
     "output_type": "stream",
     "text": [
      "provide the name: Seval Sekar\n",
      "provide the joining date: 2052-8-28\n"
     ]
    }
   ],
   "source": [
    "name = input(\"provide the name: \")\n",
    "dateJoin = input(\"provide the joining date: \")"
   ]
  },
  {
   "cell_type": "code",
   "execution_count": 62,
   "id": "162069b6",
   "metadata": {},
   "outputs": [],
   "source": [
    "joining = datetime.strptime(dateJoin,'%Y-%m-%d')"
   ]
  },
  {
   "cell_type": "code",
   "execution_count": 67,
   "id": "df9b267d",
   "metadata": {},
   "outputs": [
    {
     "data": {
      "text/plain": [
       "'52'"
      ]
     },
     "execution_count": 67,
     "metadata": {},
     "output_type": "execute_result"
    }
   ],
   "source": [
    "joining.strftime('%y-%m-%d')[:2]"
   ]
  },
  {
   "cell_type": "code",
   "execution_count": 69,
   "id": "71eb6c1e",
   "metadata": {},
   "outputs": [
    {
     "data": {
      "text/plain": [
       "'2052-08-28'"
      ]
     },
     "execution_count": 69,
     "metadata": {},
     "output_type": "execute_result"
    }
   ],
   "source": [
    "joining.strftime('%Y-%m-%d')"
   ]
  },
  {
   "cell_type": "code",
   "execution_count": 70,
   "id": "d67a5b9b",
   "metadata": {},
   "outputs": [
    {
     "data": {
      "text/plain": [
       "'2052-Aug-28'"
      ]
     },
     "execution_count": 70,
     "metadata": {},
     "output_type": "execute_result"
    }
   ],
   "source": [
    "joining.strftime('%Y-%b-%d')"
   ]
  },
  {
   "cell_type": "code",
   "execution_count": 72,
   "id": "dea5b181",
   "metadata": {},
   "outputs": [],
   "source": [
    "def my_sum(lb, ub, f):\n",
    "    total = 0\n",
    "    for e in range(lb, ub + 1):\n",
    "        total += f(e)\n",
    "    return total\n",
    "\n",
    "def i(n): return n\n",
    "def sqr(n): return n * n\n",
    "def cube(n): return n * n * n"
   ]
  },
  {
   "cell_type": "code",
   "execution_count": 73,
   "id": "06fa09c0",
   "metadata": {},
   "outputs": [
    {
     "data": {
      "text/plain": [
       "45"
      ]
     },
     "execution_count": 73,
     "metadata": {},
     "output_type": "execute_result"
    }
   ],
   "source": [
    "my_sum(5, 10, lambda n: n)"
   ]
  },
  {
   "cell_type": "code",
   "execution_count": 74,
   "id": "def36dfa",
   "metadata": {},
   "outputs": [
    {
     "data": {
      "text/plain": [
       "355"
      ]
     },
     "execution_count": 74,
     "metadata": {},
     "output_type": "execute_result"
    }
   ],
   "source": [
    "my_sum(5, 10, lambda n: n * n)"
   ]
  },
  {
   "cell_type": "code",
   "execution_count": 9,
   "id": "acefae06",
   "metadata": {},
   "outputs": [],
   "source": [
    "users = [\n",
    "    '1,Bryn,Eaken,beaken0@cbc.ca,Female,236.34.175.186',\n",
    "    '2,Smith,Combe,scombe1@xing.com,Male,',\n",
    "    '3,Roland,Wallentin,rwallentin2@aboutads.info,Male,94.67.195.44',\n",
    "    '4,Charlotta,Richten,crichten3@wikia.com,Female,202.51.201.1',\n",
    "    '5,Berne,Coyne,bcoyne4@squarespace.com,,150.246.120.53',\n",
    "    '6,Kesley,Hakonsen,khakonsen5@cbc.ca,Female,227.61.48.174',\n",
    "    \"7,Gray,M'Barron,gmbarron6@altervista.org,Male,190.128.200.183\",\n",
    "    '8,Melinde,Scarf,mscarf7@diigo.com,Female,134.41.141.5',\n",
    "    '9,Arturo,Warkup,awarkup8@nifty.com,Male,',\n",
    "    '10,Annette,Lowthorpe,alowthorpe9@marketwatch.com,Female,63.157.95.191',\n",
    "    '11,Melinda,McOwen,mmcowena@unblog.fr,Female,73.95.183.60',\n",
    "    '12,Minnie,Andrivel,mandrivelb@storify.com,,131.194.233.209',\n",
    "    '13,Taryn,Medhurst,tmedhurstc@ebay.co.uk,Female,65.191.102.59',\n",
    "    '14,Fanni,Whitley,fwhitleyd@who.int,Female,184.210.235.118',\n",
    "    '15,Jareb,Thunderchief,jthunderchiefe@arizona.edu,Male,150.159.27.112',\n",
    "    '16,Sharona,Haffard,shaffardf@kickstarter.com,Female,91.125.183.157',\n",
    "    '17,Pattin,Basant,pbasantg@gov.uk,Male,162.227.228.164',\n",
    "    '18,Beatrice,Butler,bbutlerh@abc.net.au,Female,139.49.169.236',\n",
    "    '19,Linoel,Bucktrout,lbucktrouti@google.ru,Male,18.17.136.105',\n",
    "    '20,Katee,Aveyard,kaveyardj@feedburner.com,Female,60.25.33.89'\n",
    "]"
   ]
  },
  {
   "cell_type": "code",
   "execution_count": 7,
   "id": "c120cb9d",
   "metadata": {},
   "outputs": [
    {
     "data": {
      "text/plain": [
       "[]"
      ]
     },
     "execution_count": 7,
     "metadata": {},
     "output_type": "execute_result"
    }
   ],
   "source": [
    "list(filter(lambda u: type(u.split(',')[5])==int,users))"
   ]
  },
  {
   "cell_type": "code",
   "execution_count": 11,
   "id": "cf274720",
   "metadata": {},
   "outputs": [
    {
     "data": {
      "text/plain": [
       "['2,Smith,Combe,scombe1@xing.com,Male,',\n",
       " '3,Roland,Wallentin,rwallentin2@aboutads.info,Male,94.67.195.44',\n",
       " \"7,Gray,M'Barron,gmbarron6@altervista.org,Male,190.128.200.183\",\n",
       " '9,Arturo,Warkup,awarkup8@nifty.com,Male,',\n",
       " '15,Jareb,Thunderchief,jthunderchiefe@arizona.edu,Male,150.159.27.112',\n",
       " '17,Pattin,Basant,pbasantg@gov.uk,Male,162.227.228.164',\n",
       " '19,Linoel,Bucktrout,lbucktrouti@google.ru,Male,18.17.136.105']"
      ]
     },
     "execution_count": 11,
     "metadata": {},
     "output_type": "execute_result"
    }
   ],
   "source": [
    "list(filter(lambda u: u.split(',')[4]=='Male',users))"
   ]
  },
  {
   "cell_type": "code",
   "execution_count": 12,
   "id": "261ece14",
   "metadata": {},
   "outputs": [
    {
     "data": {
      "text/plain": [
       "[(1, '236.34.175.186'),\n",
       " (2, ''),\n",
       " (3, '94.67.195.44'),\n",
       " (4, '202.51.201.1'),\n",
       " (5, '150.246.120.53'),\n",
       " (6, '227.61.48.174'),\n",
       " (7, '190.128.200.183'),\n",
       " (8, '134.41.141.5'),\n",
       " (9, ''),\n",
       " (10, '63.157.95.191'),\n",
       " (11, '73.95.183.60'),\n",
       " (12, '131.194.233.209'),\n",
       " (13, '65.191.102.59'),\n",
       " (14, '184.210.235.118'),\n",
       " (15, '150.159.27.112'),\n",
       " (16, '91.125.183.157'),\n",
       " (17, '162.227.228.164'),\n",
       " (18, '139.49.169.236'),\n",
       " (19, '18.17.136.105'),\n",
       " (20, '60.25.33.89')]"
      ]
     },
     "execution_count": 12,
     "metadata": {},
     "output_type": "execute_result"
    }
   ],
   "source": [
    "user_ips = map(\n",
    "    lambda user: (int(user.split(',')[0]), user.split(',')[-1]),\n",
    "    users\n",
    ")\n",
    "list(user_ips)"
   ]
  },
  {
   "cell_type": "code",
   "execution_count": null,
   "id": "2363c46e",
   "metadata": {},
   "outputs": [],
   "source": []
  },
  {
   "cell_type": "code",
   "execution_count": null,
   "id": "d16ed227",
   "metadata": {},
   "outputs": [],
   "source": []
  }
 ],
 "metadata": {
  "kernelspec": {
   "display_name": "Python 3 (ipykernel)",
   "language": "python",
   "name": "python3"
  },
  "language_info": {
   "codemirror_mode": {
    "name": "ipython",
    "version": 3
   },
   "file_extension": ".py",
   "mimetype": "text/x-python",
   "name": "python",
   "nbconvert_exporter": "python",
   "pygments_lexer": "ipython3",
   "version": "3.10.8"
  }
 },
 "nbformat": 4,
 "nbformat_minor": 5
}
