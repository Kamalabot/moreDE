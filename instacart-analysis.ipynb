{
 "cells": [
  {
   "cell_type": "markdown",
   "id": "2ab93327",
   "metadata": {
    "papermill": {
     "duration": 0.011672,
     "end_time": "2023-01-15T07:34:52.028806",
     "exception": false,
     "start_time": "2023-01-15T07:34:52.017134",
     "status": "completed"
    },
    "tags": []
   },
   "source": [
    "### Instacart Data Analysis\n",
    "\n",
    "This notebook is created as part of daily playbook practice. The note book contains data ingestion, to data analysis of the instacart dataset sources from Kaggle. \n",
    "\n"
   ]
  },
  {
   "cell_type": "code",
   "execution_count": 1,
   "id": "d53fdd7b",
   "metadata": {
    "_kg_hide-input": true,
    "_kg_hide-output": true,
    "execution": {
     "iopub.execute_input": "2023-01-15T07:34:52.054997Z",
     "iopub.status.busy": "2023-01-15T07:34:52.054262Z",
     "iopub.status.idle": "2023-01-15T07:34:52.100683Z",
     "shell.execute_reply": "2023-01-15T07:34:52.098873Z"
    },
    "papermill": {
     "duration": 0.063637,
     "end_time": "2023-01-15T07:34:52.103510",
     "exception": false,
     "start_time": "2023-01-15T07:34:52.039873",
     "status": "completed"
    },
    "tags": []
   },
   "outputs": [
    {
     "name": "stdout",
     "output_type": "stream",
     "text": [
      "aisles.csv\n",
      "departments.csv\n",
      "order_products__prior.csv\n",
      "order_products__train.csv\n",
      "orders.csv\n",
      "products.csv\n"
     ]
    }
   ],
   "source": [
    "%%sh \n",
    "cd /kaggle/input/d/psparks/instacart-market-basket-analysis\n",
    "ls"
   ]
  },
  {
   "cell_type": "code",
   "execution_count": 2,
   "id": "4a586df0",
   "metadata": {
    "execution": {
     "iopub.execute_input": "2023-01-15T07:34:52.127142Z",
     "iopub.status.busy": "2023-01-15T07:34:52.126727Z",
     "iopub.status.idle": "2023-01-15T07:34:52.132107Z",
     "shell.execute_reply": "2023-01-15T07:34:52.131304Z"
    },
    "papermill": {
     "duration": 0.019621,
     "end_time": "2023-01-15T07:34:52.134290",
     "exception": false,
     "start_time": "2023-01-15T07:34:52.114669",
     "status": "completed"
    },
    "tags": []
   },
   "outputs": [],
   "source": [
    "import pandas as pd\n",
    "import warnings \n",
    "warnings.filterwarnings(\"ignore\")"
   ]
  },
  {
   "cell_type": "code",
   "execution_count": 3,
   "id": "a641cce1",
   "metadata": {
    "execution": {
     "iopub.execute_input": "2023-01-15T07:34:52.158056Z",
     "iopub.status.busy": "2023-01-15T07:34:52.157209Z",
     "iopub.status.idle": "2023-01-15T07:34:52.161759Z",
     "shell.execute_reply": "2023-01-15T07:34:52.160912Z"
    },
    "papermill": {
     "duration": 0.018426,
     "end_time": "2023-01-15T07:34:52.163856",
     "exception": false,
     "start_time": "2023-01-15T07:34:52.145430",
     "status": "completed"
    },
    "tags": []
   },
   "outputs": [],
   "source": [
    "file_path=\"/kaggle/input/d/psparks/instacart-market-basket-analysis/\""
   ]
  },
  {
   "cell_type": "code",
   "execution_count": 4,
   "id": "bb5f482b",
   "metadata": {
    "_kg_hide-input": true,
    "_kg_hide-output": true,
    "execution": {
     "iopub.execute_input": "2023-01-15T07:34:52.187274Z",
     "iopub.status.busy": "2023-01-15T07:34:52.186502Z",
     "iopub.status.idle": "2023-01-15T07:34:52.242588Z",
     "shell.execute_reply": "2023-01-15T07:34:52.241196Z"
    },
    "papermill": {
     "duration": 0.070577,
     "end_time": "2023-01-15T07:34:52.244981",
     "exception": false,
     "start_time": "2023-01-15T07:34:52.174404",
     "status": "completed"
    },
    "tags": []
   },
   "outputs": [
    {
     "data": {
      "text/html": [
       "<div>\n",
       "<style scoped>\n",
       "    .dataframe tbody tr th:only-of-type {\n",
       "        vertical-align: middle;\n",
       "    }\n",
       "\n",
       "    .dataframe tbody tr th {\n",
       "        vertical-align: top;\n",
       "    }\n",
       "\n",
       "    .dataframe thead th {\n",
       "        text-align: right;\n",
       "    }\n",
       "</style>\n",
       "<table border=\"1\" class=\"dataframe\">\n",
       "  <thead>\n",
       "    <tr style=\"text-align: right;\">\n",
       "      <th></th>\n",
       "      <th>aisle_id</th>\n",
       "      <th>aisle</th>\n",
       "    </tr>\n",
       "  </thead>\n",
       "  <tbody>\n",
       "    <tr>\n",
       "      <th>count</th>\n",
       "      <td>134.0</td>\n",
       "      <td>134</td>\n",
       "    </tr>\n",
       "    <tr>\n",
       "      <th>unique</th>\n",
       "      <td>NaN</td>\n",
       "      <td>134</td>\n",
       "    </tr>\n",
       "  </tbody>\n",
       "</table>\n",
       "</div>"
      ],
      "text/plain": [
       "        aisle_id aisle\n",
       "count      134.0   134\n",
       "unique       NaN   134"
      ]
     },
     "execution_count": 4,
     "metadata": {},
     "output_type": "execute_result"
    }
   ],
   "source": [
    "aisles=pd.read_csv(file_path+\"aisles.csv\")\n",
    "aisles.describe(include='all').head(2)"
   ]
  },
  {
   "cell_type": "code",
   "execution_count": 5,
   "id": "eeac1015",
   "metadata": {
    "_kg_hide-input": true,
    "_kg_hide-output": true,
    "execution": {
     "iopub.execute_input": "2023-01-15T07:34:52.268597Z",
     "iopub.status.busy": "2023-01-15T07:34:52.268144Z",
     "iopub.status.idle": "2023-01-15T07:34:52.293540Z",
     "shell.execute_reply": "2023-01-15T07:34:52.292105Z"
    },
    "papermill": {
     "duration": 0.040296,
     "end_time": "2023-01-15T07:34:52.296172",
     "exception": false,
     "start_time": "2023-01-15T07:34:52.255876",
     "status": "completed"
    },
    "tags": []
   },
   "outputs": [
    {
     "data": {
      "text/html": [
       "<div>\n",
       "<style scoped>\n",
       "    .dataframe tbody tr th:only-of-type {\n",
       "        vertical-align: middle;\n",
       "    }\n",
       "\n",
       "    .dataframe tbody tr th {\n",
       "        vertical-align: top;\n",
       "    }\n",
       "\n",
       "    .dataframe thead th {\n",
       "        text-align: right;\n",
       "    }\n",
       "</style>\n",
       "<table border=\"1\" class=\"dataframe\">\n",
       "  <thead>\n",
       "    <tr style=\"text-align: right;\">\n",
       "      <th></th>\n",
       "      <th>department_id</th>\n",
       "      <th>department</th>\n",
       "    </tr>\n",
       "  </thead>\n",
       "  <tbody>\n",
       "    <tr>\n",
       "      <th>count</th>\n",
       "      <td>21.0</td>\n",
       "      <td>21</td>\n",
       "    </tr>\n",
       "    <tr>\n",
       "      <th>unique</th>\n",
       "      <td>NaN</td>\n",
       "      <td>21</td>\n",
       "    </tr>\n",
       "  </tbody>\n",
       "</table>\n",
       "</div>"
      ],
      "text/plain": [
       "        department_id department\n",
       "count            21.0         21\n",
       "unique            NaN         21"
      ]
     },
     "execution_count": 5,
     "metadata": {},
     "output_type": "execute_result"
    }
   ],
   "source": [
    "dept=pd.read_csv(file_path+\"departments.csv\")\n",
    "dept.describe(include='all').head(2)"
   ]
  },
  {
   "cell_type": "code",
   "execution_count": 6,
   "id": "82489cd9",
   "metadata": {
    "_kg_hide-input": true,
    "_kg_hide-output": true,
    "execution": {
     "iopub.execute_input": "2023-01-15T07:34:52.322876Z",
     "iopub.status.busy": "2023-01-15T07:34:52.321867Z",
     "iopub.status.idle": "2023-01-15T07:34:53.355268Z",
     "shell.execute_reply": "2023-01-15T07:34:53.354046Z"
    },
    "papermill": {
     "duration": 1.04973,
     "end_time": "2023-01-15T07:34:53.358029",
     "exception": false,
     "start_time": "2023-01-15T07:34:52.308299",
     "status": "completed"
    },
    "tags": []
   },
   "outputs": [
    {
     "data": {
      "text/html": [
       "<div>\n",
       "<style scoped>\n",
       "    .dataframe tbody tr th:only-of-type {\n",
       "        vertical-align: middle;\n",
       "    }\n",
       "\n",
       "    .dataframe tbody tr th {\n",
       "        vertical-align: top;\n",
       "    }\n",
       "\n",
       "    .dataframe thead th {\n",
       "        text-align: right;\n",
       "    }\n",
       "</style>\n",
       "<table border=\"1\" class=\"dataframe\">\n",
       "  <thead>\n",
       "    <tr style=\"text-align: right;\">\n",
       "      <th></th>\n",
       "      <th>order_id</th>\n",
       "      <th>product_id</th>\n",
       "      <th>add_to_cart_order</th>\n",
       "      <th>reordered</th>\n",
       "    </tr>\n",
       "  </thead>\n",
       "  <tbody>\n",
       "    <tr>\n",
       "      <th>count</th>\n",
       "      <td>1.384617e+06</td>\n",
       "      <td>1.384617e+06</td>\n",
       "      <td>1.384617e+06</td>\n",
       "      <td>1.384617e+06</td>\n",
       "    </tr>\n",
       "    <tr>\n",
       "      <th>mean</th>\n",
       "      <td>1.706298e+06</td>\n",
       "      <td>2.555624e+04</td>\n",
       "      <td>8.758044e+00</td>\n",
       "      <td>5.985944e-01</td>\n",
       "    </tr>\n",
       "  </tbody>\n",
       "</table>\n",
       "</div>"
      ],
      "text/plain": [
       "           order_id    product_id  add_to_cart_order     reordered\n",
       "count  1.384617e+06  1.384617e+06       1.384617e+06  1.384617e+06\n",
       "mean   1.706298e+06  2.555624e+04       8.758044e+00  5.985944e-01"
      ]
     },
     "execution_count": 6,
     "metadata": {},
     "output_type": "execute_result"
    }
   ],
   "source": [
    "order_train = pd.read_csv(file_path+\"order_products__train.csv\")\n",
    "order_train.describe(include='all').head(2)"
   ]
  },
  {
   "cell_type": "code",
   "execution_count": 7,
   "id": "3d388832",
   "metadata": {
    "_kg_hide-input": true,
    "_kg_hide-output": true,
    "execution": {
     "iopub.execute_input": "2023-01-15T07:34:53.382579Z",
     "iopub.status.busy": "2023-01-15T07:34:53.382131Z",
     "iopub.status.idle": "2023-01-15T07:35:11.467459Z",
     "shell.execute_reply": "2023-01-15T07:35:11.466272Z"
    },
    "papermill": {
     "duration": 18.101157,
     "end_time": "2023-01-15T07:35:11.470809",
     "exception": false,
     "start_time": "2023-01-15T07:34:53.369652",
     "status": "completed"
    },
    "tags": []
   },
   "outputs": [],
   "source": [
    "order_prior=pd.read_csv(file_path+\"order_products__prior.csv\")"
   ]
  },
  {
   "cell_type": "code",
   "execution_count": 8,
   "id": "47b4109e",
   "metadata": {
    "_kg_hide-input": true,
    "_kg_hide-output": true,
    "execution": {
     "iopub.execute_input": "2023-01-15T07:35:11.495753Z",
     "iopub.status.busy": "2023-01-15T07:35:11.494937Z",
     "iopub.status.idle": "2023-01-15T07:35:11.508399Z",
     "shell.execute_reply": "2023-01-15T07:35:11.506456Z"
    },
    "papermill": {
     "duration": 0.030419,
     "end_time": "2023-01-15T07:35:11.512787",
     "exception": false,
     "start_time": "2023-01-15T07:35:11.482368",
     "status": "completed"
    },
    "tags": []
   },
   "outputs": [
    {
     "data": {
      "text/html": [
       "<div>\n",
       "<style scoped>\n",
       "    .dataframe tbody tr th:only-of-type {\n",
       "        vertical-align: middle;\n",
       "    }\n",
       "\n",
       "    .dataframe tbody tr th {\n",
       "        vertical-align: top;\n",
       "    }\n",
       "\n",
       "    .dataframe thead th {\n",
       "        text-align: right;\n",
       "    }\n",
       "</style>\n",
       "<table border=\"1\" class=\"dataframe\">\n",
       "  <thead>\n",
       "    <tr style=\"text-align: right;\">\n",
       "      <th></th>\n",
       "      <th>order_id</th>\n",
       "      <th>product_id</th>\n",
       "      <th>add_to_cart_order</th>\n",
       "      <th>reordered</th>\n",
       "    </tr>\n",
       "  </thead>\n",
       "  <tbody>\n",
       "    <tr>\n",
       "      <th>0</th>\n",
       "      <td>2</td>\n",
       "      <td>33120</td>\n",
       "      <td>1</td>\n",
       "      <td>1</td>\n",
       "    </tr>\n",
       "    <tr>\n",
       "      <th>1</th>\n",
       "      <td>2</td>\n",
       "      <td>28985</td>\n",
       "      <td>2</td>\n",
       "      <td>1</td>\n",
       "    </tr>\n",
       "    <tr>\n",
       "      <th>2</th>\n",
       "      <td>2</td>\n",
       "      <td>9327</td>\n",
       "      <td>3</td>\n",
       "      <td>0</td>\n",
       "    </tr>\n",
       "    <tr>\n",
       "      <th>3</th>\n",
       "      <td>2</td>\n",
       "      <td>45918</td>\n",
       "      <td>4</td>\n",
       "      <td>1</td>\n",
       "    </tr>\n",
       "    <tr>\n",
       "      <th>4</th>\n",
       "      <td>2</td>\n",
       "      <td>30035</td>\n",
       "      <td>5</td>\n",
       "      <td>0</td>\n",
       "    </tr>\n",
       "  </tbody>\n",
       "</table>\n",
       "</div>"
      ],
      "text/plain": [
       "   order_id  product_id  add_to_cart_order  reordered\n",
       "0         2       33120                  1          1\n",
       "1         2       28985                  2          1\n",
       "2         2        9327                  3          0\n",
       "3         2       45918                  4          1\n",
       "4         2       30035                  5          0"
      ]
     },
     "execution_count": 8,
     "metadata": {},
     "output_type": "execute_result"
    }
   ],
   "source": [
    "order_prior.head()"
   ]
  },
  {
   "cell_type": "code",
   "execution_count": 9,
   "id": "d2cc6805",
   "metadata": {
    "_kg_hide-input": true,
    "_kg_hide-output": true,
    "execution": {
     "iopub.execute_input": "2023-01-15T07:35:11.540827Z",
     "iopub.status.busy": "2023-01-15T07:35:11.537886Z",
     "iopub.status.idle": "2023-01-15T07:35:15.122205Z",
     "shell.execute_reply": "2023-01-15T07:35:15.120886Z"
    },
    "papermill": {
     "duration": 3.599782,
     "end_time": "2023-01-15T07:35:15.124983",
     "exception": false,
     "start_time": "2023-01-15T07:35:11.525201",
     "status": "completed"
    },
    "tags": []
   },
   "outputs": [],
   "source": [
    "orders = pd.read_csv(file_path+\"orders.csv\")"
   ]
  },
  {
   "cell_type": "code",
   "execution_count": 10,
   "id": "b31d6a28",
   "metadata": {
    "_kg_hide-input": true,
    "_kg_hide-output": true,
    "execution": {
     "iopub.execute_input": "2023-01-15T07:35:15.149278Z",
     "iopub.status.busy": "2023-01-15T07:35:15.148882Z",
     "iopub.status.idle": "2023-01-15T07:35:16.069529Z",
     "shell.execute_reply": "2023-01-15T07:35:16.068384Z"
    },
    "papermill": {
     "duration": 0.935682,
     "end_time": "2023-01-15T07:35:16.071844",
     "exception": false,
     "start_time": "2023-01-15T07:35:15.136162",
     "status": "completed"
    },
    "tags": []
   },
   "outputs": [
    {
     "data": {
      "text/html": [
       "<div>\n",
       "<style scoped>\n",
       "    .dataframe tbody tr th:only-of-type {\n",
       "        vertical-align: middle;\n",
       "    }\n",
       "\n",
       "    .dataframe tbody tr th {\n",
       "        vertical-align: top;\n",
       "    }\n",
       "\n",
       "    .dataframe thead th {\n",
       "        text-align: right;\n",
       "    }\n",
       "</style>\n",
       "<table border=\"1\" class=\"dataframe\">\n",
       "  <thead>\n",
       "    <tr style=\"text-align: right;\">\n",
       "      <th></th>\n",
       "      <th>order_id</th>\n",
       "      <th>order_number</th>\n",
       "    </tr>\n",
       "  </thead>\n",
       "  <tbody>\n",
       "    <tr>\n",
       "      <th>1868044</th>\n",
       "      <td>1</td>\n",
       "      <td>4</td>\n",
       "    </tr>\n",
       "    <tr>\n",
       "      <th>3355525</th>\n",
       "      <td>2</td>\n",
       "      <td>3</td>\n",
       "    </tr>\n",
       "    <tr>\n",
       "      <th>3417191</th>\n",
       "      <td>3</td>\n",
       "      <td>16</td>\n",
       "    </tr>\n",
       "    <tr>\n",
       "      <th>2958007</th>\n",
       "      <td>4</td>\n",
       "      <td>36</td>\n",
       "    </tr>\n",
       "    <tr>\n",
       "      <th>2593373</th>\n",
       "      <td>5</td>\n",
       "      <td>42</td>\n",
       "    </tr>\n",
       "    <tr>\n",
       "      <th>...</th>\n",
       "      <td>...</td>\n",
       "      <td>...</td>\n",
       "    </tr>\n",
       "    <tr>\n",
       "      <th>1809968</th>\n",
       "      <td>3421079</td>\n",
       "      <td>6</td>\n",
       "    </tr>\n",
       "    <tr>\n",
       "      <th>877324</th>\n",
       "      <td>3421080</td>\n",
       "      <td>2</td>\n",
       "    </tr>\n",
       "    <tr>\n",
       "      <th>1949724</th>\n",
       "      <td>3421081</td>\n",
       "      <td>1</td>\n",
       "    </tr>\n",
       "    <tr>\n",
       "      <th>2903252</th>\n",
       "      <td>3421082</td>\n",
       "      <td>23</td>\n",
       "    </tr>\n",
       "    <tr>\n",
       "      <th>419472</th>\n",
       "      <td>3421083</td>\n",
       "      <td>24</td>\n",
       "    </tr>\n",
       "  </tbody>\n",
       "</table>\n",
       "<p>3421083 rows × 2 columns</p>\n",
       "</div>"
      ],
      "text/plain": [
       "         order_id  order_number\n",
       "1868044         1             4\n",
       "3355525         2             3\n",
       "3417191         3            16\n",
       "2958007         4            36\n",
       "2593373         5            42\n",
       "...           ...           ...\n",
       "1809968   3421079             6\n",
       "877324    3421080             2\n",
       "1949724   3421081             1\n",
       "2903252   3421082            23\n",
       "419472    3421083            24\n",
       "\n",
       "[3421083 rows x 2 columns]"
      ]
     },
     "execution_count": 10,
     "metadata": {},
     "output_type": "execute_result"
    }
   ],
   "source": [
    "orders[[\"order_id\",\"order_number\"]].sort_values(by=\"order_id\",ascending=True)"
   ]
  },
  {
   "cell_type": "markdown",
   "id": "d3b7f755",
   "metadata": {
    "papermill": {
     "duration": 0.011004,
     "end_time": "2023-01-15T07:35:16.094640",
     "exception": false,
     "start_time": "2023-01-15T07:35:16.083636",
     "status": "completed"
    },
    "tags": []
   },
   "source": [
    "Seems like the order_train and order_prior data have mutually exclusive info when it \n",
    "comes to the order_id details. "
   ]
  },
  {
   "cell_type": "code",
   "execution_count": 11,
   "id": "206cc059",
   "metadata": {
    "_kg_hide-input": true,
    "_kg_hide-output": true,
    "execution": {
     "iopub.execute_input": "2023-01-15T07:35:16.118843Z",
     "iopub.status.busy": "2023-01-15T07:35:16.118472Z",
     "iopub.status.idle": "2023-01-15T07:35:16.274679Z",
     "shell.execute_reply": "2023-01-15T07:35:16.273790Z"
    },
    "papermill": {
     "duration": 0.171279,
     "end_time": "2023-01-15T07:35:16.277283",
     "exception": false,
     "start_time": "2023-01-15T07:35:16.106004",
     "status": "completed"
    },
    "tags": []
   },
   "outputs": [
    {
     "data": {
      "text/html": [
       "<div>\n",
       "<style scoped>\n",
       "    .dataframe tbody tr th:only-of-type {\n",
       "        vertical-align: middle;\n",
       "    }\n",
       "\n",
       "    .dataframe tbody tr th {\n",
       "        vertical-align: top;\n",
       "    }\n",
       "\n",
       "    .dataframe thead th {\n",
       "        text-align: right;\n",
       "    }\n",
       "</style>\n",
       "<table border=\"1\" class=\"dataframe\">\n",
       "  <thead>\n",
       "    <tr style=\"text-align: right;\">\n",
       "      <th></th>\n",
       "      <th>product_id</th>\n",
       "      <th>product_name</th>\n",
       "      <th>aisle_id</th>\n",
       "      <th>department_id</th>\n",
       "    </tr>\n",
       "  </thead>\n",
       "  <tbody>\n",
       "    <tr>\n",
       "      <th>count</th>\n",
       "      <td>49688.0</td>\n",
       "      <td>49688</td>\n",
       "      <td>49688.0</td>\n",
       "      <td>49688.0</td>\n",
       "    </tr>\n",
       "    <tr>\n",
       "      <th>unique</th>\n",
       "      <td>NaN</td>\n",
       "      <td>49688</td>\n",
       "      <td>NaN</td>\n",
       "      <td>NaN</td>\n",
       "    </tr>\n",
       "  </tbody>\n",
       "</table>\n",
       "</div>"
      ],
      "text/plain": [
       "        product_id product_name  aisle_id  department_id\n",
       "count      49688.0        49688   49688.0        49688.0\n",
       "unique         NaN        49688       NaN            NaN"
      ]
     },
     "execution_count": 11,
     "metadata": {},
     "output_type": "execute_result"
    }
   ],
   "source": [
    "products = pd.read_csv(file_path+\"products.csv\")\n",
    "products.describe(include='all').head(2)"
   ]
  },
  {
   "cell_type": "markdown",
   "id": "668d59af",
   "metadata": {
    "papermill": {
     "duration": 0.015264,
     "end_time": "2023-01-15T07:35:16.304734",
     "exception": false,
     "start_time": "2023-01-15T07:35:16.289470",
     "status": "completed"
    },
    "tags": []
   },
   "source": [
    "Datasets Information:\n",
    "\n",
    "The datamodel is like the hub n spoke model. Multiple fact tables\n",
    "are taking care of different facts.These facts can be joined to \n",
    "create one_table\n",
    "\n",
    "Fact tables and their keys:\n",
    "1) products : product_id, aisle_id, department_id\n",
    "2) orders : order_id, user_id\n",
    "3) order_prior : order_id, product_id"
   ]
  },
  {
   "cell_type": "code",
   "execution_count": 12,
   "id": "6017d0b3",
   "metadata": {
    "execution": {
     "iopub.execute_input": "2023-01-15T07:35:16.336601Z",
     "iopub.status.busy": "2023-01-15T07:35:16.334637Z",
     "iopub.status.idle": "2023-01-15T07:35:17.541317Z",
     "shell.execute_reply": "2023-01-15T07:35:17.540005Z"
    },
    "papermill": {
     "duration": 1.227271,
     "end_time": "2023-01-15T07:35:17.544209",
     "exception": false,
     "start_time": "2023-01-15T07:35:16.316938",
     "status": "completed"
    },
    "tags": []
   },
   "outputs": [],
   "source": [
    "import seaborn as sns"
   ]
  },
  {
   "cell_type": "code",
   "execution_count": 13,
   "id": "a0972234",
   "metadata": {
    "execution": {
     "iopub.execute_input": "2023-01-15T07:35:17.569601Z",
     "iopub.status.busy": "2023-01-15T07:35:17.568983Z",
     "iopub.status.idle": "2023-01-15T07:35:17.574086Z",
     "shell.execute_reply": "2023-01-15T07:35:17.573308Z"
    },
    "papermill": {
     "duration": 0.020505,
     "end_time": "2023-01-15T07:35:17.576368",
     "exception": false,
     "start_time": "2023-01-15T07:35:17.555863",
     "status": "completed"
    },
    "tags": []
   },
   "outputs": [],
   "source": [
    "sns.set(rc={'figure.figsize':(15,8)})"
   ]
  },
  {
   "cell_type": "code",
   "execution_count": 14,
   "id": "d3c0585d",
   "metadata": {
    "execution": {
     "iopub.execute_input": "2023-01-15T07:35:17.601589Z",
     "iopub.status.busy": "2023-01-15T07:35:17.600930Z",
     "iopub.status.idle": "2023-01-15T07:35:17.612689Z",
     "shell.execute_reply": "2023-01-15T07:35:17.611554Z"
    },
    "papermill": {
     "duration": 0.027255,
     "end_time": "2023-01-15T07:35:17.615176",
     "exception": false,
     "start_time": "2023-01-15T07:35:17.587921",
     "status": "completed"
    },
    "tags": []
   },
   "outputs": [
    {
     "data": {
      "text/html": [
       "<div>\n",
       "<style scoped>\n",
       "    .dataframe tbody tr th:only-of-type {\n",
       "        vertical-align: middle;\n",
       "    }\n",
       "\n",
       "    .dataframe tbody tr th {\n",
       "        vertical-align: top;\n",
       "    }\n",
       "\n",
       "    .dataframe thead th {\n",
       "        text-align: right;\n",
       "    }\n",
       "</style>\n",
       "<table border=\"1\" class=\"dataframe\">\n",
       "  <thead>\n",
       "    <tr style=\"text-align: right;\">\n",
       "      <th></th>\n",
       "      <th>Aisles</th>\n",
       "      <th>Dept</th>\n",
       "      <th>ProductsPerDpt</th>\n",
       "      <th>ProductsPerAisle</th>\n",
       "    </tr>\n",
       "  </thead>\n",
       "  <tbody>\n",
       "    <tr>\n",
       "      <th>0</th>\n",
       "      <td>134</td>\n",
       "      <td>21</td>\n",
       "      <td>2366.095238</td>\n",
       "      <td>370.80597</td>\n",
       "    </tr>\n",
       "  </tbody>\n",
       "</table>\n",
       "</div>"
      ],
      "text/plain": [
       "   Aisles  Dept  ProductsPerDpt  ProductsPerAisle\n",
       "0     134    21     2366.095238         370.80597"
      ]
     },
     "execution_count": 14,
     "metadata": {},
     "output_type": "execute_result"
    }
   ],
   "source": [
    "#start with the counts of individual tables\n",
    "tableCounts = pd.DataFrame({'Aisles':[134],\n",
    "'Dept': [21],\n",
    "'ProductsPerDpt':[49688/21],\n",
    "'ProductsPerAisle':[49688/134]})\n",
    "tableCounts"
   ]
  },
  {
   "cell_type": "code",
   "execution_count": 15,
   "id": "ee4d1058",
   "metadata": {
    "execution": {
     "iopub.execute_input": "2023-01-15T07:35:17.640144Z",
     "iopub.status.busy": "2023-01-15T07:35:17.639758Z",
     "iopub.status.idle": "2023-01-15T07:35:17.647117Z",
     "shell.execute_reply": "2023-01-15T07:35:17.646172Z"
    },
    "papermill": {
     "duration": 0.02235,
     "end_time": "2023-01-15T07:35:17.649200",
     "exception": false,
     "start_time": "2023-01-15T07:35:17.626850",
     "status": "completed"
    },
    "tags": []
   },
   "outputs": [],
   "source": [
    "tableCounts = tableCounts.transpose().reset_index()\n",
    "tableCounts.columns = ['feature','count']"
   ]
  },
  {
   "cell_type": "code",
   "execution_count": 16,
   "id": "d5d6ad1c",
   "metadata": {
    "execution": {
     "iopub.execute_input": "2023-01-15T07:35:17.674855Z",
     "iopub.status.busy": "2023-01-15T07:35:17.674134Z",
     "iopub.status.idle": "2023-01-15T07:35:17.965822Z",
     "shell.execute_reply": "2023-01-15T07:35:17.964614Z"
    },
    "papermill": {
     "duration": 0.307345,
     "end_time": "2023-01-15T07:35:17.968347",
     "exception": false,
     "start_time": "2023-01-15T07:35:17.661002",
     "status": "completed"
    },
    "tags": []
   },
   "outputs": [
    {
     "data": {
      "text/plain": [
       "<AxesSubplot:xlabel='feature', ylabel='count'>"
      ]
     },
     "execution_count": 16,
     "metadata": {},
     "output_type": "execute_result"
    },
    {
     "data": {
      "image/png": "[encoded data removed]",
      "text/plain": [
       "<Figure size 1080x576 with 1 Axes>"
      ]
     },
     "metadata": {},
     "output_type": "display_data"
    }
   ],
   "source": [
    "#This plot is based on manual calculations\n",
    "sns.barplot(data=tableCounts,x='feature',y='count')"
   ]
  },
  {
   "cell_type": "markdown",
   "id": "5f4a261e",
   "metadata": {
    "papermill": {
     "duration": 0.012324,
     "end_time": "2023-01-15T07:35:17.992911",
     "exception": false,
     "start_time": "2023-01-15T07:35:17.980587",
     "status": "completed"
    },
    "tags": []
   },
   "source": [
    "Products or the Orders fact tables can be targeted for the data \n",
    "analysis. "
   ]
  },
  {
   "cell_type": "code",
   "execution_count": 17,
   "id": "d3533def",
   "metadata": {
    "_kg_hide-input": true,
    "execution": {
     "iopub.execute_input": "2023-01-15T07:35:18.019819Z",
     "iopub.status.busy": "2023-01-15T07:35:18.018812Z",
     "iopub.status.idle": "2023-01-15T07:35:18.033053Z",
     "shell.execute_reply": "2023-01-15T07:35:18.032169Z"
    },
    "papermill": {
     "duration": 0.030554,
     "end_time": "2023-01-15T07:35:18.035726",
     "exception": false,
     "start_time": "2023-01-15T07:35:18.005172",
     "status": "completed"
    },
    "tags": []
   },
   "outputs": [],
   "source": [
    "products_aisles = products.groupby('aisle_id').count()"
   ]
  },
  {
   "cell_type": "code",
   "execution_count": 18,
   "id": "9628ab8b",
   "metadata": {
    "execution": {
     "iopub.execute_input": "2023-01-15T07:35:18.062265Z",
     "iopub.status.busy": "2023-01-15T07:35:18.061474Z",
     "iopub.status.idle": "2023-01-15T07:35:18.068644Z",
     "shell.execute_reply": "2023-01-15T07:35:18.067668Z"
    },
    "papermill": {
     "duration": 0.023281,
     "end_time": "2023-01-15T07:35:18.071050",
     "exception": false,
     "start_time": "2023-01-15T07:35:18.047769",
     "status": "completed"
    },
    "tags": []
   },
   "outputs": [],
   "source": [
    "products_aisles.sort_values(by='product_name',\n",
    "                            ascending=False,inplace=True)\n",
    "crowded_aisles = products_aisles[products_aisles.product_id > 800]"
   ]
  },
  {
   "cell_type": "code",
   "execution_count": 19,
   "id": "4fc1dbd8",
   "metadata": {
    "execution": {
     "iopub.execute_input": "2023-01-15T07:35:18.097587Z",
     "iopub.status.busy": "2023-01-15T07:35:18.096837Z",
     "iopub.status.idle": "2023-01-15T07:35:18.121401Z",
     "shell.execute_reply": "2023-01-15T07:35:18.120463Z"
    },
    "papermill": {
     "duration": 0.040884,
     "end_time": "2023-01-15T07:35:18.124087",
     "exception": false,
     "start_time": "2023-01-15T07:35:18.083203",
     "status": "completed"
    },
    "tags": []
   },
   "outputs": [],
   "source": [
    "crowded_aisles = pd.pivot_table(data=crowded_aisles,values=['product_id'],columns=['aisle_id'])"
   ]
  },
  {
   "cell_type": "code",
   "execution_count": 20,
   "id": "f1144959",
   "metadata": {
    "execution": {
     "iopub.execute_input": "2023-01-15T07:35:18.150311Z",
     "iopub.status.busy": "2023-01-15T07:35:18.149844Z",
     "iopub.status.idle": "2023-01-15T07:35:18.156436Z",
     "shell.execute_reply": "2023-01-15T07:35:18.155018Z"
    },
    "papermill": {
     "duration": 0.022814,
     "end_time": "2023-01-15T07:35:18.159097",
     "exception": false,
     "start_time": "2023-01-15T07:35:18.136283",
     "status": "completed"
    },
    "tags": []
   },
   "outputs": [],
   "source": [
    "crowded_aisles=crowded_aisles.transpose().reset_index()"
   ]
  },
  {
   "cell_type": "code",
   "execution_count": 21,
   "id": "a4499330",
   "metadata": {
    "execution": {
     "iopub.execute_input": "2023-01-15T07:35:18.185143Z",
     "iopub.status.busy": "2023-01-15T07:35:18.184728Z",
     "iopub.status.idle": "2023-01-15T07:35:18.196796Z",
     "shell.execute_reply": "2023-01-15T07:35:18.195522Z"
    },
    "papermill": {
     "duration": 0.028,
     "end_time": "2023-01-15T07:35:18.199312",
     "exception": false,
     "start_time": "2023-01-15T07:35:18.171312",
     "status": "completed"
    },
    "tags": []
   },
   "outputs": [
    {
     "data": {
      "text/html": [
       "<div>\n",
       "<style scoped>\n",
       "    .dataframe tbody tr th:only-of-type {\n",
       "        vertical-align: middle;\n",
       "    }\n",
       "\n",
       "    .dataframe tbody tr th {\n",
       "        vertical-align: top;\n",
       "    }\n",
       "\n",
       "    .dataframe thead th {\n",
       "        text-align: right;\n",
       "    }\n",
       "</style>\n",
       "<table border=\"1\" class=\"dataframe\">\n",
       "  <thead>\n",
       "    <tr style=\"text-align: right;\">\n",
       "      <th></th>\n",
       "      <th>aisle_id</th>\n",
       "      <th>product_id</th>\n",
       "    </tr>\n",
       "  </thead>\n",
       "  <tbody>\n",
       "    <tr>\n",
       "      <th>0</th>\n",
       "      <td>3</td>\n",
       "      <td>832</td>\n",
       "    </tr>\n",
       "    <tr>\n",
       "      <th>1</th>\n",
       "      <td>21</td>\n",
       "      <td>891</td>\n",
       "    </tr>\n",
       "    <tr>\n",
       "      <th>2</th>\n",
       "      <td>22</td>\n",
       "      <td>816</td>\n",
       "    </tr>\n",
       "    <tr>\n",
       "      <th>3</th>\n",
       "      <td>37</td>\n",
       "      <td>1091</td>\n",
       "    </tr>\n",
       "    <tr>\n",
       "      <th>4</th>\n",
       "      <td>38</td>\n",
       "      <td>880</td>\n",
       "    </tr>\n",
       "    <tr>\n",
       "      <th>5</th>\n",
       "      <td>45</td>\n",
       "      <td>1246</td>\n",
       "    </tr>\n",
       "    <tr>\n",
       "      <th>6</th>\n",
       "      <td>47</td>\n",
       "      <td>1038</td>\n",
       "    </tr>\n",
       "    <tr>\n",
       "      <th>7</th>\n",
       "      <td>61</td>\n",
       "      <td>874</td>\n",
       "    </tr>\n",
       "    <tr>\n",
       "      <th>8</th>\n",
       "      <td>94</td>\n",
       "      <td>894</td>\n",
       "    </tr>\n",
       "    <tr>\n",
       "      <th>9</th>\n",
       "      <td>100</td>\n",
       "      <td>1258</td>\n",
       "    </tr>\n",
       "    <tr>\n",
       "      <th>10</th>\n",
       "      <td>107</td>\n",
       "      <td>989</td>\n",
       "    </tr>\n",
       "    <tr>\n",
       "      <th>11</th>\n",
       "      <td>120</td>\n",
       "      <td>1026</td>\n",
       "    </tr>\n",
       "  </tbody>\n",
       "</table>\n",
       "</div>"
      ],
      "text/plain": [
       "    aisle_id  product_id\n",
       "0          3         832\n",
       "1         21         891\n",
       "2         22         816\n",
       "3         37        1091\n",
       "4         38         880\n",
       "5         45        1246\n",
       "6         47        1038\n",
       "7         61         874\n",
       "8         94         894\n",
       "9        100        1258\n",
       "10       107         989\n",
       "11       120        1026"
      ]
     },
     "execution_count": 21,
     "metadata": {},
     "output_type": "execute_result"
    }
   ],
   "source": [
    "crowded_aisles"
   ]
  },
  {
   "cell_type": "code",
   "execution_count": 22,
   "id": "5d641a40",
   "metadata": {
    "execution": {
     "iopub.execute_input": "2023-01-15T07:35:18.226507Z",
     "iopub.status.busy": "2023-01-15T07:35:18.225780Z",
     "iopub.status.idle": "2023-01-15T07:35:18.571445Z",
     "shell.execute_reply": "2023-01-15T07:35:18.570302Z"
    },
    "papermill": {
     "duration": 0.362094,
     "end_time": "2023-01-15T07:35:18.573886",
     "exception": false,
     "start_time": "2023-01-15T07:35:18.211792",
     "status": "completed"
    },
    "tags": []
   },
   "outputs": [
    {
     "data": {
      "text/plain": [
       "<AxesSubplot:xlabel='aisle_id', ylabel='product_id'>"
      ]
     },
     "execution_count": 22,
     "metadata": {},
     "output_type": "execute_result"
    },
    {
     "data": {
      "image/png": "[encoded data removed]",
      "text/plain": [
       "<Figure size 1080x576 with 1 Axes>"
      ]
     },
     "metadata": {},
     "output_type": "display_data"
    }
   ],
   "source": [
    "sns.barplot(data=crowded_aisles,x='aisle_id',y='product_id')"
   ]
  },
  {
   "cell_type": "code",
   "execution_count": 23,
   "id": "40242c44",
   "metadata": {
    "execution": {
     "iopub.execute_input": "2023-01-15T07:35:18.601673Z",
     "iopub.status.busy": "2023-01-15T07:35:18.601196Z",
     "iopub.status.idle": "2023-01-15T07:35:18.616165Z",
     "shell.execute_reply": "2023-01-15T07:35:18.614553Z"
    },
    "papermill": {
     "duration": 0.031668,
     "end_time": "2023-01-15T07:35:18.618569",
     "exception": false,
     "start_time": "2023-01-15T07:35:18.586901",
     "status": "completed"
    },
    "tags": []
   },
   "outputs": [],
   "source": [
    "free_aisles = products_aisles[products_aisles.product_id < 200]\n",
    "free_aisles.sort_values(by='product_id',ascending=False,inplace=True)\n",
    "free_aisles = pd.pivot_table(data=free_aisles,values=['product_id'],columns=['aisle_id'])"
   ]
  },
  {
   "cell_type": "code",
   "execution_count": 24,
   "id": "4cbeada8",
   "metadata": {
    "execution": {
     "iopub.execute_input": "2023-01-15T07:35:18.645852Z",
     "iopub.status.busy": "2023-01-15T07:35:18.645027Z",
     "iopub.status.idle": "2023-01-15T07:35:18.655927Z",
     "shell.execute_reply": "2023-01-15T07:35:18.654900Z"
    },
    "papermill": {
     "duration": 0.027186,
     "end_time": "2023-01-15T07:35:18.658341",
     "exception": false,
     "start_time": "2023-01-15T07:35:18.631155",
     "status": "completed"
    },
    "tags": []
   },
   "outputs": [
    {
     "data": {
      "text/html": [
       "<div>\n",
       "<style scoped>\n",
       "    .dataframe tbody tr th:only-of-type {\n",
       "        vertical-align: middle;\n",
       "    }\n",
       "\n",
       "    .dataframe tbody tr th {\n",
       "        vertical-align: top;\n",
       "    }\n",
       "\n",
       "    .dataframe thead th {\n",
       "        text-align: right;\n",
       "    }\n",
       "</style>\n",
       "<table border=\"1\" class=\"dataframe\">\n",
       "  <thead>\n",
       "    <tr style=\"text-align: right;\">\n",
       "      <th></th>\n",
       "      <th>aisle_id</th>\n",
       "      <th>product_id</th>\n",
       "    </tr>\n",
       "  </thead>\n",
       "  <tbody>\n",
       "    <tr>\n",
       "      <th>0</th>\n",
       "      <td>1</td>\n",
       "      <td>146</td>\n",
       "    </tr>\n",
       "    <tr>\n",
       "      <th>1</th>\n",
       "      <td>7</td>\n",
       "      <td>100</td>\n",
       "    </tr>\n",
       "    <tr>\n",
       "      <th>2</th>\n",
       "      <td>12</td>\n",
       "      <td>123</td>\n",
       "    </tr>\n",
       "    <tr>\n",
       "      <th>3</th>\n",
       "      <td>14</td>\n",
       "      <td>159</td>\n",
       "    </tr>\n",
       "    <tr>\n",
       "      <th>4</th>\n",
       "      <td>15</td>\n",
       "      <td>80</td>\n",
       "    </tr>\n",
       "  </tbody>\n",
       "</table>\n",
       "</div>"
      ],
      "text/plain": [
       "   aisle_id  product_id\n",
       "0         1         146\n",
       "1         7         100\n",
       "2        12         123\n",
       "3        14         159\n",
       "4        15          80"
      ]
     },
     "execution_count": 24,
     "metadata": {},
     "output_type": "execute_result"
    }
   ],
   "source": [
    "free_aisles = free_aisles.transpose().reset_index()\n",
    "free_aisles.head(5)"
   ]
  },
  {
   "cell_type": "code",
   "execution_count": 25,
   "id": "2d92c8cd",
   "metadata": {
    "execution": {
     "iopub.execute_input": "2023-01-15T07:35:18.686763Z",
     "iopub.status.busy": "2023-01-15T07:35:18.685668Z",
     "iopub.status.idle": "2023-01-15T07:35:19.440552Z",
     "shell.execute_reply": "2023-01-15T07:35:19.439291Z"
    },
    "papermill": {
     "duration": 0.771933,
     "end_time": "2023-01-15T07:35:19.443223",
     "exception": false,
     "start_time": "2023-01-15T07:35:18.671290",
     "status": "completed"
    },
    "tags": []
   },
   "outputs": [
    {
     "data": {
      "text/plain": [
       "<AxesSubplot:xlabel='aisle_id', ylabel='product_id'>"
      ]
     },
     "execution_count": 25,
     "metadata": {},
     "output_type": "execute_result"
    },
    {
     "data": {
      "image/png": "[encoded data removed]",
      "text/plain": [
       "<Figure size 1080x576 with 1 Axes>"
      ]
     },
     "metadata": {},
     "output_type": "display_data"
    }
   ],
   "source": [
    "sns.barplot(data=free_aisles,x='aisle_id',y='product_id')"
   ]
  },
  {
   "cell_type": "code",
   "execution_count": 26,
   "id": "e7bd00e5",
   "metadata": {
    "execution": {
     "iopub.execute_input": "2023-01-15T07:35:19.472191Z",
     "iopub.status.busy": "2023-01-15T07:35:19.471772Z",
     "iopub.status.idle": "2023-01-15T07:35:19.484379Z",
     "shell.execute_reply": "2023-01-15T07:35:19.483476Z"
    },
    "papermill": {
     "duration": 0.029978,
     "end_time": "2023-01-15T07:35:19.487031",
     "exception": false,
     "start_time": "2023-01-15T07:35:19.457053",
     "status": "completed"
    },
    "tags": []
   },
   "outputs": [],
   "source": [
    "department_counts = products.groupby('department_id').count()\n",
    "department_counts.sort_values(by='product_id',\n",
    "                              ascending=False, inplace=True)"
   ]
  },
  {
   "cell_type": "code",
   "execution_count": 27,
   "id": "23033b5f",
   "metadata": {
    "execution": {
     "iopub.execute_input": "2023-01-15T07:35:19.516478Z",
     "iopub.status.busy": "2023-01-15T07:35:19.515694Z",
     "iopub.status.idle": "2023-01-15T07:35:19.880763Z",
     "shell.execute_reply": "2023-01-15T07:35:19.879647Z"
    },
    "papermill": {
     "duration": 0.382905,
     "end_time": "2023-01-15T07:35:19.883674",
     "exception": false,
     "start_time": "2023-01-15T07:35:19.500769",
     "status": "completed"
    },
    "tags": []
   },
   "outputs": [
    {
     "data": {
      "text/plain": [
       "<AxesSubplot:xlabel='department_id', ylabel='product_id'>"
      ]
     },
     "execution_count": 27,
     "metadata": {},
     "output_type": "execute_result"
    },
    {
     "data": {
      "image/png": "[encoded data removed]",
      "text/plain": [
       "<Figure size 1080x576 with 1 Axes>"
      ]
     },
     "metadata": {},
     "output_type": "display_data"
    }
   ],
   "source": [
    "sns.lineplot(data=department_counts,x='department_id',\n",
    "             y='product_id')"
   ]
  },
  {
   "cell_type": "markdown",
   "id": "d5dcc0a1",
   "metadata": {
    "papermill": {
     "duration": 0.014132,
     "end_time": "2023-01-15T07:35:19.912517",
     "exception": false,
     "start_time": "2023-01-15T07:35:19.898385",
     "status": "completed"
    },
    "tags": []
   },
   "source": [
    "Shifting our focus to the orders dataset to understand \n",
    "\n",
    "- Which product is ordered the most\n",
    "\n",
    "- which aisle has most orders\n",
    "\n",
    "There are 3.4 million orders in the datasets. If you groupby the user_id, and count there are 206k+ users. \n",
    "\n",
    "Initially I thought that one of the user will have maximum orders. After analysing the data, found something different."
   ]
  },
  {
   "cell_type": "code",
   "execution_count": 28,
   "id": "39e48da4",
   "metadata": {
    "execution": {
     "iopub.execute_input": "2023-01-15T07:35:19.944339Z",
     "iopub.status.busy": "2023-01-15T07:35:19.943137Z",
     "iopub.status.idle": "2023-01-15T07:35:20.116577Z",
     "shell.execute_reply": "2023-01-15T07:35:20.115581Z"
    },
    "papermill": {
     "duration": 0.19188,
     "end_time": "2023-01-15T07:35:20.118980",
     "exception": false,
     "start_time": "2023-01-15T07:35:19.927100",
     "status": "completed"
    },
    "tags": []
   },
   "outputs": [
    {
     "data": {
      "text/html": [
       "<div>\n",
       "<style scoped>\n",
       "    .dataframe tbody tr th:only-of-type {\n",
       "        vertical-align: middle;\n",
       "    }\n",
       "\n",
       "    .dataframe tbody tr th {\n",
       "        vertical-align: top;\n",
       "    }\n",
       "\n",
       "    .dataframe thead th {\n",
       "        text-align: right;\n",
       "    }\n",
       "</style>\n",
       "<table border=\"1\" class=\"dataframe\">\n",
       "  <thead>\n",
       "    <tr style=\"text-align: right;\">\n",
       "      <th></th>\n",
       "      <th>user_id</th>\n",
       "      <th>order_id</th>\n",
       "    </tr>\n",
       "  </thead>\n",
       "  <tbody>\n",
       "    <tr>\n",
       "      <th>0</th>\n",
       "      <td>152340</td>\n",
       "      <td>100</td>\n",
       "    </tr>\n",
       "    <tr>\n",
       "      <th>1</th>\n",
       "      <td>185641</td>\n",
       "      <td>100</td>\n",
       "    </tr>\n",
       "    <tr>\n",
       "      <th>2</th>\n",
       "      <td>185524</td>\n",
       "      <td>100</td>\n",
       "    </tr>\n",
       "    <tr>\n",
       "      <th>3</th>\n",
       "      <td>81678</td>\n",
       "      <td>100</td>\n",
       "    </tr>\n",
       "    <tr>\n",
       "      <th>4</th>\n",
       "      <td>70922</td>\n",
       "      <td>100</td>\n",
       "    </tr>\n",
       "  </tbody>\n",
       "</table>\n",
       "</div>"
      ],
      "text/plain": [
       "   user_id  order_id\n",
       "0   152340       100\n",
       "1   185641       100\n",
       "2   185524       100\n",
       "3    81678       100\n",
       "4    70922       100"
      ]
     },
     "execution_count": 28,
     "metadata": {},
     "output_type": "execute_result"
    }
   ],
   "source": [
    "#There are 3.4 Million orders\n",
    "\n",
    "order_user = orders[['order_id','user_id']].groupby('user_id').count()\n",
    "order_user.sort_values(by='order_id',ascending=False,inplace=True)\n",
    "order_user.reset_index(inplace=True)\n",
    "order_user.head(5)"
   ]
  },
  {
   "cell_type": "code",
   "execution_count": 29,
   "id": "04dde71d",
   "metadata": {
    "execution": {
     "iopub.execute_input": "2023-01-15T07:35:20.150341Z",
     "iopub.status.busy": "2023-01-15T07:35:20.149656Z",
     "iopub.status.idle": "2023-01-15T07:35:20.189530Z",
     "shell.execute_reply": "2023-01-15T07:35:20.188410Z"
    },
    "papermill": {
     "duration": 0.058143,
     "end_time": "2023-01-15T07:35:20.191952",
     "exception": false,
     "start_time": "2023-01-15T07:35:20.133809",
     "status": "completed"
    },
    "tags": []
   },
   "outputs": [
    {
     "data": {
      "text/html": [
       "<div>\n",
       "<style scoped>\n",
       "    .dataframe tbody tr th:only-of-type {\n",
       "        vertical-align: middle;\n",
       "    }\n",
       "\n",
       "    .dataframe tbody tr th {\n",
       "        vertical-align: top;\n",
       "    }\n",
       "\n",
       "    .dataframe thead th {\n",
       "        text-align: right;\n",
       "    }\n",
       "</style>\n",
       "<table border=\"1\" class=\"dataframe\">\n",
       "  <thead>\n",
       "    <tr style=\"text-align: right;\">\n",
       "      <th></th>\n",
       "      <th>user_id</th>\n",
       "      <th>order_count</th>\n",
       "    </tr>\n",
       "  </thead>\n",
       "  <tbody>\n",
       "    <tr>\n",
       "      <th>count</th>\n",
       "      <td>206209.000000</td>\n",
       "      <td>206209.000000</td>\n",
       "    </tr>\n",
       "    <tr>\n",
       "      <th>mean</th>\n",
       "      <td>103105.000000</td>\n",
       "      <td>16.590367</td>\n",
       "    </tr>\n",
       "    <tr>\n",
       "      <th>std</th>\n",
       "      <td>59527.555167</td>\n",
       "      <td>16.654774</td>\n",
       "    </tr>\n",
       "    <tr>\n",
       "      <th>min</th>\n",
       "      <td>1.000000</td>\n",
       "      <td>4.000000</td>\n",
       "    </tr>\n",
       "    <tr>\n",
       "      <th>25%</th>\n",
       "      <td>51553.000000</td>\n",
       "      <td>6.000000</td>\n",
       "    </tr>\n",
       "    <tr>\n",
       "      <th>50%</th>\n",
       "      <td>103105.000000</td>\n",
       "      <td>10.000000</td>\n",
       "    </tr>\n",
       "    <tr>\n",
       "      <th>75%</th>\n",
       "      <td>154657.000000</td>\n",
       "      <td>20.000000</td>\n",
       "    </tr>\n",
       "    <tr>\n",
       "      <th>max</th>\n",
       "      <td>206209.000000</td>\n",
       "      <td>100.000000</td>\n",
       "    </tr>\n",
       "  </tbody>\n",
       "</table>\n",
       "</div>"
      ],
      "text/plain": [
       "             user_id    order_count\n",
       "count  206209.000000  206209.000000\n",
       "mean   103105.000000      16.590367\n",
       "std     59527.555167      16.654774\n",
       "min         1.000000       4.000000\n",
       "25%     51553.000000       6.000000\n",
       "50%    103105.000000      10.000000\n",
       "75%    154657.000000      20.000000\n",
       "max    206209.000000     100.000000"
      ]
     },
     "execution_count": 29,
     "metadata": {},
     "output_type": "execute_result"
    }
   ],
   "source": [
    "# Okay... There are 206k+ customers\n",
    "order_user.columns = ['user_id','order_count']\n",
    "order_user.describe()"
   ]
  },
  {
   "cell_type": "markdown",
   "id": "2ba4b74b",
   "metadata": {
    "papermill": {
     "duration": 0.015351,
     "end_time": "2023-01-15T07:35:20.222191",
     "exception": false,
     "start_time": "2023-01-15T07:35:20.206840",
     "status": "completed"
    },
    "tags": []
   },
   "source": [
    "Minimum and maximum number of orders done by a users in the dataset \n",
    "is varying between 4 and 100. \n",
    "\n",
    "Question is, why there are more customers who have made 100 orders?"
   ]
  },
  {
   "cell_type": "code",
   "execution_count": 30,
   "id": "17538ad9",
   "metadata": {
    "execution": {
     "iopub.execute_input": "2023-01-15T07:35:20.253498Z",
     "iopub.status.busy": "2023-01-15T07:35:20.252884Z",
     "iopub.status.idle": "2023-01-15T07:35:20.967596Z",
     "shell.execute_reply": "2023-01-15T07:35:20.966046Z"
    },
    "papermill": {
     "duration": 0.733683,
     "end_time": "2023-01-15T07:35:20.970606",
     "exception": false,
     "start_time": "2023-01-15T07:35:20.236923",
     "status": "completed"
    },
    "tags": []
   },
   "outputs": [
    {
     "data": {
      "text/plain": [
       "<AxesSubplot:xlabel='order_count', ylabel='Count'>"
      ]
     },
     "execution_count": 30,
     "metadata": {},
     "output_type": "execute_result"
    },
    {
     "data": {
      "image/png": "[encoded data removed]",
      "text/plain": [
       "<Figure size 1080x576 with 1 Axes>"
      ]
     },
     "metadata": {},
     "output_type": "display_data"
    }
   ],
   "source": [
    "# Which user is ordering the most resulted in more than one user...\n",
    "\n",
    "sns.histplot(data=order_user,x='order_count',stat='count')"
   ]
  },
  {
   "cell_type": "markdown",
   "id": "e58651c5",
   "metadata": {
    "papermill": {
     "duration": 0.01558,
     "end_time": "2023-01-15T07:35:21.002435",
     "exception": false,
     "start_time": "2023-01-15T07:35:20.986855",
     "status": "completed"
    },
    "tags": []
   },
   "source": [
    "### Lets start joining the orders and order_prior table, so the product_id can be identified"
   ]
  },
  {
   "cell_type": "code",
   "execution_count": 31,
   "id": "0041d5ac",
   "metadata": {
    "execution": {
     "iopub.execute_input": "2023-01-15T07:35:21.035182Z",
     "iopub.status.busy": "2023-01-15T07:35:21.034768Z",
     "iopub.status.idle": "2023-01-15T07:35:33.774132Z",
     "shell.execute_reply": "2023-01-15T07:35:33.772796Z"
    },
    "papermill": {
     "duration": 12.759251,
     "end_time": "2023-01-15T07:35:33.777315",
     "exception": false,
     "start_time": "2023-01-15T07:35:21.018064",
     "status": "completed"
    },
    "tags": []
   },
   "outputs": [],
   "source": [
    "order_withPrior = orders.join(order_prior.set_index('order_id'),on='order_id',\n",
    "            rsuffix=\"_op\",lsuffix='_or',how='right')"
   ]
  },
  {
   "cell_type": "code",
   "execution_count": 32,
   "id": "1c8e26dd",
   "metadata": {
    "execution": {
     "iopub.execute_input": "2023-01-15T07:35:33.811864Z",
     "iopub.status.busy": "2023-01-15T07:35:33.811455Z",
     "iopub.status.idle": "2023-01-15T07:35:33.827932Z",
     "shell.execute_reply": "2023-01-15T07:35:33.826716Z"
    },
    "papermill": {
     "duration": 0.036706,
     "end_time": "2023-01-15T07:35:33.830673",
     "exception": false,
     "start_time": "2023-01-15T07:35:33.793967",
     "status": "completed"
    },
    "tags": []
   },
   "outputs": [
    {
     "data": {
      "text/html": [
       "<div>\n",
       "<style scoped>\n",
       "    .dataframe tbody tr th:only-of-type {\n",
       "        vertical-align: middle;\n",
       "    }\n",
       "\n",
       "    .dataframe tbody tr th {\n",
       "        vertical-align: top;\n",
       "    }\n",
       "\n",
       "    .dataframe thead th {\n",
       "        text-align: right;\n",
       "    }\n",
       "</style>\n",
       "<table border=\"1\" class=\"dataframe\">\n",
       "  <thead>\n",
       "    <tr style=\"text-align: right;\">\n",
       "      <th></th>\n",
       "      <th>order_id</th>\n",
       "      <th>user_id</th>\n",
       "      <th>eval_set</th>\n",
       "      <th>order_number</th>\n",
       "      <th>order_dow</th>\n",
       "      <th>order_hour_of_day</th>\n",
       "      <th>days_since_prior_order</th>\n",
       "      <th>product_id</th>\n",
       "      <th>add_to_cart_order</th>\n",
       "      <th>reordered</th>\n",
       "    </tr>\n",
       "  </thead>\n",
       "  <tbody>\n",
       "    <tr>\n",
       "      <th>3355525</th>\n",
       "      <td>2</td>\n",
       "      <td>202279</td>\n",
       "      <td>prior</td>\n",
       "      <td>3</td>\n",
       "      <td>5</td>\n",
       "      <td>9</td>\n",
       "      <td>8.0</td>\n",
       "      <td>33120</td>\n",
       "      <td>1</td>\n",
       "      <td>1</td>\n",
       "    </tr>\n",
       "    <tr>\n",
       "      <th>3355525</th>\n",
       "      <td>2</td>\n",
       "      <td>202279</td>\n",
       "      <td>prior</td>\n",
       "      <td>3</td>\n",
       "      <td>5</td>\n",
       "      <td>9</td>\n",
       "      <td>8.0</td>\n",
       "      <td>28985</td>\n",
       "      <td>2</td>\n",
       "      <td>1</td>\n",
       "    </tr>\n",
       "    <tr>\n",
       "      <th>3355525</th>\n",
       "      <td>2</td>\n",
       "      <td>202279</td>\n",
       "      <td>prior</td>\n",
       "      <td>3</td>\n",
       "      <td>5</td>\n",
       "      <td>9</td>\n",
       "      <td>8.0</td>\n",
       "      <td>9327</td>\n",
       "      <td>3</td>\n",
       "      <td>0</td>\n",
       "    </tr>\n",
       "    <tr>\n",
       "      <th>3355525</th>\n",
       "      <td>2</td>\n",
       "      <td>202279</td>\n",
       "      <td>prior</td>\n",
       "      <td>3</td>\n",
       "      <td>5</td>\n",
       "      <td>9</td>\n",
       "      <td>8.0</td>\n",
       "      <td>45918</td>\n",
       "      <td>4</td>\n",
       "      <td>1</td>\n",
       "    </tr>\n",
       "    <tr>\n",
       "      <th>3355525</th>\n",
       "      <td>2</td>\n",
       "      <td>202279</td>\n",
       "      <td>prior</td>\n",
       "      <td>3</td>\n",
       "      <td>5</td>\n",
       "      <td>9</td>\n",
       "      <td>8.0</td>\n",
       "      <td>30035</td>\n",
       "      <td>5</td>\n",
       "      <td>0</td>\n",
       "    </tr>\n",
       "  </tbody>\n",
       "</table>\n",
       "</div>"
      ],
      "text/plain": [
       "         order_id  user_id eval_set  order_number  order_dow  \\\n",
       "3355525         2   202279    prior             3          5   \n",
       "3355525         2   202279    prior             3          5   \n",
       "3355525         2   202279    prior             3          5   \n",
       "3355525         2   202279    prior             3          5   \n",
       "3355525         2   202279    prior             3          5   \n",
       "\n",
       "         order_hour_of_day  days_since_prior_order  product_id  \\\n",
       "3355525                  9                     8.0       33120   \n",
       "3355525                  9                     8.0       28985   \n",
       "3355525                  9                     8.0        9327   \n",
       "3355525                  9                     8.0       45918   \n",
       "3355525                  9                     8.0       30035   \n",
       "\n",
       "         add_to_cart_order  reordered  \n",
       "3355525                  1          1  \n",
       "3355525                  2          1  \n",
       "3355525                  3          0  \n",
       "3355525                  4          1  \n",
       "3355525                  5          0  "
      ]
     },
     "execution_count": 32,
     "metadata": {},
     "output_type": "execute_result"
    }
   ],
   "source": [
    "order_withPrior.head(5)"
   ]
  },
  {
   "cell_type": "code",
   "execution_count": 33,
   "id": "ce65ec0a",
   "metadata": {
    "_kg_hide-input": true,
    "execution": {
     "iopub.execute_input": "2023-01-15T07:35:33.865753Z",
     "iopub.status.busy": "2023-01-15T07:35:33.864856Z",
     "iopub.status.idle": "2023-01-15T07:35:40.684574Z",
     "shell.execute_reply": "2023-01-15T07:35:40.683111Z"
    },
    "papermill": {
     "duration": 6.840606,
     "end_time": "2023-01-15T07:35:40.687536",
     "exception": false,
     "start_time": "2023-01-15T07:35:33.846930",
     "status": "completed"
    },
    "tags": []
   },
   "outputs": [],
   "source": [
    "product_order_count = order_withPrior.groupby(\"product_id\").count()"
   ]
  },
  {
   "cell_type": "code",
   "execution_count": 34,
   "id": "3b0eb0b0",
   "metadata": {
    "_kg_hide-input": true,
    "execution": {
     "iopub.execute_input": "2023-01-15T07:35:40.721181Z",
     "iopub.status.busy": "2023-01-15T07:35:40.720061Z",
     "iopub.status.idle": "2023-01-15T07:35:40.730724Z",
     "shell.execute_reply": "2023-01-15T07:35:40.729889Z"
    },
    "papermill": {
     "duration": 0.03039,
     "end_time": "2023-01-15T07:35:40.733456",
     "exception": false,
     "start_time": "2023-01-15T07:35:40.703066",
     "status": "completed"
    },
    "tags": []
   },
   "outputs": [],
   "source": [
    "product_order_count = product_order_count.reset_index()[['product_id','order_id']]"
   ]
  },
  {
   "cell_type": "code",
   "execution_count": 35,
   "id": "0cc37175",
   "metadata": {
    "_kg_hide-input": true,
    "execution": {
     "iopub.execute_input": "2023-01-15T07:35:40.766198Z",
     "iopub.status.busy": "2023-01-15T07:35:40.765432Z",
     "iopub.status.idle": "2023-01-15T07:35:40.787680Z",
     "shell.execute_reply": "2023-01-15T07:35:40.786543Z"
    },
    "papermill": {
     "duration": 0.041516,
     "end_time": "2023-01-15T07:35:40.790342",
     "exception": false,
     "start_time": "2023-01-15T07:35:40.748826",
     "status": "completed"
    },
    "tags": []
   },
   "outputs": [],
   "source": [
    "productsNcounts = products.join(product_order_count.set_index('product_id'),how='inner',on='product_id')"
   ]
  },
  {
   "cell_type": "code",
   "execution_count": 36,
   "id": "72802b59",
   "metadata": {
    "_kg_hide-input": true,
    "execution": {
     "iopub.execute_input": "2023-01-15T07:35:40.822627Z",
     "iopub.status.busy": "2023-01-15T07:35:40.822150Z",
     "iopub.status.idle": "2023-01-15T07:35:40.827947Z",
     "shell.execute_reply": "2023-01-15T07:35:40.826593Z"
    },
    "papermill": {
     "duration": 0.024853,
     "end_time": "2023-01-15T07:35:40.830368",
     "exception": false,
     "start_time": "2023-01-15T07:35:40.805515",
     "status": "completed"
    },
    "tags": []
   },
   "outputs": [],
   "source": [
    "productsNcounts.columns = ['product_id', 'product_name', 'aisle_id', 'department_id', 'order_count']"
   ]
  },
  {
   "cell_type": "code",
   "execution_count": 37,
   "id": "0fb872b8",
   "metadata": {
    "execution": {
     "iopub.execute_input": "2023-01-15T07:35:40.863629Z",
     "iopub.status.busy": "2023-01-15T07:35:40.863182Z",
     "iopub.status.idle": "2023-01-15T07:35:40.885782Z",
     "shell.execute_reply": "2023-01-15T07:35:40.884613Z"
    },
    "papermill": {
     "duration": 0.041758,
     "end_time": "2023-01-15T07:35:40.888393",
     "exception": false,
     "start_time": "2023-01-15T07:35:40.846635",
     "status": "completed"
    },
    "tags": []
   },
   "outputs": [
    {
     "data": {
      "text/html": [
       "<div>\n",
       "<style scoped>\n",
       "    .dataframe tbody tr th:only-of-type {\n",
       "        vertical-align: middle;\n",
       "    }\n",
       "\n",
       "    .dataframe tbody tr th {\n",
       "        vertical-align: top;\n",
       "    }\n",
       "\n",
       "    .dataframe thead th {\n",
       "        text-align: right;\n",
       "    }\n",
       "</style>\n",
       "<table border=\"1\" class=\"dataframe\">\n",
       "  <thead>\n",
       "    <tr style=\"text-align: right;\">\n",
       "      <th></th>\n",
       "      <th>product_id</th>\n",
       "      <th>product_name</th>\n",
       "      <th>aisle_id</th>\n",
       "      <th>department_id</th>\n",
       "      <th>order_count</th>\n",
       "    </tr>\n",
       "  </thead>\n",
       "  <tbody>\n",
       "    <tr>\n",
       "      <th>24851</th>\n",
       "      <td>24852</td>\n",
       "      <td>Banana</td>\n",
       "      <td>24</td>\n",
       "      <td>4</td>\n",
       "      <td>472565</td>\n",
       "    </tr>\n",
       "    <tr>\n",
       "      <th>13175</th>\n",
       "      <td>13176</td>\n",
       "      <td>Bag of Organic Bananas</td>\n",
       "      <td>24</td>\n",
       "      <td>4</td>\n",
       "      <td>379450</td>\n",
       "    </tr>\n",
       "    <tr>\n",
       "      <th>21136</th>\n",
       "      <td>21137</td>\n",
       "      <td>Organic Strawberries</td>\n",
       "      <td>24</td>\n",
       "      <td>4</td>\n",
       "      <td>264683</td>\n",
       "    </tr>\n",
       "    <tr>\n",
       "      <th>21902</th>\n",
       "      <td>21903</td>\n",
       "      <td>Organic Baby Spinach</td>\n",
       "      <td>123</td>\n",
       "      <td>4</td>\n",
       "      <td>241921</td>\n",
       "    </tr>\n",
       "    <tr>\n",
       "      <th>47208</th>\n",
       "      <td>47209</td>\n",
       "      <td>Organic Hass Avocado</td>\n",
       "      <td>24</td>\n",
       "      <td>4</td>\n",
       "      <td>213584</td>\n",
       "    </tr>\n",
       "  </tbody>\n",
       "</table>\n",
       "</div>"
      ],
      "text/plain": [
       "       product_id            product_name  aisle_id  department_id  \\\n",
       "24851       24852                  Banana        24              4   \n",
       "13175       13176  Bag of Organic Bananas        24              4   \n",
       "21136       21137    Organic Strawberries        24              4   \n",
       "21902       21903    Organic Baby Spinach       123              4   \n",
       "47208       47209    Organic Hass Avocado        24              4   \n",
       "\n",
       "       order_count  \n",
       "24851       472565  \n",
       "13175       379450  \n",
       "21136       264683  \n",
       "21902       241921  \n",
       "47208       213584  "
      ]
     },
     "execution_count": 37,
     "metadata": {},
     "output_type": "execute_result"
    }
   ],
   "source": [
    "productsNcounts.sort_values(by='order_count',ascending=False).head()"
   ]
  },
  {
   "cell_type": "code",
   "execution_count": 38,
   "id": "8c90d032",
   "metadata": {
    "execution": {
     "iopub.execute_input": "2023-01-15T07:35:40.922076Z",
     "iopub.status.busy": "2023-01-15T07:35:40.921623Z",
     "iopub.status.idle": "2023-01-15T07:35:40.937717Z",
     "shell.execute_reply": "2023-01-15T07:35:40.936342Z"
    },
    "papermill": {
     "duration": 0.036374,
     "end_time": "2023-01-15T07:35:40.940309",
     "exception": false,
     "start_time": "2023-01-15T07:35:40.903935",
     "status": "completed"
    },
    "tags": []
   },
   "outputs": [],
   "source": [
    "aisle_order_counts = productsNcounts.groupby('aisle_id').sum('order_count').\\\n",
    "        reset_index()[[\"aisle_id\",\"order_count\"]]\n",
    "aisle_order_counts.sort_values(\"order_count\",ascending=False,inplace=True)"
   ]
  },
  {
   "cell_type": "code",
   "execution_count": 39,
   "id": "1db7f626",
   "metadata": {
    "execution": {
     "iopub.execute_input": "2023-01-15T07:35:40.973422Z",
     "iopub.status.busy": "2023-01-15T07:35:40.972997Z",
     "iopub.status.idle": "2023-01-15T07:35:40.985084Z",
     "shell.execute_reply": "2023-01-15T07:35:40.984041Z"
    },
    "papermill": {
     "duration": 0.031004,
     "end_time": "2023-01-15T07:35:40.987195",
     "exception": false,
     "start_time": "2023-01-15T07:35:40.956191",
     "status": "completed"
    },
    "tags": []
   },
   "outputs": [
    {
     "data": {
      "text/html": [
       "<div>\n",
       "<style scoped>\n",
       "    .dataframe tbody tr th:only-of-type {\n",
       "        vertical-align: middle;\n",
       "    }\n",
       "\n",
       "    .dataframe tbody tr th {\n",
       "        vertical-align: top;\n",
       "    }\n",
       "\n",
       "    .dataframe thead th {\n",
       "        text-align: right;\n",
       "    }\n",
       "</style>\n",
       "<table border=\"1\" class=\"dataframe\">\n",
       "  <thead>\n",
       "    <tr style=\"text-align: right;\">\n",
       "      <th></th>\n",
       "      <th>aisle_id</th>\n",
       "      <th>order_count</th>\n",
       "    </tr>\n",
       "  </thead>\n",
       "  <tbody>\n",
       "    <tr>\n",
       "      <th>23</th>\n",
       "      <td>24</td>\n",
       "      <td>3642188</td>\n",
       "    </tr>\n",
       "    <tr>\n",
       "      <th>82</th>\n",
       "      <td>83</td>\n",
       "      <td>3418021</td>\n",
       "    </tr>\n",
       "    <tr>\n",
       "      <th>122</th>\n",
       "      <td>123</td>\n",
       "      <td>1765313</td>\n",
       "    </tr>\n",
       "    <tr>\n",
       "      <th>119</th>\n",
       "      <td>120</td>\n",
       "      <td>1452343</td>\n",
       "    </tr>\n",
       "    <tr>\n",
       "      <th>20</th>\n",
       "      <td>21</td>\n",
       "      <td>979763</td>\n",
       "    </tr>\n",
       "    <tr>\n",
       "      <th>...</th>\n",
       "      <td>...</td>\n",
       "      <td>...</td>\n",
       "    </tr>\n",
       "    <tr>\n",
       "      <th>43</th>\n",
       "      <td>44</td>\n",
       "      <td>8974</td>\n",
       "    </tr>\n",
       "    <tr>\n",
       "      <th>101</th>\n",
       "      <td>102</td>\n",
       "      <td>8581</td>\n",
       "    </tr>\n",
       "    <tr>\n",
       "      <th>81</th>\n",
       "      <td>82</td>\n",
       "      <td>8160</td>\n",
       "    </tr>\n",
       "    <tr>\n",
       "      <th>131</th>\n",
       "      <td>132</td>\n",
       "      <td>6168</td>\n",
       "    </tr>\n",
       "    <tr>\n",
       "      <th>112</th>\n",
       "      <td>113</td>\n",
       "      <td>4853</td>\n",
       "    </tr>\n",
       "  </tbody>\n",
       "</table>\n",
       "<p>134 rows × 2 columns</p>\n",
       "</div>"
      ],
      "text/plain": [
       "     aisle_id  order_count\n",
       "23         24      3642188\n",
       "82         83      3418021\n",
       "122       123      1765313\n",
       "119       120      1452343\n",
       "20         21       979763\n",
       "..        ...          ...\n",
       "43         44         8974\n",
       "101       102         8581\n",
       "81         82         8160\n",
       "131       132         6168\n",
       "112       113         4853\n",
       "\n",
       "[134 rows x 2 columns]"
      ]
     },
     "execution_count": 39,
     "metadata": {},
     "output_type": "execute_result"
    }
   ],
   "source": [
    "aisle_order_counts"
   ]
  },
  {
   "cell_type": "code",
   "execution_count": 40,
   "id": "69bb5caf",
   "metadata": {
    "execution": {
     "iopub.execute_input": "2023-01-15T07:35:41.020513Z",
     "iopub.status.busy": "2023-01-15T07:35:41.020099Z",
     "iopub.status.idle": "2023-01-15T07:35:41.380652Z",
     "shell.execute_reply": "2023-01-15T07:35:41.379479Z"
    },
    "papermill": {
     "duration": 0.380252,
     "end_time": "2023-01-15T07:35:41.383152",
     "exception": false,
     "start_time": "2023-01-15T07:35:41.002900",
     "status": "completed"
    },
    "tags": []
   },
   "outputs": [
    {
     "data": {
      "text/plain": [
       "<AxesSubplot:xlabel='aisle_id', ylabel='order_count'>"
      ]
     },
     "execution_count": 40,
     "metadata": {},
     "output_type": "execute_result"
    },
    {
     "data": {
      "image/png": "[encoded data removed]",
      "text/plain": [
       "<Figure size 1080x576 with 1 Axes>"
      ]
     },
     "metadata": {},
     "output_type": "display_data"
    }
   ],
   "source": [
    "sns.barplot(data=aisle_order_counts[aisle_order_counts.order_count > 500000],\n",
    "            x='aisle_id',y='order_count')"
   ]
  }
 ],
 "metadata": {
  "kernelspec": {
   "display_name": "Python 3",
   "language": "python",
   "name": "python3"
  },
  "language_info": {
   "codemirror_mode": {
    "name": "ipython",
    "version": 3
   },
   "file_extension": ".py",
   "mimetype": "text/x-python",
   "name": "python",
   "nbconvert_exporter": "python",
   "pygments_lexer": "ipython3",
   "version": "3.7.12"
  },
  "papermill": {
   "default_parameters": {},
   "duration": 59.303323,
   "end_time": "2023-01-15T07:35:42.323972",
   "environment_variables": {},
   "exception": null,
   "input_path": "__notebook__.ipynb",
   "output_path": "__notebook__.ipynb",
   "parameters": {},
   "start_time": "2023-01-15T07:34:43.020649",
   "version": "2.3.4"
  }
 },
 "nbformat": 4,
 "nbformat_minor": 5
}
