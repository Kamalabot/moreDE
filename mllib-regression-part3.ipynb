{
 "cells": [
  {
   "cell_type": "markdown",
   "id": "1181a080",
   "metadata": {
    "papermill": {
     "duration": 0.006998,
     "end_time": "2022-11-27T07:42:32.724577",
     "exception": false,
     "start_time": "2022-11-27T07:42:32.717579",
     "status": "completed"
    },
    "tags": []
   },
   "source": [
    "### Regression Algorithms\n",
    "\n",
    "Having all the algorithms, and their implementation in a place provides big picture very fast. So creating this notebook. The explanation for the algorithms can be found in [MLLib official page](https://spark.apache.org/docs/latest/ml-classification-regression.html#regression)"
   ]
  },
  {
   "cell_type": "code",
   "execution_count": 1,
   "id": "8673a334",
   "metadata": {
    "execution": {
     "iopub.execute_input": "2022-11-27T07:42:32.737771Z",
     "iopub.status.busy": "2022-11-27T07:42:32.737166Z",
     "iopub.status.idle": "2022-11-27T07:43:20.226589Z",
     "shell.execute_reply": "2022-11-27T07:43:20.224815Z"
    },
    "papermill": {
     "duration": 47.499949,
     "end_time": "2022-11-27T07:43:20.230110",
     "exception": false,
     "start_time": "2022-11-27T07:42:32.730161",
     "status": "completed"
    },
    "tags": []
   },
   "outputs": [
    {
     "name": "stdout",
     "output_type": "stream",
     "text": [
      "Collecting pyspark\r\n",
      "  Downloading pyspark-3.3.1.tar.gz (281.4 MB)\r\n",
      "\u001b[2K     \u001b[90m━━━━━━━━━━━━━━━━━━━━━━━━━━━━━━━━━━━━━━━\u001b[0m \u001b[32m281.4/281.4 MB\u001b[0m \u001b[31m4.1 MB/s\u001b[0m eta \u001b[36m0:00:00\u001b[0m\r\n",
      "\u001b[?25h  Preparing metadata (setup.py) ... \u001b[?25l-\b \bdone\r\n",
      "\u001b[?25hCollecting py4j==0.10.9.5\r\n",
      "  Downloading py4j-0.10.9.5-py2.py3-none-any.whl (199 kB)\r\n",
      "\u001b[2K     \u001b[90m━━━━━━━━━━━━━━━━━━━━━━━━━━━━━━━━━━━━━━\u001b[0m \u001b[32m199.7/199.7 kB\u001b[0m \u001b[31m15.8 MB/s\u001b[0m eta \u001b[36m0:00:00\u001b[0m\r\n",
      "\u001b[?25hBuilding wheels for collected packages: pyspark\r\n",
      "  Building wheel for pyspark (setup.py) ... \u001b[?25l-\b \b\\\b \b|\b \b/\b \b-\b \b\\\b \b|\b \b/\b \b-\b \b\\\b \b|\b \b/\b \b-\b \b\\\b \b|\b \b/\b \b-\b \b\\\b \b|\b \b/\b \b-\b \b\\\b \b|\b \b/\b \b-\b \b\\\b \b|\b \b/\b \b-\b \b\\\b \b|\b \b/\b \b-\b \b\\\b \b|\b \b/\b \b-\b \b\\\b \b|\b \b/\b \b-\b \b\\\b \b|\b \b/\b \b-\b \b\\\b \b|\b \b/\b \b-\b \b\\\b \b|\b \b/\b \b-\b \b\\\b \b|\b \b/\b \b-\b \b\\\b \b|\b \b/\b \b-\b \bdone\r\n",
      "\u001b[?25h  Created wheel for pyspark: filename=pyspark-3.3.1-py2.py3-none-any.whl size=281845513 sha256=1bd15c98d989163d7fa02c735b1c0eb1d2c1eb0421bc29e54b1ecb65fb4bf2ea\r\n",
      "  Stored in directory: /root/.cache/pip/wheels/42/59/f5/79a5bf931714dcd201b26025347785f087370a10a3329a899c\r\n",
      "Successfully built pyspark\r\n",
      "Installing collected packages: py4j, pyspark\r\n",
      "  Attempting uninstall: py4j\r\n",
      "    Found existing installation: py4j 0.10.9.7\r\n",
      "    Uninstalling py4j-0.10.9.7:\r\n",
      "      Successfully uninstalled py4j-0.10.9.7\r\n",
      "Successfully installed py4j-0.10.9.5 pyspark-3.3.1\r\n",
      "\u001b[33mWARNING: Running pip as the 'root' user can result in broken permissions and conflicting behaviour with the system package manager. It is recommended to use a virtual environment instead: https://pip.pypa.io/warnings/venv\u001b[0m\u001b[33m\r\n",
      "\u001b[0m"
     ]
    }
   ],
   "source": [
    "!pip install pyspark"
   ]
  },
  {
   "cell_type": "code",
   "execution_count": 2,
   "id": "2d49cddd",
   "metadata": {
    "execution": {
     "iopub.execute_input": "2022-11-27T07:43:20.263369Z",
     "iopub.status.busy": "2022-11-27T07:43:20.262885Z",
     "iopub.status.idle": "2022-11-27T07:43:20.327289Z",
     "shell.execute_reply": "2022-11-27T07:43:20.326368Z"
    },
    "papermill": {
     "duration": 0.083817,
     "end_time": "2022-11-27T07:43:20.329823",
     "exception": false,
     "start_time": "2022-11-27T07:43:20.246006",
     "status": "completed"
    },
    "tags": []
   },
   "outputs": [],
   "source": [
    "import pyspark\n",
    "from pyspark.sql import SparkSession "
   ]
  },
  {
   "cell_type": "code",
   "execution_count": 3,
   "id": "5473384d",
   "metadata": {
    "execution": {
     "iopub.execute_input": "2022-11-27T07:43:20.364013Z",
     "iopub.status.busy": "2022-11-27T07:43:20.363291Z",
     "iopub.status.idle": "2022-11-27T07:43:25.970290Z",
     "shell.execute_reply": "2022-11-27T07:43:25.969055Z"
    },
    "papermill": {
     "duration": 5.627009,
     "end_time": "2022-11-27T07:43:25.973645",
     "exception": false,
     "start_time": "2022-11-27T07:43:20.346636",
     "status": "completed"
    },
    "tags": []
   },
   "outputs": [
    {
     "name": "stderr",
     "output_type": "stream",
     "text": [
      "Setting default log level to \"WARN\".\n",
      "To adjust logging level use sc.setLogLevel(newLevel). For SparkR, use setLogLevel(newLevel).\n"
     ]
    },
    {
     "name": "stdout",
     "output_type": "stream",
     "text": [
      "22/11/27 07:43:23 WARN NativeCodeLoader: Unable to load native-hadoop library for your platform... using builtin-java classes where applicable\n"
     ]
    }
   ],
   "source": [
    "#Initiating Pyspark\n",
    "spark = SparkSession.builder.appName(\"RegressionModels\").getOrCreate()"
   ]
  },
  {
   "cell_type": "code",
   "execution_count": 4,
   "id": "d22fcbfd",
   "metadata": {
    "execution": {
     "iopub.execute_input": "2022-11-27T07:43:26.007151Z",
     "iopub.status.busy": "2022-11-27T07:43:26.006661Z",
     "iopub.status.idle": "2022-11-27T07:43:26.195457Z",
     "shell.execute_reply": "2022-11-27T07:43:26.193902Z"
    },
    "papermill": {
     "duration": 0.208721,
     "end_time": "2022-11-27T07:43:26.198416",
     "exception": false,
     "start_time": "2022-11-27T07:43:25.989695",
     "status": "completed"
    },
    "tags": []
   },
   "outputs": [],
   "source": [
    "#The classification algorithms are under the ml.classification\n",
    "from pyspark.ml import Pipeline\n",
    "from pyspark.ml.feature import StringIndexer, VectorIndexer,IndexToString,MinMaxScaler\n",
    "from pyspark.ml.evaluation import RegressionEvaluator"
   ]
  },
  {
   "cell_type": "code",
   "execution_count": 5,
   "id": "fbc81c8f",
   "metadata": {
    "execution": {
     "iopub.execute_input": "2022-11-27T07:43:26.230793Z",
     "iopub.status.busy": "2022-11-27T07:43:26.230330Z",
     "iopub.status.idle": "2022-11-27T07:43:26.236492Z",
     "shell.execute_reply": "2022-11-27T07:43:26.235172Z"
    },
    "papermill": {
     "duration": 0.024975,
     "end_time": "2022-11-27T07:43:26.238802",
     "exception": false,
     "start_time": "2022-11-27T07:43:26.213827",
     "status": "completed"
    },
    "tags": []
   },
   "outputs": [],
   "source": [
    "#The regression algorithms are under the ml.regression \n",
    "from pyspark.ml.regression import DecisionTreeRegressor, LinearRegression, GeneralizedLinearRegression\n",
    "from pyspark.ml.regression import RandomForestRegressor,GBTRegressor, DecisionTreeRegressionModel\n",
    "from pyspark.ml.regression import FMRegressor,AFTSurvivalRegression,IsotonicRegression"
   ]
  },
  {
   "cell_type": "code",
   "execution_count": 6,
   "id": "0f19d912",
   "metadata": {
    "execution": {
     "iopub.execute_input": "2022-11-27T07:43:26.274691Z",
     "iopub.status.busy": "2022-11-27T07:43:26.273587Z",
     "iopub.status.idle": "2022-11-27T07:43:35.506324Z",
     "shell.execute_reply": "2022-11-27T07:43:35.504264Z"
    },
    "papermill": {
     "duration": 9.255337,
     "end_time": "2022-11-27T07:43:35.510727",
     "exception": false,
     "start_time": "2022-11-27T07:43:26.255390",
     "status": "completed"
    },
    "tags": []
   },
   "outputs": [
    {
     "name": "stdout",
     "output_type": "stream",
     "text": [
      "22/11/27 07:43:27 WARN LibSVMFileFormat: 'numFeatures' option not specified, determining the number of features by going though the input. If you know the number in advance, please specify it via 'numFeatures' option to avoid the extra scan.\n"
     ]
    },
    {
     "name": "stderr",
     "output_type": "stream",
     "text": [
      "                                                                                \r"
     ]
    },
    {
     "name": "stdout",
     "output_type": "stream",
     "text": [
      "Coefficients: [0.0,0.3229251667740594,-0.3438548034562219,1.915601702345841,0.05288058680386255,0.765962720459771,0.0,-0.15105392669186676,-0.21587930360904645,0.2202536918881343]\n",
      "Intercept: 0.15989368442397356\n",
      "numIterations: 6\n",
      "objectiveHistory: [0.49999999999999994, 0.4967620357443381, 0.49363616643404634, 0.4936351537897608, 0.4936351214177871, 0.49363512062528014, 0.4936351206216114]\n",
      "+--------------------+\n",
      "|           residuals|\n",
      "+--------------------+\n",
      "|  -9.889232683103197|\n",
      "|  0.5533794340053553|\n",
      "|  -5.204019455758822|\n",
      "| -20.566686715507508|\n",
      "|    -9.4497405180564|\n",
      "|  -6.909112502719487|\n",
      "|  -10.00431602969873|\n",
      "|  2.0623978070504845|\n",
      "|  3.1117508432954772|\n",
      "|  -15.89360822941938|\n",
      "|  -5.036284254673026|\n",
      "|  6.4832158769943335|\n",
      "|  12.429497299109002|\n",
      "|  -20.32003219007654|\n",
      "|    -2.0049838218725|\n",
      "| -17.867901734183793|\n",
      "|   7.646455887420495|\n",
      "| -2.2653482182417406|\n",
      "|-0.10308920436195645|\n",
      "|  -1.380034070385301|\n",
      "+--------------------+\n",
      "only showing top 20 rows\n",
      "\n",
      "RMSE: 10.189077\n",
      "r2: 0.022861\n"
     ]
    }
   ],
   "source": [
    "# Load training data\n",
    "training = spark.read.format(\"libsvm\")\\\n",
    "    .load(\"/kaggle/input/mllib-datasets/sample_linear_regression_data.txt\")\n",
    "\n",
    "lr = LinearRegression(maxIter=10, regParam=0.3, elasticNetParam=0.8)\n",
    "\n",
    "# Fit the model\n",
    "lrModel = lr.fit(training)\n",
    "\n",
    "# Print the coefficients and intercept for linear regression\n",
    "print(\"Coefficients: %s\" % str(lrModel.coefficients))\n",
    "print(\"Intercept: %s\" % str(lrModel.intercept))\n",
    "\n",
    "# Summarize the model over the training set and print out some metrics\n",
    "trainingSummary = lrModel.summary\n",
    "print(\"numIterations: %d\" % trainingSummary.totalIterations)\n",
    "print(\"objectiveHistory: %s\" % str(trainingSummary.objectiveHistory))\n",
    "trainingSummary.residuals.show()\n",
    "print(\"RMSE: %f\" % trainingSummary.rootMeanSquaredError)\n",
    "print(\"r2: %f\" % trainingSummary.r2)"
   ]
  },
  {
   "cell_type": "markdown",
   "id": "63ffe4ac",
   "metadata": {
    "papermill": {
     "duration": 0.023388,
     "end_time": "2022-11-27T07:43:35.557785",
     "exception": false,
     "start_time": "2022-11-27T07:43:35.534397",
     "status": "completed"
    },
    "tags": []
   },
   "source": [
    "### Generalized linear regression\n",
    "\n",
    "Contrasted with linear regression where the output is assumed to follow a Gaussian distribution, generalized linear models (GLMs) are specifications of linear models where the response variable Yi follows some distribution from the exponential family of distributions. Additional theory can be found at [German Rodriguez github page](https://grodri.github.io/glms/notes/)"
   ]
  },
  {
   "cell_type": "code",
   "execution_count": 7,
   "id": "4b9c1c81",
   "metadata": {
    "execution": {
     "iopub.execute_input": "2022-11-27T07:43:35.598544Z",
     "iopub.status.busy": "2022-11-27T07:43:35.598163Z",
     "iopub.status.idle": "2022-11-27T07:43:38.376537Z",
     "shell.execute_reply": "2022-11-27T07:43:38.375202Z"
    },
    "papermill": {
     "duration": 2.798631,
     "end_time": "2022-11-27T07:43:38.379938",
     "exception": false,
     "start_time": "2022-11-27T07:43:35.581307",
     "status": "completed"
    },
    "tags": []
   },
   "outputs": [
    {
     "name": "stdout",
     "output_type": "stream",
     "text": [
      "22/11/27 07:43:35 WARN LibSVMFileFormat: 'numFeatures' option not specified, determining the number of features by going though the input. If you know the number in advance, please specify it via 'numFeatures' option to avoid the extra scan.\n",
      "Coefficients: [0.010541828081257209,0.800325310056095,-0.7845165541420372,2.3679887171421914,0.5010002089857577,1.1222351159753023,-0.2926824398623297,-0.49837174323213046,-0.6035797180675657,0.6725550067187459]\n",
      "Intercept: 0.14592176145232047\n",
      "Coefficient Standard Errors: [0.7950428434287478, 0.8049713176546897, 0.7975916824772489, 0.831264924765992, 0.7945436200517938, 0.8118992572197593, 0.7919506385542777, 0.7973378214726764, 0.8300714999626418, 0.7771333489686802, 0.463930109648428]\n",
      "T Values: [0.013259446542269234, 0.9942283563442595, -0.9836067393599173, 2.8486570846337584, 0.6305509179635714, 1.3822344410293548, -0.36957156874906694, -0.6250446546128239, -0.7271418403049983, 0.8654306337661118, 0.314533931765933]\n",
      "P Values: [0.989426199114056, 0.32060241580811044, 0.3257943227369877, 0.004575078538306521, 0.5286281628105467, 0.16752945248679119, 0.7118614002322872, 0.5322327097421431, 0.467486325282384, 0.3872259825794293, 0.753249430501097]\n",
      "Dispersion: 105.60988356821714\n",
      "Null Deviance: 53229.3654338832\n",
      "Residual Degree Of Freedom Null: 500\n",
      "Deviance: 51748.8429484264\n",
      "Residual Degree Of Freedom: 490\n",
      "AIC: 3769.1895871765314\n",
      "Deviance Residuals: \n",
      "+-------------------+\n",
      "|  devianceResiduals|\n",
      "+-------------------+\n",
      "|-10.974359174246889|\n",
      "| 0.8872320138420557|\n",
      "| -4.596541837478908|\n",
      "|-20.411667435019638|\n",
      "|-10.270419345342642|\n",
      "|-6.0156058956799905|\n",
      "|-10.663939415849267|\n",
      "| 2.1153960525024713|\n",
      "|  3.980713237913768|\n",
      "|-17.225218272069533|\n",
      "| -4.611647633532146|\n",
      "|  6.417666940769855|\n",
      "| 11.407137945300537|\n",
      "| -20.70176540467664|\n",
      "| -2.683748540510967|\n",
      "|-16.755494794232536|\n",
      "|  8.154668342638725|\n",
      "|-1.4355057987358848|\n",
      "|  -0.64350586881857|\n",
      "|-1.1380258931683198|\n",
      "+-------------------+\n",
      "only showing top 20 rows\n",
      "\n"
     ]
    }
   ],
   "source": [
    "# Load training data\n",
    "dataset = spark.read.format(\"libsvm\")\\\n",
    "    .load(\"/kaggle/input/mllib-datasets/sample_linear_regression_data.txt\")\n",
    "\n",
    "glr = GeneralizedLinearRegression(family=\"gaussian\", link=\"identity\", maxIter=10, regParam=0.3)\n",
    "\n",
    "# Fit the model\n",
    "model = glr.fit(dataset)\n",
    "\n",
    "# Print the coefficients and intercept for generalized linear regression model\n",
    "print(\"Coefficients: \" + str(model.coefficients))\n",
    "print(\"Intercept: \" + str(model.intercept))\n",
    "\n",
    "# Summarize the model over the training set and print out some metrics\n",
    "summary = model.summary\n",
    "print(\"Coefficient Standard Errors: \" + str(summary.coefficientStandardErrors))\n",
    "print(\"T Values: \" + str(summary.tValues))\n",
    "print(\"P Values: \" + str(summary.pValues))\n",
    "print(\"Dispersion: \" + str(summary.dispersion))\n",
    "print(\"Null Deviance: \" + str(summary.nullDeviance))\n",
    "print(\"Residual Degree Of Freedom Null: \" + str(summary.residualDegreeOfFreedomNull))\n",
    "print(\"Deviance: \" + str(summary.deviance))\n",
    "print(\"Residual Degree Of Freedom: \" + str(summary.residualDegreeOfFreedom))\n",
    "print(\"AIC: \" + str(summary.aic))\n",
    "print(\"Deviance Residuals: \")\n",
    "summary.residuals().show()"
   ]
  },
  {
   "cell_type": "markdown",
   "id": "97f10044",
   "metadata": {
    "papermill": {
     "duration": 0.023724,
     "end_time": "2022-11-27T07:43:38.426974",
     "exception": false,
     "start_time": "2022-11-27T07:43:38.403250",
     "status": "completed"
    },
    "tags": []
   },
   "source": [
    "### Decision Tree Regression Model"
   ]
  },
  {
   "cell_type": "code",
   "execution_count": 8,
   "id": "ad48ee52",
   "metadata": {
    "execution": {
     "iopub.execute_input": "2022-11-27T07:43:38.470064Z",
     "iopub.status.busy": "2022-11-27T07:43:38.469666Z",
     "iopub.status.idle": "2022-11-27T07:43:42.113943Z",
     "shell.execute_reply": "2022-11-27T07:43:42.113015Z"
    },
    "papermill": {
     "duration": 3.666266,
     "end_time": "2022-11-27T07:43:42.116933",
     "exception": false,
     "start_time": "2022-11-27T07:43:38.450667",
     "status": "completed"
    },
    "tags": []
   },
   "outputs": [
    {
     "name": "stdout",
     "output_type": "stream",
     "text": [
      "22/11/27 07:43:38 WARN LibSVMFileFormat: 'numFeatures' option not specified, determining the number of features by going though the input. If you know the number in advance, please specify it via 'numFeatures' option to avoid the extra scan.\n",
      "+----------+-----+--------------------+\n",
      "|prediction|label|            features|\n",
      "+----------+-----+--------------------+\n",
      "|       0.0|  0.0|(692,[95,96,97,12...|\n",
      "|       0.0|  0.0|(692,[100,101,102...|\n",
      "|       0.0|  0.0|(692,[122,123,124...|\n",
      "|       0.0|  0.0|(692,[122,123,148...|\n",
      "|       0.0|  0.0|(692,[123,124,125...|\n",
      "+----------+-----+--------------------+\n",
      "only showing top 5 rows\n",
      "\n",
      "Root Mean Squared Error (RMSE) on test data = 0.171499\n"
     ]
    }
   ],
   "source": [
    "# Load the data stored in LIBSVM format as a DataFrame.\n",
    "data = spark.read.format(\"libsvm\").load(\"/kaggle/input/mllib-datasets/sample_libsvm_data.txt\")\n",
    "\n",
    "# Automatically identify categorical features, and index them.\n",
    "# We specify maxCategories so features with > 4 distinct values are treated as continuous.\n",
    "featureIndexer =\\\n",
    "    VectorIndexer(inputCol=\"features\", outputCol=\"indexedFeatures\", maxCategories=4).fit(data)\n",
    "\n",
    "# Split the data into training and test sets (30% held out for testing)\n",
    "(trainingData, testData) = data.randomSplit([0.7, 0.3])\n",
    "\n",
    "# Train a DecisionTree model.\n",
    "dt = DecisionTreeRegressor(featuresCol=\"indexedFeatures\")\n",
    "\n",
    "# Chain indexer and tree in a Pipeline\n",
    "pipeline = Pipeline(stages=[featureIndexer, dt])\n",
    "\n",
    "# Train model.  This also runs the indexer.\n",
    "model = pipeline.fit(trainingData)\n",
    "\n",
    "# Make predictions.\n",
    "predictions = model.transform(testData)\n",
    "\n",
    "# Select example rows to display.\n",
    "predictions.select(\"prediction\", \"label\", \"features\").show(5)\n",
    "\n",
    "# Select (prediction, true label) and compute test error\n",
    "evaluator = RegressionEvaluator(\n",
    "    labelCol=\"label\", predictionCol=\"prediction\", metricName=\"rmse\")\n",
    "rmse = evaluator.evaluate(predictions)\n",
    "print(\"Root Mean Squared Error (RMSE) on test data = %g\" % rmse)\n",
    "\n",
    "treeModel = model.stages[1]"
   ]
  },
  {
   "cell_type": "markdown",
   "id": "322782cc",
   "metadata": {
    "papermill": {
     "duration": 0.015571,
     "end_time": "2022-11-27T07:43:42.148282",
     "exception": false,
     "start_time": "2022-11-27T07:43:42.132711",
     "status": "completed"
    },
    "tags": []
   },
   "source": [
    "### Random Forest Regressor"
   ]
  },
  {
   "cell_type": "code",
   "execution_count": 9,
   "id": "a36dbecc",
   "metadata": {
    "execution": {
     "iopub.execute_input": "2022-11-27T07:43:42.182329Z",
     "iopub.status.busy": "2022-11-27T07:43:42.181493Z",
     "iopub.status.idle": "2022-11-27T07:43:44.572343Z",
     "shell.execute_reply": "2022-11-27T07:43:44.570951Z"
    },
    "papermill": {
     "duration": 2.411453,
     "end_time": "2022-11-27T07:43:44.575704",
     "exception": false,
     "start_time": "2022-11-27T07:43:42.164251",
     "status": "completed"
    },
    "tags": []
   },
   "outputs": [
    {
     "name": "stdout",
     "output_type": "stream",
     "text": [
      "22/11/27 07:43:42 WARN LibSVMFileFormat: 'numFeatures' option not specified, determining the number of features by going though the input. If you know the number in advance, please specify it via 'numFeatures' option to avoid the extra scan.\n"
     ]
    },
    {
     "name": "stderr",
     "output_type": "stream",
     "text": [
      "WARNING: An illegal reflective access operation has occurred\n",
      "WARNING: Illegal reflective access by org.apache.spark.util.SizeEstimator$ (file:/opt/conda/lib/python3.7/site-packages/pyspark/jars/spark-core_2.12-3.3.1.jar) to field java.nio.charset.Charset.name\n",
      "WARNING: Please consider reporting this to the maintainers of org.apache.spark.util.SizeEstimator$\n",
      "WARNING: Use --illegal-access=warn to enable warnings of further illegal reflective access operations\n",
      "WARNING: All illegal access operations will be denied in a future release\n"
     ]
    },
    {
     "name": "stdout",
     "output_type": "stream",
     "text": [
      "+----------+-----+--------------------+\n",
      "|prediction|label|            features|\n",
      "+----------+-----+--------------------+\n",
      "|       0.0|  0.0|(692,[98,99,100,1...|\n",
      "|      0.15|  0.0|(692,[100,101,102...|\n",
      "|       0.1|  0.0|(692,[122,123,148...|\n",
      "|       0.0|  0.0|(692,[124,125,126...|\n",
      "|       0.0|  0.0|(692,[124,125,126...|\n",
      "+----------+-----+--------------------+\n",
      "only showing top 5 rows\n",
      "\n",
      "Root Mean Squared Error (RMSE) on test data = 0.180871\n",
      "RandomForestRegressionModel: uid=RandomForestRegressor_6abfebc1e358, numTrees=20, numFeatures=692\n"
     ]
    }
   ],
   "source": [
    "# Load and parse the data file, converting it to a DataFrame.\n",
    "data = spark.read.format(\"libsvm\").load(\"/kaggle/input/mllib-datasets/sample_libsvm_data.txt\")\n",
    "\n",
    "# Automatically identify categorical features, and index them.\n",
    "# Set maxCategories so features with > 4 distinct values are treated as continuous.\n",
    "featureIndexer =\\\n",
    "    VectorIndexer(inputCol=\"features\", outputCol=\"indexedFeatures\", maxCategories=4).fit(data)\n",
    "\n",
    "# Split the data into training and test sets (30% held out for testing)\n",
    "(trainingData, testData) = data.randomSplit([0.7, 0.3])\n",
    "\n",
    "# Train a RandomForest model.\n",
    "rf = RandomForestRegressor(featuresCol=\"indexedFeatures\")\n",
    "\n",
    "# Chain indexer and forest in a Pipeline\n",
    "pipeline = Pipeline(stages=[featureIndexer, rf])\n",
    "\n",
    "# Train model.  This also runs the indexer.\n",
    "model = pipeline.fit(trainingData)\n",
    "\n",
    "# Make predictions.\n",
    "predictions = model.transform(testData)\n",
    "\n",
    "# Select example rows to display.\n",
    "predictions.select(\"prediction\", \"label\", \"features\").show(5)\n",
    "\n",
    "# Select (prediction, true label) and compute test error\n",
    "evaluator = RegressionEvaluator(\n",
    "    labelCol=\"label\", predictionCol=\"prediction\", metricName=\"rmse\")\n",
    "rmse = evaluator.evaluate(predictions)\n",
    "print(\"Root Mean Squared Error (RMSE) on test data = %g\" % rmse)\n",
    "\n",
    "rfModel = model.stages[1]\n",
    "print(rfModel)  # summary only"
   ]
  },
  {
   "cell_type": "markdown",
   "id": "db61e434",
   "metadata": {
    "papermill": {
     "duration": 0.018278,
     "end_time": "2022-11-27T07:43:44.619265",
     "exception": false,
     "start_time": "2022-11-27T07:43:44.600987",
     "status": "completed"
    },
    "tags": []
   },
   "source": [
    "### Gradient-boosted tree regression"
   ]
  },
  {
   "cell_type": "code",
   "execution_count": 10,
   "id": "b85a2330",
   "metadata": {
    "execution": {
     "iopub.execute_input": "2022-11-27T07:43:44.654189Z",
     "iopub.status.busy": "2022-11-27T07:43:44.653727Z",
     "iopub.status.idle": "2022-11-27T07:43:47.788882Z",
     "shell.execute_reply": "2022-11-27T07:43:47.787036Z"
    },
    "papermill": {
     "duration": 3.157155,
     "end_time": "2022-11-27T07:43:47.792477",
     "exception": false,
     "start_time": "2022-11-27T07:43:44.635322",
     "status": "completed"
    },
    "tags": []
   },
   "outputs": [
    {
     "name": "stdout",
     "output_type": "stream",
     "text": [
      "22/11/27 07:43:44 WARN LibSVMFileFormat: 'numFeatures' option not specified, determining the number of features by going though the input. If you know the number in advance, please specify it via 'numFeatures' option to avoid the extra scan.\n",
      "+----------+-----+--------------------+\n",
      "|prediction|label|            features|\n",
      "+----------+-----+--------------------+\n",
      "|       0.0|  0.0|(692,[121,122,123...|\n",
      "|       0.0|  0.0|(692,[122,123,124...|\n",
      "|       0.0|  0.0|(692,[126,127,128...|\n",
      "|       0.0|  0.0|(692,[126,127,128...|\n",
      "|       0.0|  0.0|(692,[126,127,128...|\n",
      "+----------+-----+--------------------+\n",
      "only showing top 5 rows\n",
      "\n",
      "Root Mean Squared Error (RMSE) on test data = 0.19245\n",
      "GBTRegressionModel: uid=GBTRegressor_afcbc4b79939, numTrees=10, numFeatures=692\n"
     ]
    }
   ],
   "source": [
    "# Load and parse the data file, converting it to a DataFrame.\n",
    "data = spark.read.format(\"libsvm\").load(\"/kaggle/input/mllib-datasets/sample_libsvm_data.txt\")\n",
    "\n",
    "# Automatically identify categorical features, and index them.\n",
    "# Set maxCategories so features with > 4 distinct values are treated as continuous.\n",
    "featureIndexer =\\\n",
    "    VectorIndexer(inputCol=\"features\", outputCol=\"indexedFeatures\", maxCategories=4).fit(data)\n",
    "\n",
    "# Split the data into training and test sets (30% held out for testing)\n",
    "(trainingData, testData) = data.randomSplit([0.7, 0.3])\n",
    "\n",
    "# Train a GBT model.\n",
    "gbt = GBTRegressor(featuresCol=\"indexedFeatures\", maxIter=10)\n",
    "\n",
    "# Chain indexer and GBT in a Pipeline\n",
    "pipeline = Pipeline(stages=[featureIndexer, gbt])\n",
    "\n",
    "# Train model.  This also runs the indexer.\n",
    "model = pipeline.fit(trainingData)\n",
    "\n",
    "# Make predictions.\n",
    "predictions = model.transform(testData)\n",
    "\n",
    "# Select example rows to display.\n",
    "predictions.select(\"prediction\", \"label\", \"features\").show(5)\n",
    "\n",
    "# Select (prediction, true label) and compute test error\n",
    "evaluator = RegressionEvaluator(\n",
    "    labelCol=\"label\", predictionCol=\"prediction\", metricName=\"rmse\")\n",
    "rmse = evaluator.evaluate(predictions)\n",
    "print(\"Root Mean Squared Error (RMSE) on test data = %g\" % rmse)\n",
    "\n",
    "gbtModel = model.stages[1]\n",
    "print(gbtModel)  "
   ]
  },
  {
   "cell_type": "markdown",
   "id": "7c60967a",
   "metadata": {
    "papermill": {
     "duration": 0.042725,
     "end_time": "2022-11-27T07:43:47.858913",
     "exception": false,
     "start_time": "2022-11-27T07:43:47.816188",
     "status": "completed"
    },
    "tags": []
   },
   "source": [
    "### Survival regression\n",
    "In spark.ml, we implement the Accelerated failure time (AFT) model which is a parametric survival regression model for censored data. It describes a model for the log of survival time, so it’s often called a log-linear model for survival analysis. Different from a Proportional hazards model designed for the same purpose, the AFT model is easier to parallelize because each instance contributes to the objective function independently."
   ]
  },
  {
   "cell_type": "code",
   "execution_count": 11,
   "id": "f9c41754",
   "metadata": {
    "execution": {
     "iopub.execute_input": "2022-11-27T07:43:47.898052Z",
     "iopub.status.busy": "2022-11-27T07:43:47.897575Z",
     "iopub.status.idle": "2022-11-27T07:43:50.620508Z",
     "shell.execute_reply": "2022-11-27T07:43:50.619064Z"
    },
    "papermill": {
     "duration": 2.746057,
     "end_time": "2022-11-27T07:43:50.624533",
     "exception": false,
     "start_time": "2022-11-27T07:43:47.878476",
     "status": "completed"
    },
    "tags": []
   },
   "outputs": [
    {
     "name": "stderr",
     "output_type": "stream",
     "text": [
      "                                                                                \r"
     ]
    },
    {
     "name": "stdout",
     "output_type": "stream",
     "text": [
      "Coefficients: [-0.49630680601998794,0.19844393975928443]\n",
      "Intercept: 2.6380905631560227\n",
      "Scale: 1.5472326865488453\n",
      "+-----+------+--------------+------------------+---------------------------------------+\n",
      "|label|censor|features      |prediction        |quantiles                              |\n",
      "+-----+------+--------------+------------------+---------------------------------------+\n",
      "|1.218|1.0   |[1.56,-0.605] |5.718996553029891 |[1.1603295951029076,4.995471733719638] |\n",
      "|2.949|0.0   |[0.346,2.158] |18.076458028588945|[3.6675401061563964,15.789559285491237]|\n",
      "|3.627|0.0   |[1.38,0.231]  |7.381875365763497 |[1.4977117707333785,6.447975512763022] |\n",
      "|0.273|1.0   |[0.52,1.151]  |13.577581299077908|[2.754761130759775,11.859846908963428] |\n",
      "|4.199|0.0   |[0.795,-0.226]|9.013093216625728 |[1.828670240609154,7.872823838856878]  |\n",
      "+-----+------+--------------+------------------+---------------------------------------+\n",
      "\n"
     ]
    }
   ],
   "source": [
    "from pyspark.ml.linalg import Vectors\n",
    "\n",
    "training = spark.createDataFrame([\n",
    "    (1.218, 1.0, Vectors.dense(1.560, -0.605)),\n",
    "    (2.949, 0.0, Vectors.dense(0.346, 2.158)),\n",
    "    (3.627, 0.0, Vectors.dense(1.380, 0.231)),\n",
    "    (0.273, 1.0, Vectors.dense(0.520, 1.151)),\n",
    "    (4.199, 0.0, Vectors.dense(0.795, -0.226))], [\"label\", \"censor\", \"features\"])\n",
    "quantileProbabilities = [0.3, 0.6]\n",
    "aft = AFTSurvivalRegression(quantileProbabilities=quantileProbabilities,\n",
    "                            quantilesCol=\"quantiles\")\n",
    "\n",
    "model = aft.fit(training)\n",
    "\n",
    "# Print the coefficients, intercept and scale parameter for AFT survival regression\n",
    "print(\"Coefficients: \" + str(model.coefficients))\n",
    "print(\"Intercept: \" + str(model.intercept))\n",
    "print(\"Scale: \" + str(model.scale))\n",
    "model.transform(training).show(truncate=False)"
   ]
  },
  {
   "cell_type": "markdown",
   "id": "92eed03d",
   "metadata": {
    "papermill": {
     "duration": 0.025017,
     "end_time": "2022-11-27T07:43:50.674954",
     "exception": false,
     "start_time": "2022-11-27T07:43:50.649937",
     "status": "completed"
    },
    "tags": []
   },
   "source": [
    "### Isotonic Regression Model\n",
    "\n",
    "Training returns an IsotonicRegressionModel that can be used to predict labels for both known and unknown features. The result of isotonic regression is treated as piecewise linear function. The rules for prediction therefore are:\n",
    "\n",
    "If the prediction input exactly matches a training feature then associated prediction is returned. In case there are multiple predictions with the same feature then one of them is returned. Which one is undefined (same as java.util.Arrays.binarySearch).\n",
    "If the prediction input is lower or higher than all training features then prediction with lowest or highest feature is returned respectively. In case there are multiple predictions with the same feature then the lowest or highest is returned respectively.\n",
    "If the prediction input falls between two training features then prediction is treated as piecewise linear function and interpolated value is calculated from the predictions of the two closest features. In case there are multiple values with the same feature then the same rules as in previous point are used."
   ]
  },
  {
   "cell_type": "code",
   "execution_count": 12,
   "id": "92ad4759",
   "metadata": {
    "execution": {
     "iopub.execute_input": "2022-11-27T07:43:50.726628Z",
     "iopub.status.busy": "2022-11-27T07:43:50.726069Z",
     "iopub.status.idle": "2022-11-27T07:43:51.274156Z",
     "shell.execute_reply": "2022-11-27T07:43:51.272749Z"
    },
    "papermill": {
     "duration": 0.578293,
     "end_time": "2022-11-27T07:43:51.278675",
     "exception": false,
     "start_time": "2022-11-27T07:43:50.700382",
     "status": "completed"
    },
    "tags": []
   },
   "outputs": [
    {
     "name": "stdout",
     "output_type": "stream",
     "text": [
      "22/11/27 07:43:50 WARN LibSVMFileFormat: 'numFeatures' option not specified, determining the number of features by going though the input. If you know the number in advance, please specify it via 'numFeatures' option to avoid the extra scan.\n",
      "Boundaries in increasing order: [0.01,0.17,0.18,0.27,0.28,0.29,0.3,0.31,0.34,0.35,0.36,0.41,0.42,0.71,0.72,0.74,0.75,0.76,0.77,0.78,0.79,0.8,0.81,0.82,0.83,0.84,0.85,0.86,0.87,0.88,0.89,1.0]\n",
      "\n",
      "Predictions associated with the boundaries: [0.15715271294117644,0.15715271294117644,0.189138196,0.189138196,0.20040796,0.29576747,0.43396226,0.5081591025000001,0.5081591025000001,0.54156043,0.5504844466666667,0.5504844466666667,0.563929967,0.563929967,0.5660377366666667,0.5660377366666667,0.56603774,0.57929628,0.64762876,0.66241713,0.67210607,0.67210607,0.674655785,0.674655785,0.73890872,0.73992861,0.84242733,0.89673636,0.89673636,0.90719021,0.9272055075,0.9272055075]\n",
      "\n",
      "+----------+--------------+-------------------+\n",
      "|     label|      features|         prediction|\n",
      "+----------+--------------+-------------------+\n",
      "|0.24579296|(1,[0],[0.01])|0.15715271294117644|\n",
      "|0.28505864|(1,[0],[0.02])|0.15715271294117644|\n",
      "|0.31208567|(1,[0],[0.03])|0.15715271294117644|\n",
      "|0.35900051|(1,[0],[0.04])|0.15715271294117644|\n",
      "|0.35747068|(1,[0],[0.05])|0.15715271294117644|\n",
      "|0.16675166|(1,[0],[0.06])|0.15715271294117644|\n",
      "|0.17491076|(1,[0],[0.07])|0.15715271294117644|\n",
      "| 0.0418154|(1,[0],[0.08])|0.15715271294117644|\n",
      "|0.04793473|(1,[0],[0.09])|0.15715271294117644|\n",
      "|0.03926568| (1,[0],[0.1])|0.15715271294117644|\n",
      "|0.12952575|(1,[0],[0.11])|0.15715271294117644|\n",
      "|       0.0|(1,[0],[0.12])|0.15715271294117644|\n",
      "|0.01376849|(1,[0],[0.13])|0.15715271294117644|\n",
      "|0.13105558|(1,[0],[0.14])|0.15715271294117644|\n",
      "|0.08873024|(1,[0],[0.15])|0.15715271294117644|\n",
      "|0.12595614|(1,[0],[0.16])|0.15715271294117644|\n",
      "|0.15247323|(1,[0],[0.17])|0.15715271294117644|\n",
      "|0.25956145|(1,[0],[0.18])|        0.189138196|\n",
      "|0.20040796|(1,[0],[0.19])|        0.189138196|\n",
      "|0.19581846| (1,[0],[0.2])|        0.189138196|\n",
      "+----------+--------------+-------------------+\n",
      "only showing top 20 rows\n",
      "\n"
     ]
    }
   ],
   "source": [
    "dataset = spark.read.format(\"libsvm\")\\\n",
    "    .load(\"/kaggle/input/mllib-datasets/sample_isotonic_regression_libsvm_data.txt\")\n",
    "\n",
    "# Trains an isotonic regression model.\n",
    "model = IsotonicRegression().fit(dataset)\n",
    "print(\"Boundaries in increasing order: %s\\n\" % str(model.boundaries))\n",
    "print(\"Predictions associated with the boundaries: %s\\n\" % str(model.predictions))\n",
    "\n",
    "# Makes predictions.\n",
    "model.transform(dataset).show()"
   ]
  },
  {
   "cell_type": "code",
   "execution_count": 13,
   "id": "13cf51f0",
   "metadata": {
    "execution": {
     "iopub.execute_input": "2022-11-27T07:43:51.324600Z",
     "iopub.status.busy": "2022-11-27T07:43:51.324211Z",
     "iopub.status.idle": "2022-11-27T07:44:00.111114Z",
     "shell.execute_reply": "2022-11-27T07:44:00.110139Z"
    },
    "papermill": {
     "duration": 8.810385,
     "end_time": "2022-11-27T07:44:00.114654",
     "exception": false,
     "start_time": "2022-11-27T07:43:51.304269",
     "status": "completed"
    },
    "tags": []
   },
   "outputs": [
    {
     "name": "stdout",
     "output_type": "stream",
     "text": [
      "22/11/27 07:43:51 WARN LibSVMFileFormat: 'numFeatures' option not specified, determining the number of features by going though the input. If you know the number in advance, please specify it via 'numFeatures' option to avoid the extra scan.\n",
      "+--------------------+-----+--------------------+\n",
      "|          prediction|label|            features|\n",
      "+--------------------+-----+--------------------+\n",
      "|  0.1277306677159193|  0.0|(692,[100,101,102...|\n",
      "|-0.12291706373733305|  0.0|(692,[121,122,123...|\n",
      "|-0.15259460137088635|  0.0|(692,[122,123,124...|\n",
      "|-0.04624183921452027|  0.0|(692,[124,125,126...|\n",
      "|-0.02744031260098742|  0.0|(692,[127,128,129...|\n",
      "+--------------------+-----+--------------------+\n",
      "only showing top 5 rows\n",
      "\n",
      "Root Mean Squared Error (RMSE) on test data = 0.110144\n",
      "Factors: DenseMatrix([[ 1.41397565e-02,  3.85168817e-04,  3.27260034e-03, ...,\n",
      "               1.44013397e-02,  6.65936437e-03, -4.89485245e-03],\n",
      "             [ 1.16794502e-03, -9.73140605e-04,  5.18966626e-04, ...,\n",
      "              -1.30661112e-03, -1.03951528e-02,  2.98509818e-05],\n",
      "             [-1.63482386e-03,  1.17839971e-02,  7.96407616e-03, ...,\n",
      "              -1.55619576e-02,  1.01252287e-02,  7.42147028e-03],\n",
      "             ...,\n",
      "             [-1.20054645e-02, -4.37291960e-03, -2.01005752e-02, ...,\n",
      "               2.81613015e-03, -1.69593629e-02, -2.57446881e-03],\n",
      "             [ 1.45697758e-02,  1.40301533e-02, -3.26245726e-02, ...,\n",
      "               1.01170965e-02, -1.07444961e-02, -4.35441369e-03],\n",
      "             [-5.24045582e-03,  1.80800169e-02, -2.71682834e-02, ...,\n",
      "               9.08141788e-03, -2.18261877e-02, -2.15416474e-02]])\n",
      "Linear: [0.0024095723241843404,0.0024095723241843404,0.0024095723241843404,0.0024095723241843404,0.0024095723241843404,0.0024095723241843404,0.0024095723241843404,0.0024095723241843404,0.0024095723241843404,0.0024095723241843404,0.0024095723241843404,0.0024095723241843404,0.0024095723241843404,0.0024095723241843404,0.0024095723241843404,0.0024095723241843404,0.0024095723241843404,0.0024095723241843404,0.0024095723241843404,0.0024095723241843404,0.0024095723241843404,0.0024095723241843404,0.0024095723241843404,0.0024095723241843404,0.0024095723241843404,0.0024095723241843404,0.0024095723241843404,0.0024095723241843404,0.0024095723241843404,0.0024095723241843404,0.0024095723241843404,0.0024095723241843404,0.0024095723241843404,0.0024095723241843404,0.0024095723241843404,0.0024095723241843404,0.0024095723241843404,0.0024095723241843404,0.0024095723241843404,0.0024095723241843404,0.0024095723241843404,0.0024095723241843404,0.0024095723241843404,0.0024095723241843404,0.0024095723241843404,0.0024095723241843404,0.0024095723241843404,0.0024095723241843404,0.0024095723241843404,0.0024095723241843404,0.0024095723241843404,0.0024095723241843404,0.0024095723241843404,0.0024095723241843404,0.0024095723241843404,0.0024095723241843404,0.0024095723241843404,0.0024095723241843404,0.0024095723241843404,0.0024095723241843404,0.0024095723241843404,0.0024095723241843404,0.0024095723241843404,0.0024095723241843404,0.0024095723241843404,0.0024095723241843404,0.0024095723241843404,0.0024095723241843404,0.0024095723241843404,0.0024095723241843404,0.0024095723241843404,0.0024095723241843404,0.0024095723241843404,0.0024095723241843404,0.0024095723241843404,0.0024095723241843404,0.0024095723241843404,0.0024095723241843404,0.0024095723241843404,0.0024095723241843404,0.0024095723241843404,0.0024095723241843404,0.0024095723241843404,0.0024095723241843404,0.0024095723241843404,0.0024095723241843404,0.0024095723241843404,0.0024095723241843404,0.0024095723241843404,0.0024095723241843404,0.0024095723241843404,0.0024095723241843404,0.0024095723241843404,0.0024095723241843404,0.0024095723241843404,-0.006624756203864551,-0.006624756203864551,-0.006624756203864551,-0.011500912809933523,0.012579690514846616,0.018386286970004214,-0.010753856805858159,-0.014747882273619799,0.0024095723241843404,0.0024095723241843404,0.0024095723241843404,0.0024095723241843404,0.0024095723241843404,0.0024095723241843404,0.0024095723241843404,0.0024095723241843404,0.0024095723241843404,0.0024095723241843404,0.0024095723241843404,0.0024095723241843404,0.0024095723241843404,0.0024095723241843404,0.0024095723241843404,0.0024095723241843404,0.013153312377890945,0.013153312377890945,0.013153312377890945,-0.005202443051284857,-0.005868092440042791,0.0006398934385834959,-0.0005197916263111523,0.0015175376400410688,-0.006559211782743675,-0.006373793269834367,-0.0069620104243258,-0.0009047782778432833,0.009484745696399361,0.013055857674198415,-0.0112128996832373,0.0024095723241843404,0.0024095723241843404,0.0024095723241843404,0.0024095723241843404,0.0024095723241843404,0.0024095723241843404,0.0024095723241843404,0.0024095723241843404,0.0024095723241843404,0.0024095723241843404,0.0024095723241843404,0.0024095723241843404,0.013153312377890945,0.013153312377890945,0.011934133636221176,0.009316163016673106,-0.00449814909361985,-0.01340996350837739,-0.0037150118291493597,-0.00448029030250241,-0.0055416050103107945,-0.007308598156988659,-0.0048624260024186725,-0.003658894862402041,-0.003107292203944094,8.994612494529227e-05,0.0024588600172566377,-0.0005595317305451959,-0.012969775679443626,-0.014173827391501585,-0.014173827391501585,0.0024095723241843404,0.0024095723241843404,0.0024095723241843404,0.0024095723241843404,0.0024095723241843404,0.0024095723241843404,0.0024095723241843404,0.0024095723241843404,0.0024095723241843404,0.013153312377890945,0.01022514112552571,0.004187094126519061,-0.0021612751827244222,-0.008125386828567923,-0.011813021375996715,-0.009144898919663474,-0.006133233336926294,-0.0053716511094587405,-0.004681162483982233,-0.002990966402734773,-0.004236047444920496,-0.0036237352088893536,-0.0028557866841718246,-0.004874978231884168,-0.004127576592369839,-0.010376868051128998,-0.014173827391501585,-0.014173827391501585,0.0024095723241843404,0.0024095723241843404,0.0024095723241843404,0.0024095723241843404,0.0024095723241843404,0.0024095723241843404,0.0024095723241843404,0.0024095723241843404,0.0024095723241843404,-0.004157057782172587,0.0004920854346196192,-0.0026117113294016887,-0.006665943032620705,-0.008520163816588773,-0.010067582485796244,-0.008964442510872429,-0.0046206591615835175,-0.0012287753073180272,-0.0017050490805258175,-0.0008750951231255372,-0.00534752147044366,-0.00428566855329448,-0.004342914485194659,-0.004800758621723215,-0.0018313317008982783,-0.0036173110453480758,-0.01326891690247974,-0.014173827391501585,0.0024095723241843404,0.0024095723241843404,0.0024095723241843404,0.0024095723241843404,0.0024095723241843404,0.0024095723241843404,0.0024095723241843404,0.0024095723241843404,-0.01069064146499134,-0.00986790672816097,-0.007510631468915397,-0.005974226794856492,-0.008730449892298773,-0.009852834243197314,-0.008870931936851099,-0.005955413556511284,-0.0012424072989113525,0.0010108835162524897,-0.0012231337970040963,0.00018664476978242405,-0.003642536724176835,-0.004408537807233535,-0.005720112468326414,-0.006687037569713012,-0.006291194613524035,-0.0034536613739786157,-0.007833906325698756,-0.013717216000720048,0.0024095723241843404,0.0024095723241843404,0.0024095723241843404,0.0024095723241843404,0.0024095723241843404,0.0024095723241843404,0.0024095723241843404,0.0024095723241843404,-0.010856747357520428,-0.010422434353180687,-0.008351611311793222,-0.009554324103905207,-0.009327766660207551,-0.009259523903289822,-0.008061070608804165,-0.0025182599121640974,-0.0003726347637906827,-0.0004351952313090482,0.001975577075538021,0.002373064423039092,-0.0014663601118212574,-0.0021835509821533446,-0.007557439561895585,-0.01002249675481679,-0.012736611463070082,-0.011300407576387091,-0.008536988512144718,-0.010060937603611233,0.0024095723241843404,0.0024095723241843404,0.0024095723241843404,0.0024095723241843404,0.0024095723241843404,0.0024095723241843404,0.0024095723241843404,0.0024095723241843404,-0.009856220834430999,-0.01010500335408427,-0.011282328983959053,-0.008370341252590206,-0.008648003268810324,-0.00884253597720335,-0.00624472273177604,-0.0026561833421341564,-0.001987114316291792,0.002603768672642536,0.004795305438854945,0.004483573241171437,0.002758800380585473,-0.0020423658429330493,-0.007606190810545171,-0.012933721015571015,-0.012765126992787337,-0.013341217661606451,-0.012618644126114326,-0.010262191485045195,0.0024095723241843404,0.0024095723241843404,0.0024095723241843404,0.0024095723241843404,0.0024095723241843404,0.0024095723241843404,0.0024095723241843404,0.0024095723241843404,-0.011751411517833217,-0.010886677867928136,-0.007755352457813225,-0.006899785363102273,-0.008052360350675605,-0.007028377555008492,-0.006438731732435575,-0.005076709218974598,3.401022274633323e-05,0.005533065499482962,0.006275277711079329,0.006404348883138452,0.005355596741006105,-0.0010964133032541218,-0.01145144225156563,-0.013369019544822003,-0.011195871831483482,-0.012735465409687877,-0.013097585000043032,-0.01499527721370166,0.0024095723241843404,0.0024095723241843404,0.0024095723241843404,0.0024095723241843404,0.0024095723241843404,0.0024095723241843404,0.0024095723241843404,0.0024095723241843404,-0.012437399146929519,-0.006731669727276381,-0.003563566955639015,-0.006823708005167997,-0.008788931358496888,-0.008147325636195846,-0.006221672494609373,-0.006363827026517765,0.0027023143064398834,0.007569490954660166,0.007852080812026516,0.0078094692911091,0.004839753530952754,-0.005938184114992988,-0.015448462645337014,-0.013207032021613701,-0.011559858411417608,-0.011728797201419274,-0.012054960962664996,-0.014585988951073419,0.0024095723241843404,0.0024095723241843404,0.0024095723241843404,0.0024095723241843404,0.0024095723241843404,0.0024095723241843404,0.0024095723241843404,0.0024095723241843404,-0.009155057508865003,-0.005639792861295622,-0.007576546581632534,-0.01271795259808545,-0.012894781864511456,-0.011825549049886398,-0.009534046354192978,-0.005353115078822441,0.005887295277053564,0.008377372276197781,0.00791939330100656,0.007425360783258247,0.007495681461784388,-0.012241970430189616,-0.014885200355276039,-0.013662362052212775,-0.011812926365303957,-0.011204061141864157,-0.01144340405380895,-0.015144891538640754,0.0024095723241843404,0.0024095723241843404,0.0024095723241843404,0.0024095723241843404,0.0024095723241843404,0.0024095723241843404,0.0024095723241843404,-0.00303683141677203,-0.007098420877911154,-0.008569189535269613,-0.012306208669018106,-0.01364267940852227,-0.013041229491229215,-0.01266645061378974,-0.009579372117002601,0.0029484500804589234,0.007647700698077605,0.008517805591762885,0.008416143551994854,0.008181120054897734,0.008416509890404033,-0.013356885130292522,-0.014317666185503279,-0.013636054237136729,-0.012285473684774879,-0.01217863746628787,-0.011881250729803962,-0.015119449637852455,0.0024095723241843404,0.0024095723241843404,0.0024095723241843404,0.0024095723241843404,0.0024095723241843404,0.0024095723241843404,0.0024095723241843404,-0.007820749877369094,-0.01420962739575284,-0.012625238780068338,-0.012068027168606955,-0.013396014607821418,-0.012903437614024214,-0.012899144936195569,-0.00034855947890284844,0.004491687051856718,0.007818399749426793,0.009343645315424493,0.008025648088622023,0.009667676351192013,0.0010536892940022956,-0.009346689672706965,-0.014277196231576585,-0.013396596227438948,-0.012659615881444859,-0.012900267961569317,-0.013156377572053622,-0.014376573086971054,0.0024095723241843404,0.0024095723241843404,0.0024095723241843404,0.0024095723241843404,0.0024095723241843404,0.0024095723241843404,0.0024095723241843404,-0.01706874121124506,-0.014811441863904514,-0.012438421511638233,-0.01270348691862883,-0.013307407031280383,-0.012788812373494664,-0.008332334238295103,0.005907589966766801,0.006315547395391481,0.007391970529742843,0.008865991127226245,0.005717715852424135,0.005477058351002223,0.010094263210213603,-0.009176752388262667,-0.010845091583390582,-0.01315391253884161,-0.013806392954333202,-0.013047277272210915,-0.012092876428167594,-0.01171199586622672,0.0024095723241843404,0.0024095723241843404,0.0024095723241843404,0.0024095723241843404,0.0024095723241843404,0.0024095723241843404,0.0024095723241843404,-0.008432808595887112,-0.013892636907044934,-0.012429556876381453,-0.012738062015166663,-0.013302790795399831,-0.01306867546730518,-0.006687427630876625,0.00610290960861279,0.0070045837599825534,0.007199157717807313,0.008615737186589667,0.006474196958407648,0.007148618254576643,-0.004066724183068139,-0.010462490828395295,-0.010376248821885524,-0.013487296899744945,-0.01453453513295027,-0.012478607756059705,-0.011219770989063228,-0.01061091658821095,0.0024095723241843404,0.0024095723241843404,0.0024095723241843404,0.0024095723241843404,0.0024095723241843404,0.0024095723241843404,0.0024095723241843404,-0.012123746824465159,-0.01315289392332973,-0.013562785010183594,-0.01290747164226613,-0.013198411592262625,-0.011669830511386283,-0.001973703858680193,0.003436098134153369,0.00679056784621553,0.0075677104916586375,0.008829091532280287,0.005297805088196661,4.580123883612223e-06,-0.00970247856656281,-0.010052342854294237,-0.011036995453460732,-0.010829663220991251,-0.010143780857453199,-0.011195985369382173,-0.011055292835857237,-0.010143200664829969,0.0024095723241843404,0.0024095723241843404,0.0024095723241843404,0.0024095723241843404,0.0024095723241843404,0.0024095723241843404,0.0024095723241843404,-0.011712964060246293,-0.013389995002574344,-0.013464880645834376,-0.013423990941729148,-0.011277493448458928,-0.008693377700136984,-0.0009396359519849941,0.003517271618259401,0.004680331023620942,0.006123512047744503,0.007017175603254957,0.0020471559148686536,-0.0053994128701830395,-0.007819594386827524,-0.007299616710349615,-0.007907153609176725,-0.008471636697753478,-0.007998312759269993,-0.012186613770147887,-0.011412922456346971,-0.009923744889314723,0.0024095723241843404,0.0024095723241843404,0.0024095723241843404,0.0024095723241843404,0.0024095723241843404,0.0024095723241843404,0.0024095723241843404,-0.010038093071082345,-0.012383397518226659,-0.012725236574006126,-0.009356445049876995,-0.009247368317716075,-0.007256348123332391,-0.00571372991725712,-0.0017193510252033878,-0.0017651533859513176,9.776190909469713e-05,0.0021984824832646985,-0.000948203934580868,-0.0053020146472201315,-0.007236951984997969,-0.005629600664923861,-0.00938898009508499,-0.0077270039469268135,-0.007682032544769971,-0.01214663147758867,-0.011329802973358087,0.0024095723241843404,0.0024095723241843404,0.0024095723241843404,0.0024095723241843404,0.0024095723241843404,0.0024095723241843404,0.0024095723241843404,0.0024095723241843404,-0.007021090271647083,-0.012183487056723308,-0.003677067772853193,-0.006174539446214354,-0.006570438659539161,-0.004879179016460336,-0.004644751136032134,-0.00307382057451429,-0.004731749214142265,-0.002648086366420345,-0.0005880094521411546,-0.0014527686029109823,-0.004555168701034319,-0.005959982147837049,-0.00863175175412636,-0.010225694697555299,-0.00768544063905276,-0.007096701904799691,-0.009636509228189687,-0.012624542529492955,0.0024095723241843404,0.0024095723241843404,0.0,0.0024095723241843404,0.0024095723241843404,0.0024095723241843404,0.0024095723241843404,0.0024095723241843404,-0.007021090271647083,-0.010500544942277748,0.003806354296678326,-0.0012377383696277006,-0.003411296644581593,-0.0023959213620886573,-0.00325943370912357,-0.002192382870109534,-0.003736264634351026,-0.004345934320891184,-0.00441635386443905,-0.0033763013897171383,-0.004865273067292412,-0.004126832523058441,-0.003135062045215994,0.0014449240367706306,-0.004782745300714838,-0.002967406093838814,-0.013470100511539601,0.0024095723241843404,0.0024095723241843404,0.0024095723241843404,0.0024095723241843404,0.0024095723241843404,0.0024095723241843404,0.0024095723241843404,0.0024095723241843404,0.0024095723241843404,0.0024095723241843404,-0.007021090271647083,-0.0118180040169856,-0.005198645732837243,-0.0030570464707128354,0.001825889780408632,0.00013094540885532139,-0.002500011080747266,-0.0053294249133517,-0.006340194407708518,-0.007111893715736774,-0.010314618132088216,-0.00697664591870933,-0.0020288606443376878,0.0042140879686668724,-0.0006514153833268598,0.0020875183966015563,0.009620781266234394,-0.01348549045151755,0.0024095723241843404,0.0024095723241843404,0.0024095723241843404,0.0024095723241843404,0.0024095723241843404,0.0024095723241843404,0.0024095723241843404,0.0024095723241843404,0.0024095723241843404,0.0024095723241843404,0.0024095723241843404,-0.01425615108754982,-0.013805611359718849,-0.014008170997205718,0.0002297263410495454,0.003377488018294301,-0.006137109560439613,-0.012677216653294706,-0.013108814271316658,-0.00618912570939357,-0.0005829976749555397,-0.007950898921705892,-0.008510896161910276,-0.009061282833717432,-0.009993549154181868]\n",
      "Intercept: 0.0024095723768057906\n"
     ]
    }
   ],
   "source": [
    "# Load and parse the data file, converting it to a DataFrame.\n",
    "data = spark.read.format(\"libsvm\").load(\"/kaggle/input/mllib-datasets/sample_libsvm_data.txt\")\n",
    "\n",
    "# Scale features.\n",
    "featureScaler = MinMaxScaler(inputCol=\"features\", outputCol=\"scaledFeatures\").fit(data)\n",
    "\n",
    "# Split the data into training and test sets (30% held out for testing)\n",
    "(trainingData, testData) = data.randomSplit([0.7, 0.3])\n",
    "\n",
    "# Train a FM model.\n",
    "fm = FMRegressor(featuresCol=\"scaledFeatures\", stepSize=0.001)\n",
    "\n",
    "# Create a Pipeline.\n",
    "pipeline = Pipeline(stages=[featureScaler, fm])\n",
    "\n",
    "# Train model.\n",
    "model = pipeline.fit(trainingData)\n",
    "\n",
    "# Make predictions.\n",
    "predictions = model.transform(testData)\n",
    "\n",
    "# Select example rows to display.\n",
    "predictions.select(\"prediction\", \"label\", \"features\").show(5)\n",
    "\n",
    "# Select (prediction, true label) and compute test error\n",
    "evaluator = RegressionEvaluator(\n",
    "    labelCol=\"label\", predictionCol=\"prediction\", metricName=\"rmse\")\n",
    "rmse = evaluator.evaluate(predictions)\n",
    "print(\"Root Mean Squared Error (RMSE) on test data = %g\" % rmse)\n",
    "\n",
    "fmModel = model.stages[1]\n",
    "print(\"Factors: \" + str(fmModel.factors))  # type: ignore\n",
    "print(\"Linear: \" + str(fmModel.linear))  # type: ignore\n",
    "print(\"Intercept: \" + str(fmModel.intercept))  # type: ignore"
   ]
  },
  {
   "cell_type": "code",
   "execution_count": null,
   "id": "88e004c0",
   "metadata": {
    "papermill": {
     "duration": 0.017227,
     "end_time": "2022-11-27T07:44:00.150443",
     "exception": false,
     "start_time": "2022-11-27T07:44:00.133216",
     "status": "completed"
    },
    "tags": []
   },
   "outputs": [],
   "source": []
  }
 ],
 "metadata": {
  "kernelspec": {
   "display_name": "Python 3",
   "language": "python",
   "name": "python3"
  },
  "language_info": {
   "codemirror_mode": {
    "name": "ipython",
    "version": 3
   },
   "file_extension": ".py",
   "mimetype": "text/x-python",
   "name": "python",
   "nbconvert_exporter": "python",
   "pygments_lexer": "ipython3",
   "version": "3.7.12"
  },
  "papermill": {
   "default_parameters": {},
   "duration": 98.836448,
   "end_time": "2022-11-27T07:44:02.790562",
   "environment_variables": {},
   "exception": null,
   "input_path": "__notebook__.ipynb",
   "output_path": "__notebook__.ipynb",
   "parameters": {},
   "start_time": "2022-11-27T07:42:23.954114",
   "version": "2.3.4"
  }
 },
 "nbformat": 4,
 "nbformat_minor": 5
}
