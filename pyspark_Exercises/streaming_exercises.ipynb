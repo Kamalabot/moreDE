{
 "cells": [
  {
   "cell_type": "code",
   "execution_count": 2,
   "id": "e7ef2a71",
   "metadata": {},
   "outputs": [],
   "source": [
    "import pyspark\n",
    "from pyspark.sql.functions import *\n",
    "from pyspark.sql import SparkSession\n",
    "import warnings\n",
    "warnings.filterwarnings('ignore')\n",
    "import boto3\n",
    "import awswrangler"
   ]
  },
  {
   "cell_type": "code",
   "execution_count": null,
   "id": "20584558",
   "metadata": {},
   "outputs": [],
   "source": [
    "sparker = SparkSession.builder.appName(\"stream reading\"). \\\n",
    "                getOrCreate()"
   ]
  },
  {
   "cell_type": "code",
   "execution_count": null,
   "id": "59e6f34d",
   "metadata": {},
   "outputs": [],
   "source": [
    "### Creating sparksession that reads from the stream\n",
    "\n",
    "read_lines = sparker.readStream.format(\"socket\"). \\\n",
    "            option(\"host\",\"localhost\"). \\\n",
    "            option(\"port\",9999). \\\n",
    "            load()"
   ]
  },
  {
   "cell_type": "code",
   "execution_count": null,
   "id": "be1b403f",
   "metadata": {},
   "outputs": [],
   "source": [
    "read_lines.printSchema()"
   ]
  },
  {
   "cell_type": "code",
   "execution_count": null,
   "id": "d1a4b3f8",
   "metadata": {},
   "outputs": [],
   "source": [
    "counting_sheep = read_lines.select(split(\"value\",' ').alias('words')). \\\n",
    "                    groupBy('words'). \\\n",
    "                    agg(count('words').alias('word_count'))"
   ]
  },
  {
   "cell_type": "code",
   "execution_count": null,
   "id": "cf0af9a2",
   "metadata": {},
   "outputs": [],
   "source": [
    "counting_sheep.printSchema()"
   ]
  },
  {
   "cell_type": "code",
   "execution_count": null,
   "id": "324308b1",
   "metadata": {},
   "outputs": [],
   "source": [
    "writing_count = counting_sheep.writeStream \\\n",
    "            .format('console') \\\n",
    "            .outputMode('update') \\\n",
    "            .start()\n",
    "\n",
    "writing_count.awaitTermination()"
   ]
  },
  {
   "cell_type": "code",
   "execution_count": null,
   "id": "1097a407",
   "metadata": {},
   "outputs": [],
   "source": [
    "practiceList = [\n",
    "    [1,\"This line is the first of many\"],\n",
    "    [2,\"Machine is talking a lot\"],\n",
    "    [3,\"Making Machines speak has been the passion for many\"]\n",
    "]\n",
    "schema_df = [\"id int\",\"line string\"]\n",
    "practiceDF = sparker.createDataFrame(data=practiceList,schema=schema_df)"
   ]
  },
  {
   "cell_type": "code",
   "execution_count": null,
   "id": "0dbdef83",
   "metadata": {},
   "outputs": [],
   "source": [
    "practiceDF.printSchema()"
   ]
  },
  {
   "cell_type": "code",
   "execution_count": null,
   "id": "530dc6ac",
   "metadata": {},
   "outputs": [],
   "source": [
    "count_sample.show()"
   ]
  },
  {
   "cell_type": "code",
   "execution_count": null,
   "id": "fcd172cc",
   "metadata": {},
   "outputs": [],
   "source": [
    "sparker.stop()"
   ]
  },
  {
   "cell_type": "code",
   "execution_count": 3,
   "id": "f2db1d34",
   "metadata": {},
   "outputs": [
    {
     "name": "stdout",
     "output_type": "stream",
     "text": [
      "23/01/26 06:54:27 WARN Utils: Your hostname, codeStation resolves to a loopback address: 127.0.1.1; using 192.168.78.83 instead (on interface wlo1)\n",
      "23/01/26 06:54:27 WARN Utils: Set SPARK_LOCAL_IP if you need to bind to another address\n"
     ]
    },
    {
     "name": "stderr",
     "output_type": "stream",
     "text": [
      "Setting default log level to \"WARN\".\n",
      "To adjust logging level use sc.setLogLevel(newLevel). For SparkR, use setLogLevel(newLevel).\n"
     ]
    },
    {
     "name": "stdout",
     "output_type": "stream",
     "text": [
      "23/01/26 06:54:30 WARN NativeCodeLoader: Unable to load native-hadoop library for your platform... using builtin-java classes where applicable\n"
     ]
    }
   ],
   "source": [
    "newSparker = SparkSession \\\n",
    "    .builder \\\n",
    "    .appName(\"Streaming Process Files\") \\\n",
    "    .config(\"spark.streaming.stopGracefullyOnShutdown\", True) \\\n",
    "    .master(\"local[*]\") \\\n",
    "    .getOrCreate()"
   ]
  },
  {
   "cell_type": "code",
   "execution_count": 5,
   "id": "34cda9ca",
   "metadata": {},
   "outputs": [],
   "source": [
    "newSparker.conf.set(\"spark.sql.streaming.schemaInference\", True)\n",
    "newSparker.conf.set(\"spark.sql.adaptive.enabled\",False)"
   ]
  },
  {
   "cell_type": "code",
   "execution_count": 11,
   "id": "93e6d98f",
   "metadata": {},
   "outputs": [
    {
     "name": "stdout",
     "output_type": "stream",
     "text": [
      "23/01/26 06:56:56 WARN TextSocketSourceProvider: The socket source should not be used for production applications! It does not support recovery.\n"
     ]
    }
   ],
   "source": [
    "### Creating sparksession that reads from the stream\n",
    "\n",
    "read_lines = newSparker.readStream.format(\"socket\"). \\\n",
    "            option(\"host\",\"localhost\"). \\\n",
    "            option(\"port\",9999). \\\n",
    "            load()"
   ]
  },
  {
   "cell_type": "code",
   "execution_count": 12,
   "id": "f891874f",
   "metadata": {},
   "outputs": [
    {
     "name": "stdout",
     "output_type": "stream",
     "text": [
      "root\n",
      " |-- words: string (nullable = false)\n",
      " |-- count_words: long (nullable = false)\n",
      "\n"
     ]
    }
   ],
   "source": [
    "#Now we can count the sheep jumping in the spark stream\n",
    "\n",
    "count_sheep_1 = read_lines.select(explode(split('value',' ')).alias('words')). \\\n",
    "                        groupBy('words'). \\\n",
    "                        agg(count('words').alias('count_words'))\n",
    "count_sheep_1.printSchema()"
   ]
  },
  {
   "cell_type": "code",
   "execution_count": 12,
   "id": "a1ddcdce",
   "metadata": {},
   "outputs": [
    {
     "name": "stdout",
     "output_type": "stream",
     "text": [
      "root\n",
      " |-- words: string (nullable = false)\n",
      " |-- count_words: long (nullable = false)\n",
      "\n"
     ]
    }
   ],
   "source": [
    "#To write the output to file watermarking is required\n",
    "\n",
    "count_sheep_1 = read_lines.select(explode(split('value',' ')).alias('words')). \\\n",
    "                        groupBy('words'). \\\n",
    "                        agg(count('words').alias('count_words'))\n",
    "count_sheep_1.printSchema()"
   ]
  },
  {
   "cell_type": "code",
   "execution_count": 21,
   "id": "a1cab958",
   "metadata": {},
   "outputs": [
    {
     "name": "stdout",
     "output_type": "stream",
     "text": [
      "23/01/26 07:08:34 WARN ResolveWriteToStream: Temporary checkpoint location created which is deleted normally when the query didn't fail: /tmp/temporary-3ce32e7d-6d36-4ccf-b142-beefd5325ad1. If it's required to delete it under any circumstances, please set spark.sql.streaming.forceDeleteTempCheckpointLocation to true. Important to know deleting temp checkpoint folder is best effort.\n"
     ]
    },
    {
     "name": "stderr",
     "output_type": "stream",
     "text": [
      "                                                                                \r"
     ]
    }
   ],
   "source": [
    "writeDf = count_sheep_1.writeStream.format(\"memory\"). \\\n",
    "        queryName('stream_table'). \\\n",
    "        outputMode(\"update\"). \\\n",
    "        start()"
   ]
  },
  {
   "cell_type": "code",
   "execution_count": 23,
   "id": "1528dfe5",
   "metadata": {},
   "outputs": [
    {
     "name": "stdout",
     "output_type": "stream",
     "text": [
      "+--------+-----------+\n",
      "|   words|count_words|\n",
      "+--------+-----------+\n",
      "|     how|          1|\n",
      "|      me|          1|\n",
      "|     see|          1|\n",
      "|   works|          1|\n",
      "|    this|          1|\n",
      "|     Let|          1|\n",
      "|      by|          1|\n",
      "|   table|          1|\n",
      "|      in|          1|\n",
      "|   works|          2|\n",
      "|updating|          1|\n",
      "|  memory|          1|\n",
      "+--------+-----------+\n",
      "\n"
     ]
    }
   ],
   "source": [
    "# Next lets get the output from the table\n",
    "\n",
    "newSparker.sql(\"SELECT * FROM stream_table\").show()"
   ]
  },
  {
   "cell_type": "code",
   "execution_count": 25,
   "id": "fc6f0601",
   "metadata": {},
   "outputs": [],
   "source": [
    "from datetime import datetime"
   ]
  },
  {
   "cell_type": "code",
   "execution_count": 44,
   "id": "0e1e4d98",
   "metadata": {},
   "outputs": [],
   "source": [
    "newtime = datetime.now().strftime('%H:%M')"
   ]
  },
  {
   "cell_type": "code",
   "execution_count": 45,
   "id": "75a7f04e",
   "metadata": {},
   "outputs": [
    {
     "data": {
      "text/plain": [
       "'07:31'"
      ]
     },
     "execution_count": 45,
     "metadata": {},
     "output_type": "execute_result"
    }
   ],
   "source": [
    "newtime"
   ]
  },
  {
   "cell_type": "code",
   "execution_count": 46,
   "id": "e5d94494",
   "metadata": {},
   "outputs": [
    {
     "name": "stdout",
     "output_type": "stream",
     "text": [
      "root\n",
      " |-- words: string (nullable = false)\n",
      " |-- count_words: long (nullable = false)\n",
      " |-- time_date: string (nullable = false)\n",
      "\n"
     ]
    }
   ],
   "source": [
    "# Lets see if for each batch execution can be done\n",
    "count_sheep_1 = read_lines.select(explode(split('value',' ')).alias('words')). \\\n",
    "                        groupBy('words'). \\\n",
    "                        agg(count('words').alias('count_words')). \\\n",
    "                        withColumn('time_date', lit(datetime.now().strftime('%H:%M')))\n",
    "count_sheep_1.printSchema()"
   ]
  },
  {
   "cell_type": "code",
   "execution_count": 31,
   "id": "b643a7d1",
   "metadata": {},
   "outputs": [
    {
     "name": "stdout",
     "output_type": "stream",
     "text": [
      "23/01/26 07:26:51 WARN ResolveWriteToStream: Temporary checkpoint location created which is deleted normally when the query didn't fail: /tmp/temporary-2372690a-1c0d-4ba2-b4ac-75532068a410. If it's required to delete it under any circumstances, please set spark.sql.streaming.forceDeleteTempCheckpointLocation to true. Important to know deleting temp checkpoint folder is best effort.\n"
     ]
    },
    {
     "name": "stderr",
     "output_type": "stream",
     "text": [
      "                                                                                \r"
     ]
    }
   ],
   "source": [
    "writeDf = count_sheep_1.writeStream.format(\"memory\"). \\\n",
    "        queryName('time_table'). \\\n",
    "        outputMode(\"update\"). \\\n",
    "        start()"
   ]
  },
  {
   "cell_type": "code",
   "execution_count": 32,
   "id": "d9fd4d3a",
   "metadata": {},
   "outputs": [
    {
     "name": "stdout",
     "output_type": "stream",
     "text": [
      "+-----+-----------+--------------------+\n",
      "|words|count_words|           time_date|\n",
      "+-----+-----------+--------------------+\n",
      "|words|          1|2023-01-26 07:26:...|\n",
      "| with|          1|2023-01-26 07:26:...|\n",
      "|these|          1|2023-01-26 07:26:...|\n",
      "|  the|          1|2023-01-26 07:26:...|\n",
      "| need|          1|2023-01-26 07:26:...|\n",
      "| time|          2|2023-01-26 07:26:...|\n",
      "|    I|          1|2023-01-26 07:26:...|\n",
      "+-----+-----------+--------------------+\n",
      "\n"
     ]
    }
   ],
   "source": [
    "newSparker.sql(\"SELECT * FROM time_table\").show()"
   ]
  },
  {
   "cell_type": "code",
   "execution_count": 49,
   "id": "3e4dd43a",
   "metadata": {},
   "outputs": [
    {
     "name": "stdout",
     "output_type": "stream",
     "text": [
      "23/01/26 07:32:55 WARN ResolveWriteToStream: Temporary checkpoint location created which is deleted normally when the query didn't fail: /tmp/temporary-b3889743-3d99-4ff0-a983-8cb65e84dc3c. If it's required to delete it under any circumstances, please set spark.sql.streaming.forceDeleteTempCheckpointLocation to true. Important to know deleting temp checkpoint folder is best effort.\n"
     ]
    },
    {
     "name": "stderr",
     "output_type": "stream",
     "text": [
      "                                                                                \r"
     ]
    }
   ],
   "source": [
    "writeDf = count_sheep_1.writeStream.format(\"memory\"). \\\n",
    "        queryName('hourMin_table'). \\\n",
    "        outputMode(\"update\"). \\\n",
    "        start()"
   ]
  },
  {
   "cell_type": "code",
   "execution_count": 54,
   "id": "ffbb051b",
   "metadata": {},
   "outputs": [
    {
     "name": "stdout",
     "output_type": "stream",
     "text": [
      "+---------+-----------+---------+\n",
      "|    words|count_words|time_date|\n",
      "+---------+-----------+---------+\n",
      "|      how|          1|    07:32|\n",
      "|     Lets|          1|    07:32|\n",
      "|      see|          1|    07:32|\n",
      "|    works|          1|    07:32|\n",
      "|     this|          1|    07:32|\n",
      "|       It|          1|    07:32|\n",
      "|    works|          2|    07:32|\n",
      "|       as|          1|    07:32|\n",
      "|     this|          2|    07:32|\n",
      "| expected|          1|    07:32|\n",
      "|     your|          1|    07:32|\n",
      "|     when|          1|    07:32|\n",
      "|       is|          1|    07:32|\n",
      "|different|          1|    07:32|\n",
      "|       it|          1|    07:32|\n",
      "|    works|          3|    07:32|\n",
      "|     from|          1|    07:32|\n",
      "|  strange|          1|    07:32|\n",
      "| expected|          2|    07:32|\n",
      "+---------+-----------+---------+\n",
      "\n"
     ]
    }
   ],
   "source": [
    "newSparker.sql(\"SELECT * FROM hourMin_table\").show()"
   ]
  },
  {
   "cell_type": "code",
   "execution_count": 63,
   "id": "db400a1c",
   "metadata": {},
   "outputs": [],
   "source": [
    "chartingData = newSparker.sql(\"SELECT * FROM hourMin_table\").toPandas()"
   ]
  },
  {
   "cell_type": "code",
   "execution_count": 59,
   "id": "d2127d49",
   "metadata": {},
   "outputs": [],
   "source": [
    "import seaborn as sns"
   ]
  },
  {
   "cell_type": "markdown",
   "id": "8f5c2f07",
   "metadata": {},
   "source": [
    "The chart updates after the new data is taken from the table and fed into the pandas dataframe. It is not real time streaming"
   ]
  },
  {
   "cell_type": "code",
   "execution_count": 64,
   "id": "a4b0b642",
   "metadata": {},
   "outputs": [
    {
     "data": {
      "text/plain": [
       "<AxesSubplot: xlabel='words', ylabel='count_words'>"
      ]
     },
     "execution_count": 64,
     "metadata": {},
     "output_type": "execute_result"
    },
    {
     "data": {
      "image/png": "[encoded data removed]",
      "text/plain": [
       "<Figure size 640x480 with 1 Axes>"
      ]
     },
     "metadata": {},
     "output_type": "display_data"
    }
   ],
   "source": [
    "sns.barplot(data=chartingData,x='words',y='count_words')"
   ]
  }
 ],
 "metadata": {
  "kernelspec": {
   "display_name": "Python 3 (ipykernel)",
   "language": "python",
   "name": "python3"
  },
  "language_info": {
   "codemirror_mode": {
    "name": "ipython",
    "version": 3
   },
   "file_extension": ".py",
   "mimetype": "text/x-python",
   "name": "python",
   "nbconvert_exporter": "python",
   "pygments_lexer": "ipython3",
   "version": "3.10.8"
  }
 },
 "nbformat": 4,
 "nbformat_minor": 5
}
