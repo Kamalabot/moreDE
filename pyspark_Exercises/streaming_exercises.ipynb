{
 "cells": [
  {
   "cell_type": "code",
   "execution_count": 84,
   "id": "e7ef2a71",
   "metadata": {},
   "outputs": [
    {
     "name": "stdout",
     "output_type": "stream",
     "text": [
      "-------------------------------------------\n",
      "Batch: 1\n",
      "-------------------------------------------\n",
      "+----------+---------+-------+\n",
      "|      date|  borough|zipcode|\n",
      "+----------+---------+-------+\n",
      "|01/01/2019|   QUEENS|  11373|\n",
      "|01/01/2019|     null|   null|\n",
      "|01/01/2019|   QUEENS|  11413|\n",
      "|01/01/2019|   QUEENS|  11413|\n",
      "|01/01/2019|     null|   null|\n",
      "|01/01/2019|     null|   null|\n",
      "|01/01/2019|MANHATTAN|  10037|\n",
      "|01/01/2019| BROOKLYN|  11217|\n",
      "|01/01/2019|   QUEENS|  11419|\n",
      "+----------+---------+-------+\n",
      "\n"
     ]
    }
   ],
   "source": [
    "import pyspark\n",
    "from pyspark.sql.functions import *\n",
    "from pyspark.sql import SparkSession\n",
    "import warnings\n",
    "warnings.filterwarnings('ignore')\n",
    "import boto3\n",
    "import awswrangler"
   ]
  },
  {
   "cell_type": "code",
   "execution_count": null,
   "id": "20584558",
   "metadata": {},
   "outputs": [],
   "source": [
    "sparker = SparkSession.builder.appName(\"stream reading\"). \\\n",
    "                getOrCreate()"
   ]
  },
  {
   "cell_type": "code",
   "execution_count": null,
   "id": "59e6f34d",
   "metadata": {},
   "outputs": [],
   "source": [
    "### Creating sparksession that reads from the stream\n",
    "\n",
    "read_lines = sparker.readStream.format(\"socket\"). \\\n",
    "            option(\"host\",\"localhost\"). \\\n",
    "            option(\"port\",9999). \\\n",
    "            load()"
   ]
  },
  {
   "cell_type": "code",
   "execution_count": null,
   "id": "be1b403f",
   "metadata": {},
   "outputs": [],
   "source": [
    "read_lines.printSchema()"
   ]
  },
  {
   "cell_type": "code",
   "execution_count": null,
   "id": "d1a4b3f8",
   "metadata": {},
   "outputs": [],
   "source": [
    "counting_sheep = read_lines.select(split(\"value\",' ').alias('words')). \\\n",
    "                    groupBy('words'). \\\n",
    "                    agg(count('words').alias('word_count'))"
   ]
  },
  {
   "cell_type": "code",
   "execution_count": null,
   "id": "cf0af9a2",
   "metadata": {},
   "outputs": [],
   "source": [
    "counting_sheep.printSchema()"
   ]
  },
  {
   "cell_type": "code",
   "execution_count": null,
   "id": "324308b1",
   "metadata": {},
   "outputs": [],
   "source": [
    "writing_count = counting_sheep.writeStream \\\n",
    "            .format('console') \\\n",
    "            .outputMode('update') \\\n",
    "            .start()\n",
    "\n",
    "writing_count.awaitTermination()"
   ]
  },
  {
   "cell_type": "code",
   "execution_count": null,
   "id": "1097a407",
   "metadata": {},
   "outputs": [],
   "source": [
    "practiceList = [\n",
    "    [1,\"This line is the first of many\"],\n",
    "    [2,\"Machine is talking a lot\"],\n",
    "    [3,\"Making Machines speak has been the passion for many\"]\n",
    "]\n",
    "schema_df = [\"id int\",\"line string\"]\n",
    "practiceDF = sparker.createDataFrame(data=practiceList,schema=schema_df)"
   ]
  },
  {
   "cell_type": "code",
   "execution_count": null,
   "id": "0dbdef83",
   "metadata": {},
   "outputs": [],
   "source": [
    "practiceDF.printSchema()"
   ]
  },
  {
   "cell_type": "code",
   "execution_count": null,
   "id": "530dc6ac",
   "metadata": {},
   "outputs": [],
   "source": [
    "count_sample.show()"
   ]
  },
  {
   "cell_type": "code",
   "execution_count": null,
   "id": "fcd172cc",
   "metadata": {},
   "outputs": [],
   "source": [
    "sparker.stop()"
   ]
  },
  {
   "cell_type": "code",
   "execution_count": 2,
   "id": "f2db1d34",
   "metadata": {},
   "outputs": [
    {
     "name": "stdout",
     "output_type": "stream",
     "text": [
      "23/01/26 10:00:02 WARN Utils: Your hostname, codeStation resolves to a loopback address: 127.0.1.1; using 192.168.78.83 instead (on interface wlo1)\n",
      "23/01/26 10:00:02 WARN Utils: Set SPARK_LOCAL_IP if you need to bind to another address\n"
     ]
    },
    {
     "name": "stderr",
     "output_type": "stream",
     "text": [
      "Setting default log level to \"WARN\".\n",
      "To adjust logging level use sc.setLogLevel(newLevel). For SparkR, use setLogLevel(newLevel).\n"
     ]
    },
    {
     "name": "stdout",
     "output_type": "stream",
     "text": [
      "23/01/26 10:00:04 WARN NativeCodeLoader: Unable to load native-hadoop library for your platform... using builtin-java classes where applicable\n"
     ]
    }
   ],
   "source": [
    "newSparker = SparkSession \\\n",
    "    .builder \\\n",
    "    .appName(\"Streaming Process Files\") \\\n",
    "    .config(\"spark.streaming.stopGracefullyOnShutdown\", True) \\\n",
    "    .master(\"local[*]\") \\\n",
    "    .getOrCreate()"
   ]
  },
  {
   "cell_type": "code",
   "execution_count": 3,
   "id": "34cda9ca",
   "metadata": {},
   "outputs": [],
   "source": [
    "newSparker.conf.set(\"spark.sql.streaming.schemaInference\", True)\n",
    "newSparker.conf.set(\"spark.sql.adaptive.enabled\",False)"
   ]
  },
  {
   "cell_type": "code",
   "execution_count": 4,
   "id": "93e6d98f",
   "metadata": {},
   "outputs": [
    {
     "name": "stdout",
     "output_type": "stream",
     "text": [
      "23/01/26 10:00:37 WARN TextSocketSourceProvider: The socket source should not be used for production applications! It does not support recovery.\n"
     ]
    }
   ],
   "source": [
    "### Creating sparksession that reads from the stream\n",
    "\n",
    "read_lines = newSparker.readStream.format(\"socket\"). \\\n",
    "            option(\"host\",\"localhost\"). \\\n",
    "            option(\"port\",9999). \\\n",
    "            load()"
   ]
  },
  {
   "cell_type": "code",
   "execution_count": 5,
   "id": "f891874f",
   "metadata": {},
   "outputs": [
    {
     "name": "stdout",
     "output_type": "stream",
     "text": [
      "root\n",
      " |-- words: string (nullable = false)\n",
      " |-- count_words: long (nullable = false)\n",
      "\n"
     ]
    }
   ],
   "source": [
    "#Now we can count the sheep jumping in the spark stream\n",
    "\n",
    "count_sheep_1 = read_lines.select(explode(split('value',' ')).alias('words')). \\\n",
    "                        groupBy('words'). \\\n",
    "                        agg(count('words').alias('count_words'))\n",
    "count_sheep_1.printSchema()"
   ]
  },
  {
   "cell_type": "code",
   "execution_count": 12,
   "id": "a1ddcdce",
   "metadata": {},
   "outputs": [
    {
     "name": "stdout",
     "output_type": "stream",
     "text": [
      "root\n",
      " |-- words: string (nullable = false)\n",
      " |-- count_words: long (nullable = false)\n",
      "\n"
     ]
    }
   ],
   "source": [
    "#To write the output to file watermarking is required\n",
    "\n",
    "count_sheep_1 = read_lines.select(explode(split('value',' ')).alias('words')). \\\n",
    "                        groupBy('words'). \\\n",
    "                        agg(count('words').alias('count_words'))\n",
    "count_sheep_1.printSchema()"
   ]
  },
  {
   "cell_type": "code",
   "execution_count": 21,
   "id": "a1cab958",
   "metadata": {},
   "outputs": [
    {
     "name": "stdout",
     "output_type": "stream",
     "text": [
      "23/01/26 07:08:34 WARN ResolveWriteToStream: Temporary checkpoint location created which is deleted normally when the query didn't fail: /tmp/temporary-3ce32e7d-6d36-4ccf-b142-beefd5325ad1. If it's required to delete it under any circumstances, please set spark.sql.streaming.forceDeleteTempCheckpointLocation to true. Important to know deleting temp checkpoint folder is best effort.\n"
     ]
    },
    {
     "name": "stderr",
     "output_type": "stream",
     "text": [
      "                                                                                \r"
     ]
    }
   ],
   "source": [
    "writeDf = count_sheep_1.writeStream.format(\"memory\"). \\\n",
    "        queryName('stream_table'). \\\n",
    "        outputMode(\"update\"). \\\n",
    "        start()"
   ]
  },
  {
   "cell_type": "code",
   "execution_count": 23,
   "id": "1528dfe5",
   "metadata": {},
   "outputs": [
    {
     "name": "stdout",
     "output_type": "stream",
     "text": [
      "+--------+-----------+\n",
      "|   words|count_words|\n",
      "+--------+-----------+\n",
      "|     how|          1|\n",
      "|      me|          1|\n",
      "|     see|          1|\n",
      "|   works|          1|\n",
      "|    this|          1|\n",
      "|     Let|          1|\n",
      "|      by|          1|\n",
      "|   table|          1|\n",
      "|      in|          1|\n",
      "|   works|          2|\n",
      "|updating|          1|\n",
      "|  memory|          1|\n",
      "+--------+-----------+\n",
      "\n"
     ]
    }
   ],
   "source": [
    "# Next lets get the output from the table\n",
    "\n",
    "newSparker.sql(\"SELECT * FROM stream_table\").show()"
   ]
  },
  {
   "cell_type": "code",
   "execution_count": 6,
   "id": "fc6f0601",
   "metadata": {},
   "outputs": [],
   "source": [
    "from datetime import datetime"
   ]
  },
  {
   "cell_type": "code",
   "execution_count": 7,
   "id": "0e1e4d98",
   "metadata": {},
   "outputs": [],
   "source": [
    "newtime = datetime.now().strftime('%H:%M')"
   ]
  },
  {
   "cell_type": "code",
   "execution_count": 8,
   "id": "75a7f04e",
   "metadata": {},
   "outputs": [
    {
     "data": {
      "text/plain": [
       "'10:01'"
      ]
     },
     "execution_count": 8,
     "metadata": {},
     "output_type": "execute_result"
    }
   ],
   "source": [
    "newtime"
   ]
  },
  {
   "cell_type": "code",
   "execution_count": 9,
   "id": "e5d94494",
   "metadata": {},
   "outputs": [
    {
     "name": "stdout",
     "output_type": "stream",
     "text": [
      "root\n",
      " |-- words: string (nullable = false)\n",
      " |-- count_words: long (nullable = false)\n",
      " |-- time_date: string (nullable = false)\n",
      "\n"
     ]
    }
   ],
   "source": [
    "# Lets see if for each batch execution can be done\n",
    "count_sheep_1 = read_lines.select(explode(split('value',' ')).alias('words')). \\\n",
    "                        groupBy('words'). \\\n",
    "                        agg(count('words').alias('count_words')). \\\n",
    "                        withColumn('time_date', lit(datetime.now().strftime('%H:%M')))\n",
    "count_sheep_1.printSchema()"
   ]
  },
  {
   "cell_type": "code",
   "execution_count": 54,
   "id": "b643a7d1",
   "metadata": {
    "collapsed": true
   },
   "outputs": [
    {
     "name": "stdout",
     "output_type": "stream",
     "text": [
      "23/01/26 10:20:59 WARN ResolveWriteToStream: Temporary checkpoint location created which is deleted normally when the query didn't fail: /tmp/temporary-624e3a61-d46e-4f48-ac3e-1391c77b47eb. If it's required to delete it under any circumstances, please set spark.sql.streaming.forceDeleteTempCheckpointLocation to true. Important to know deleting temp checkpoint folder is best effort.\n"
     ]
    },
    {
     "ename": "IllegalArgumentException",
     "evalue": "Cannot start query with name time_table as a query with that name is already active in this SparkSession",
     "output_type": "error",
     "traceback": [
      "\u001b[0;31m---------------------------------------------------------------------------\u001b[0m",
      "\u001b[0;31mIllegalArgumentException\u001b[0m                  Traceback (most recent call last)",
      "Cell \u001b[0;32mIn[54], line 4\u001b[0m\n\u001b[1;32m      1\u001b[0m writeDf \u001b[38;5;241m=\u001b[39m \u001b[43mcount_sheep_1\u001b[49m\u001b[38;5;241;43m.\u001b[39;49m\u001b[43mwriteStream\u001b[49m\u001b[38;5;241;43m.\u001b[39;49m\u001b[43mformat\u001b[49m\u001b[43m(\u001b[49m\u001b[38;5;124;43m\"\u001b[39;49m\u001b[38;5;124;43mmemory\u001b[39;49m\u001b[38;5;124;43m\"\u001b[39;49m\u001b[43m)\u001b[49m\u001b[38;5;241;43m.\u001b[39;49m\u001b[43m \u001b[49m\u001b[43m\\\u001b[49m\n\u001b[1;32m      2\u001b[0m \u001b[43m        \u001b[49m\u001b[43mqueryName\u001b[49m\u001b[43m(\u001b[49m\u001b[38;5;124;43m'\u001b[39;49m\u001b[38;5;124;43mtime_table\u001b[39;49m\u001b[38;5;124;43m'\u001b[39;49m\u001b[43m)\u001b[49m\u001b[38;5;241;43m.\u001b[39;49m\u001b[43m \u001b[49m\u001b[43m\\\u001b[49m\n\u001b[1;32m      3\u001b[0m \u001b[43m        \u001b[49m\u001b[43moutputMode\u001b[49m\u001b[43m(\u001b[49m\u001b[38;5;124;43m\"\u001b[39;49m\u001b[38;5;124;43mupdate\u001b[39;49m\u001b[38;5;124;43m\"\u001b[39;49m\u001b[43m)\u001b[49m\u001b[38;5;241;43m.\u001b[39;49m\u001b[43m \u001b[49m\u001b[43m\\\u001b[49m\n\u001b[0;32m----> 4\u001b[0m \u001b[43m        \u001b[49m\u001b[43mstart\u001b[49m\u001b[43m(\u001b[49m\u001b[43m)\u001b[49m\n",
      "File \u001b[0;32m~/.local/lib/python3.10/site-packages/pyspark/sql/streaming.py:1389\u001b[0m, in \u001b[0;36mDataStreamWriter.start\u001b[0;34m(self, path, format, outputMode, partitionBy, queryName, **options)\u001b[0m\n\u001b[1;32m   1387\u001b[0m     \u001b[38;5;28mself\u001b[39m\u001b[38;5;241m.\u001b[39mqueryName(queryName)\n\u001b[1;32m   1388\u001b[0m \u001b[38;5;28;01mif\u001b[39;00m path \u001b[38;5;129;01mis\u001b[39;00m \u001b[38;5;28;01mNone\u001b[39;00m:\n\u001b[0;32m-> 1389\u001b[0m     \u001b[38;5;28;01mreturn\u001b[39;00m \u001b[38;5;28mself\u001b[39m\u001b[38;5;241m.\u001b[39m_sq(\u001b[38;5;28;43mself\u001b[39;49m\u001b[38;5;241;43m.\u001b[39;49m\u001b[43m_jwrite\u001b[49m\u001b[38;5;241;43m.\u001b[39;49m\u001b[43mstart\u001b[49m\u001b[43m(\u001b[49m\u001b[43m)\u001b[49m)\n\u001b[1;32m   1390\u001b[0m \u001b[38;5;28;01melse\u001b[39;00m:\n\u001b[1;32m   1391\u001b[0m     \u001b[38;5;28;01mreturn\u001b[39;00m \u001b[38;5;28mself\u001b[39m\u001b[38;5;241m.\u001b[39m_sq(\u001b[38;5;28mself\u001b[39m\u001b[38;5;241m.\u001b[39m_jwrite\u001b[38;5;241m.\u001b[39mstart(path))\n",
      "File \u001b[0;32m~/.local/lib/python3.10/site-packages/py4j/java_gateway.py:1321\u001b[0m, in \u001b[0;36mJavaMember.__call__\u001b[0;34m(self, *args)\u001b[0m\n\u001b[1;32m   1315\u001b[0m command \u001b[38;5;241m=\u001b[39m proto\u001b[38;5;241m.\u001b[39mCALL_COMMAND_NAME \u001b[38;5;241m+\u001b[39m\\\n\u001b[1;32m   1316\u001b[0m     \u001b[38;5;28mself\u001b[39m\u001b[38;5;241m.\u001b[39mcommand_header \u001b[38;5;241m+\u001b[39m\\\n\u001b[1;32m   1317\u001b[0m     args_command \u001b[38;5;241m+\u001b[39m\\\n\u001b[1;32m   1318\u001b[0m     proto\u001b[38;5;241m.\u001b[39mEND_COMMAND_PART\n\u001b[1;32m   1320\u001b[0m answer \u001b[38;5;241m=\u001b[39m \u001b[38;5;28mself\u001b[39m\u001b[38;5;241m.\u001b[39mgateway_client\u001b[38;5;241m.\u001b[39msend_command(command)\n\u001b[0;32m-> 1321\u001b[0m return_value \u001b[38;5;241m=\u001b[39m \u001b[43mget_return_value\u001b[49m\u001b[43m(\u001b[49m\n\u001b[1;32m   1322\u001b[0m \u001b[43m    \u001b[49m\u001b[43manswer\u001b[49m\u001b[43m,\u001b[49m\u001b[43m \u001b[49m\u001b[38;5;28;43mself\u001b[39;49m\u001b[38;5;241;43m.\u001b[39;49m\u001b[43mgateway_client\u001b[49m\u001b[43m,\u001b[49m\u001b[43m \u001b[49m\u001b[38;5;28;43mself\u001b[39;49m\u001b[38;5;241;43m.\u001b[39;49m\u001b[43mtarget_id\u001b[49m\u001b[43m,\u001b[49m\u001b[43m \u001b[49m\u001b[38;5;28;43mself\u001b[39;49m\u001b[38;5;241;43m.\u001b[39;49m\u001b[43mname\u001b[49m\u001b[43m)\u001b[49m\n\u001b[1;32m   1324\u001b[0m \u001b[38;5;28;01mfor\u001b[39;00m temp_arg \u001b[38;5;129;01min\u001b[39;00m temp_args:\n\u001b[1;32m   1325\u001b[0m     temp_arg\u001b[38;5;241m.\u001b[39m_detach()\n",
      "File \u001b[0;32m~/.local/lib/python3.10/site-packages/pyspark/sql/utils.py:196\u001b[0m, in \u001b[0;36mcapture_sql_exception.<locals>.deco\u001b[0;34m(*a, **kw)\u001b[0m\n\u001b[1;32m    192\u001b[0m converted \u001b[38;5;241m=\u001b[39m convert_exception(e\u001b[38;5;241m.\u001b[39mjava_exception)\n\u001b[1;32m    193\u001b[0m \u001b[38;5;28;01mif\u001b[39;00m \u001b[38;5;129;01mnot\u001b[39;00m \u001b[38;5;28misinstance\u001b[39m(converted, UnknownException):\n\u001b[1;32m    194\u001b[0m     \u001b[38;5;66;03m# Hide where the exception came from that shows a non-Pythonic\u001b[39;00m\n\u001b[1;32m    195\u001b[0m     \u001b[38;5;66;03m# JVM exception message.\u001b[39;00m\n\u001b[0;32m--> 196\u001b[0m     \u001b[38;5;28;01mraise\u001b[39;00m converted \u001b[38;5;28;01mfrom\u001b[39;00m \u001b[38;5;28mNone\u001b[39m\n\u001b[1;32m    197\u001b[0m \u001b[38;5;28;01melse\u001b[39;00m:\n\u001b[1;32m    198\u001b[0m     \u001b[38;5;28;01mraise\u001b[39;00m\n",
      "\u001b[0;31mIllegalArgumentException\u001b[0m: Cannot start query with name time_table as a query with that name is already active in this SparkSession"
     ]
    }
   ],
   "source": [
    "writeDf = count_sheep_1.writeStream.format(\"memory\"). \\\n",
    "        queryName('time_table'). \\\n",
    "        outputMode(\"update\"). \\\n",
    "        start()"
   ]
  },
  {
   "cell_type": "code",
   "execution_count": 55,
   "id": "2908e5b3",
   "metadata": {},
   "outputs": [
    {
     "name": "stdout",
     "output_type": "stream",
     "text": [
      "23/01/26 10:21:24 WARN ResolveWriteToStream: Temporary checkpoint location created which is deleted normally when the query didn't fail: /tmp/temporary-83a0a7ad-ff8f-4631-b748-d1c4106c7f12. If it's required to delete it under any circumstances, please set spark.sql.streaming.forceDeleteTempCheckpointLocation to true. Important to know deleting temp checkpoint folder is best effort.\n"
     ]
    },
    {
     "name": "stderr",
     "output_type": "stream",
     "text": [
      "                                                                                \r"
     ]
    },
    {
     "name": "stdout",
     "output_type": "stream",
     "text": [
      "23/01/26 10:23:54 WARN TextSocketMicroBatchStream: Stream closed by localhost:9999\n"
     ]
    }
   ],
   "source": [
    "writeDf = count_sheep_1.writeStream.format(\"memory\"). \\\n",
    "        queryName('wat_mar'). \\\n",
    "        outputMode(\"update\"). \\\n",
    "        start()"
   ]
  },
  {
   "cell_type": "code",
   "execution_count": 25,
   "id": "d9fd4d3a",
   "metadata": {
    "collapsed": true
   },
   "outputs": [
    {
     "name": "stdout",
     "output_type": "stream",
     "text": [
      "+-----+-----------+---------+\n",
      "|words|count_words|time_date|\n",
      "+-----+-----------+---------+\n",
      "|     |          1|    10:01|\n",
      "| some|          1|    10:01|\n",
      "| data|          1|    10:01|\n",
      "| lets|          1|    10:01|\n",
      "| work|          1|    10:01|\n",
      "| give|          1|    10:01|\n",
      "| some|          2|    10:01|\n",
      "| more|          1|    10:01|\n",
      "| data|          2|    10:01|\n",
      "|  How|          1|    10:01|\n",
      "| work|          2|    10:01|\n",
      "|about|          1|    10:01|\n",
      "+-----+-----------+---------+\n",
      "\n"
     ]
    }
   ],
   "source": [
    "newSparker.sql(\"SELECT * FROM time_table\").show()"
   ]
  },
  {
   "cell_type": "code",
   "execution_count": 48,
   "id": "d2127d49",
   "metadata": {},
   "outputs": [],
   "source": [
    "import seaborn as sns"
   ]
  },
  {
   "cell_type": "markdown",
   "id": "8f5c2f07",
   "metadata": {},
   "source": [
    "The chart updates after the new data is taken from the table and fed into the pandas dataframe. It is not real time streaming"
   ]
  },
  {
   "cell_type": "code",
   "execution_count": 27,
   "id": "688af041",
   "metadata": {},
   "outputs": [],
   "source": [
    "chartingData = newSparker.sql(\"SELECT * FROM time_table\").to_pandas_on_spark()"
   ]
  },
  {
   "cell_type": "code",
   "execution_count": 45,
   "id": "fb621091",
   "metadata": {},
   "outputs": [],
   "source": [
    "chartingData = chartingData[chartingData.words != '']"
   ]
  },
  {
   "cell_type": "code",
   "execution_count": 53,
   "id": "75c6e3fc",
   "metadata": {},
   "outputs": [
    {
     "data": {
      "text/plain": [
       "<BarContainer object of 11 artists>"
      ]
     },
     "execution_count": 53,
     "metadata": {},
     "output_type": "execute_result"
    },
    {
     "data": {
      "image/png": "[encoded data removed]",
      "text/plain": [
       "<Figure size 640x480 with 1 Axes>"
      ]
     },
     "metadata": {},
     "output_type": "display_data"
    },
    {
     "name": "stdout",
     "output_type": "stream",
     "text": [
      "23/01/26 10:19:03 WARN TextSocketMicroBatchStream: Stream closed by localhost:9999\n"
     ]
    }
   ],
   "source": [
    "import matplotlib as plt\n",
    "\n",
    "plt.pyplot.bar(x=chartingData['words'].to_numpy(),\n",
    "               height=chartingData['count_words'].to_numpy())"
   ]
  },
  {
   "cell_type": "code",
   "execution_count": 67,
   "id": "25baed54",
   "metadata": {},
   "outputs": [
    {
     "name": "stdout",
     "output_type": "stream",
     "text": [
      "root\n",
      " |-- words: string (nullable = false)\n",
      " |-- count_words: long (nullable = false)\n",
      " |-- time_date: string (nullable = false)\n",
      " |-- time_stamp: timestamp (nullable = false)\n",
      "\n"
     ]
    }
   ],
   "source": [
    "#Before trying the file data ingestion, want to check water marking\n",
    "\n",
    "# Lets see if for each batch execution can be done\n",
    "count_sheep_wm = read_lines.select(explode(split('value',' ')).alias('words')). \\\n",
    "                        groupBy('words'). \\\n",
    "                        agg(count('words').alias('count_words')). \\\n",
    "                        withColumn('time_date', lit(datetime.now().strftime('%H:%M'))). \\\n",
    "                        withColumn('time_stamp', lit(datetime.now())). \\\n",
    "                        withWatermark('time_stamp','1 seconds')\n",
    "count_sheep_wm.printSchema()"
   ]
  },
  {
   "cell_type": "code",
   "execution_count": 63,
   "id": "01953d51",
   "metadata": {
    "scrolled": true
   },
   "outputs": [
    {
     "ename": "AnalysisException",
     "evalue": "Append output mode not supported when there are streaming aggregations on streaming DataFrames/DataSets without watermark;\nEventTimeWatermark time_stamp#10968: timestamp, 10 seconds\n+- Project [words#10957, count_words#10961L, time_date#10964, 2023-01-26 10:28:19.790838 AS time_stamp#10968]\n   +- Project [words#10957, count_words#10961L, 10:28 AS time_date#10964]\n      +- Aggregate [words#10957], [words#10957, count(words#10957) AS count_words#10961L]\n         +- Project [words#10957]\n            +- Generate explode(split(value#0,  , -1)), false, [words#10957]\n               +- StreamingRelationV2 org.apache.spark.sql.execution.streaming.sources.TextSocketSourceProvider@5ef536b6, socket, org.apache.spark.sql.execution.streaming.sources.TextSocketTable@e94c46a, [host=localhost, port=9999], [value#0]\n",
     "output_type": "error",
     "traceback": [
      "\u001b[0;31m---------------------------------------------------------------------------\u001b[0m",
      "\u001b[0;31mAnalysisException\u001b[0m                         Traceback (most recent call last)",
      "Cell \u001b[0;32mIn[63], line 5\u001b[0m\n\u001b[1;32m      1\u001b[0m \u001b[43mcount_sheep_wm\u001b[49m\u001b[38;5;241;43m.\u001b[39;49m\u001b[43mwriteStream\u001b[49m\u001b[38;5;241;43m.\u001b[39;49m\u001b[43mformat\u001b[49m\u001b[43m(\u001b[49m\u001b[38;5;124;43m\"\u001b[39;49m\u001b[38;5;124;43mcsv\u001b[39;49m\u001b[38;5;124;43m\"\u001b[39;49m\u001b[43m)\u001b[49m\u001b[38;5;241;43m.\u001b[39;49m\u001b[43m \u001b[49m\u001b[43m\\\u001b[49m\n\u001b[1;32m      2\u001b[0m \u001b[43m            \u001b[49m\u001b[43moutputMode\u001b[49m\u001b[43m(\u001b[49m\u001b[38;5;124;43m\"\u001b[39;49m\u001b[38;5;124;43mappend\u001b[39;49m\u001b[38;5;124;43m\"\u001b[39;49m\u001b[43m)\u001b[49m\u001b[38;5;241;43m.\u001b[39;49m\u001b[43m \u001b[49m\u001b[43m\\\u001b[49m\n\u001b[1;32m      3\u001b[0m \u001b[43m            \u001b[49m\u001b[43moption\u001b[49m\u001b[43m(\u001b[49m\u001b[38;5;124;43m\"\u001b[39;49m\u001b[38;5;124;43mcheckpointLocation\u001b[39;49m\u001b[38;5;124;43m\"\u001b[39;49m\u001b[43m,\u001b[49m\u001b[38;5;124;43m\"\u001b[39;49m\u001b[38;5;124;43mcheckpoint_dir\u001b[39;49m\u001b[38;5;124;43m\"\u001b[39;49m\u001b[43m)\u001b[49m\u001b[38;5;241;43m.\u001b[39;49m\u001b[43m \u001b[49m\u001b[43m\\\u001b[49m\n\u001b[1;32m      4\u001b[0m \u001b[43m            \u001b[49m\u001b[43moption\u001b[49m\u001b[43m(\u001b[49m\u001b[38;5;124;43m\"\u001b[39;49m\u001b[38;5;124;43mpath\u001b[39;49m\u001b[38;5;124;43m\"\u001b[39;49m\u001b[43m,\u001b[49m\u001b[38;5;124;43m\"\u001b[39;49m\u001b[38;5;124;43msamplespace/\u001b[39;49m\u001b[38;5;124;43m\"\u001b[39;49m\u001b[43m)\u001b[49m\u001b[38;5;241;43m.\u001b[39;49m\u001b[43m \u001b[49m\u001b[43m\\\u001b[49m\n\u001b[0;32m----> 5\u001b[0m \u001b[43m            \u001b[49m\u001b[43mstart\u001b[49m\u001b[43m(\u001b[49m\u001b[43m)\u001b[49m\n",
      "File \u001b[0;32m~/.local/lib/python3.10/site-packages/pyspark/sql/streaming.py:1389\u001b[0m, in \u001b[0;36mDataStreamWriter.start\u001b[0;34m(self, path, format, outputMode, partitionBy, queryName, **options)\u001b[0m\n\u001b[1;32m   1387\u001b[0m     \u001b[38;5;28mself\u001b[39m\u001b[38;5;241m.\u001b[39mqueryName(queryName)\n\u001b[1;32m   1388\u001b[0m \u001b[38;5;28;01mif\u001b[39;00m path \u001b[38;5;129;01mis\u001b[39;00m \u001b[38;5;28;01mNone\u001b[39;00m:\n\u001b[0;32m-> 1389\u001b[0m     \u001b[38;5;28;01mreturn\u001b[39;00m \u001b[38;5;28mself\u001b[39m\u001b[38;5;241m.\u001b[39m_sq(\u001b[38;5;28;43mself\u001b[39;49m\u001b[38;5;241;43m.\u001b[39;49m\u001b[43m_jwrite\u001b[49m\u001b[38;5;241;43m.\u001b[39;49m\u001b[43mstart\u001b[49m\u001b[43m(\u001b[49m\u001b[43m)\u001b[49m)\n\u001b[1;32m   1390\u001b[0m \u001b[38;5;28;01melse\u001b[39;00m:\n\u001b[1;32m   1391\u001b[0m     \u001b[38;5;28;01mreturn\u001b[39;00m \u001b[38;5;28mself\u001b[39m\u001b[38;5;241m.\u001b[39m_sq(\u001b[38;5;28mself\u001b[39m\u001b[38;5;241m.\u001b[39m_jwrite\u001b[38;5;241m.\u001b[39mstart(path))\n",
      "File \u001b[0;32m~/.local/lib/python3.10/site-packages/py4j/java_gateway.py:1321\u001b[0m, in \u001b[0;36mJavaMember.__call__\u001b[0;34m(self, *args)\u001b[0m\n\u001b[1;32m   1315\u001b[0m command \u001b[38;5;241m=\u001b[39m proto\u001b[38;5;241m.\u001b[39mCALL_COMMAND_NAME \u001b[38;5;241m+\u001b[39m\\\n\u001b[1;32m   1316\u001b[0m     \u001b[38;5;28mself\u001b[39m\u001b[38;5;241m.\u001b[39mcommand_header \u001b[38;5;241m+\u001b[39m\\\n\u001b[1;32m   1317\u001b[0m     args_command \u001b[38;5;241m+\u001b[39m\\\n\u001b[1;32m   1318\u001b[0m     proto\u001b[38;5;241m.\u001b[39mEND_COMMAND_PART\n\u001b[1;32m   1320\u001b[0m answer \u001b[38;5;241m=\u001b[39m \u001b[38;5;28mself\u001b[39m\u001b[38;5;241m.\u001b[39mgateway_client\u001b[38;5;241m.\u001b[39msend_command(command)\n\u001b[0;32m-> 1321\u001b[0m return_value \u001b[38;5;241m=\u001b[39m \u001b[43mget_return_value\u001b[49m\u001b[43m(\u001b[49m\n\u001b[1;32m   1322\u001b[0m \u001b[43m    \u001b[49m\u001b[43manswer\u001b[49m\u001b[43m,\u001b[49m\u001b[43m \u001b[49m\u001b[38;5;28;43mself\u001b[39;49m\u001b[38;5;241;43m.\u001b[39;49m\u001b[43mgateway_client\u001b[49m\u001b[43m,\u001b[49m\u001b[43m \u001b[49m\u001b[38;5;28;43mself\u001b[39;49m\u001b[38;5;241;43m.\u001b[39;49m\u001b[43mtarget_id\u001b[49m\u001b[43m,\u001b[49m\u001b[43m \u001b[49m\u001b[38;5;28;43mself\u001b[39;49m\u001b[38;5;241;43m.\u001b[39;49m\u001b[43mname\u001b[49m\u001b[43m)\u001b[49m\n\u001b[1;32m   1324\u001b[0m \u001b[38;5;28;01mfor\u001b[39;00m temp_arg \u001b[38;5;129;01min\u001b[39;00m temp_args:\n\u001b[1;32m   1325\u001b[0m     temp_arg\u001b[38;5;241m.\u001b[39m_detach()\n",
      "File \u001b[0;32m~/.local/lib/python3.10/site-packages/pyspark/sql/utils.py:196\u001b[0m, in \u001b[0;36mcapture_sql_exception.<locals>.deco\u001b[0;34m(*a, **kw)\u001b[0m\n\u001b[1;32m    192\u001b[0m converted \u001b[38;5;241m=\u001b[39m convert_exception(e\u001b[38;5;241m.\u001b[39mjava_exception)\n\u001b[1;32m    193\u001b[0m \u001b[38;5;28;01mif\u001b[39;00m \u001b[38;5;129;01mnot\u001b[39;00m \u001b[38;5;28misinstance\u001b[39m(converted, UnknownException):\n\u001b[1;32m    194\u001b[0m     \u001b[38;5;66;03m# Hide where the exception came from that shows a non-Pythonic\u001b[39;00m\n\u001b[1;32m    195\u001b[0m     \u001b[38;5;66;03m# JVM exception message.\u001b[39;00m\n\u001b[0;32m--> 196\u001b[0m     \u001b[38;5;28;01mraise\u001b[39;00m converted \u001b[38;5;28;01mfrom\u001b[39;00m \u001b[38;5;28mNone\u001b[39m\n\u001b[1;32m    197\u001b[0m \u001b[38;5;28;01melse\u001b[39;00m:\n\u001b[1;32m    198\u001b[0m     \u001b[38;5;28;01mraise\u001b[39;00m\n",
      "\u001b[0;31mAnalysisException\u001b[0m: Append output mode not supported when there are streaming aggregations on streaming DataFrames/DataSets without watermark;\nEventTimeWatermark time_stamp#10968: timestamp, 10 seconds\n+- Project [words#10957, count_words#10961L, time_date#10964, 2023-01-26 10:28:19.790838 AS time_stamp#10968]\n   +- Project [words#10957, count_words#10961L, 10:28 AS time_date#10964]\n      +- Aggregate [words#10957], [words#10957, count(words#10957) AS count_words#10961L]\n         +- Project [words#10957]\n            +- Generate explode(split(value#0,  , -1)), false, [words#10957]\n               +- StreamingRelationV2 org.apache.spark.sql.execution.streaming.sources.TextSocketSourceProvider@5ef536b6, socket, org.apache.spark.sql.execution.streaming.sources.TextSocketTable@e94c46a, [host=localhost, port=9999], [value#0]\n"
     ]
    }
   ],
   "source": [
    "count_sheep_wm.writeStream.format(\"csv\"). \\\n",
    "            outputMode(\"append\"). \\\n",
    "            option(\"checkpointLocation\",\"checkpoint_dir\"). \\\n",
    "            option(\"path\",\"samplespace/\"). \\\n",
    "            start()"
   ]
  },
  {
   "cell_type": "code",
   "execution_count": 65,
   "id": "87302937",
   "metadata": {},
   "outputs": [],
   "source": [
    "def foreach_batch_function(df, epoch_id):\n",
    "    df.where(\"count_words > 1\")"
   ]
  },
  {
   "cell_type": "code",
   "execution_count": 66,
   "id": "cea3bdd1",
   "metadata": {
    "scrolled": true
   },
   "outputs": [
    {
     "name": "stdout",
     "output_type": "stream",
     "text": [
      "23/01/26 10:39:53 WARN ResolveWriteToStream: Temporary checkpoint location created which is deleted normally when the query didn't fail: /tmp/temporary-851895a2-9edd-4cc2-9846-188b36149a76. If it's required to delete it under any circumstances, please set spark.sql.streaming.forceDeleteTempCheckpointLocation to true. Important to know deleting temp checkpoint folder is best effort.\n"
     ]
    },
    {
     "ename": "AnalysisException",
     "evalue": "Append output mode not supported when there are streaming aggregations on streaming DataFrames/DataSets without watermark;\nEventTimeWatermark time_stamp#10968: timestamp, 10 seconds\n+- Project [words#10957, count_words#10961L, time_date#10964, 2023-01-26 10:28:19.790838 AS time_stamp#10968]\n   +- Project [words#10957, count_words#10961L, 10:28 AS time_date#10964]\n      +- Aggregate [words#10957], [words#10957, count(words#10957) AS count_words#10961L]\n         +- Project [words#10957]\n            +- Generate explode(split(value#0,  , -1)), false, [words#10957]\n               +- StreamingRelationV2 org.apache.spark.sql.execution.streaming.sources.TextSocketSourceProvider@5ef536b6, socket, org.apache.spark.sql.execution.streaming.sources.TextSocketTable@e94c46a, [host=localhost, port=9999], [value#0]\n",
     "output_type": "error",
     "traceback": [
      "\u001b[0;31m---------------------------------------------------------------------------\u001b[0m",
      "\u001b[0;31mAnalysisException\u001b[0m                         Traceback (most recent call last)",
      "Cell \u001b[0;32mIn[66], line 1\u001b[0m\n\u001b[0;32m----> 1\u001b[0m \u001b[43mcount_sheep_wm\u001b[49m\u001b[38;5;241;43m.\u001b[39;49m\u001b[43mwriteStream\u001b[49m\u001b[38;5;241;43m.\u001b[39;49m\u001b[43mforeach\u001b[49m\u001b[43m(\u001b[49m\u001b[43mforeach_batch_function\u001b[49m\u001b[43m)\u001b[49m\u001b[38;5;241;43m.\u001b[39;49m\u001b[43mstart\u001b[49m\u001b[43m(\u001b[49m\u001b[43m)\u001b[49m\n",
      "File \u001b[0;32m~/.local/lib/python3.10/site-packages/pyspark/sql/streaming.py:1389\u001b[0m, in \u001b[0;36mDataStreamWriter.start\u001b[0;34m(self, path, format, outputMode, partitionBy, queryName, **options)\u001b[0m\n\u001b[1;32m   1387\u001b[0m     \u001b[38;5;28mself\u001b[39m\u001b[38;5;241m.\u001b[39mqueryName(queryName)\n\u001b[1;32m   1388\u001b[0m \u001b[38;5;28;01mif\u001b[39;00m path \u001b[38;5;129;01mis\u001b[39;00m \u001b[38;5;28;01mNone\u001b[39;00m:\n\u001b[0;32m-> 1389\u001b[0m     \u001b[38;5;28;01mreturn\u001b[39;00m \u001b[38;5;28mself\u001b[39m\u001b[38;5;241m.\u001b[39m_sq(\u001b[38;5;28;43mself\u001b[39;49m\u001b[38;5;241;43m.\u001b[39;49m\u001b[43m_jwrite\u001b[49m\u001b[38;5;241;43m.\u001b[39;49m\u001b[43mstart\u001b[49m\u001b[43m(\u001b[49m\u001b[43m)\u001b[49m)\n\u001b[1;32m   1390\u001b[0m \u001b[38;5;28;01melse\u001b[39;00m:\n\u001b[1;32m   1391\u001b[0m     \u001b[38;5;28;01mreturn\u001b[39;00m \u001b[38;5;28mself\u001b[39m\u001b[38;5;241m.\u001b[39m_sq(\u001b[38;5;28mself\u001b[39m\u001b[38;5;241m.\u001b[39m_jwrite\u001b[38;5;241m.\u001b[39mstart(path))\n",
      "File \u001b[0;32m~/.local/lib/python3.10/site-packages/py4j/java_gateway.py:1321\u001b[0m, in \u001b[0;36mJavaMember.__call__\u001b[0;34m(self, *args)\u001b[0m\n\u001b[1;32m   1315\u001b[0m command \u001b[38;5;241m=\u001b[39m proto\u001b[38;5;241m.\u001b[39mCALL_COMMAND_NAME \u001b[38;5;241m+\u001b[39m\\\n\u001b[1;32m   1316\u001b[0m     \u001b[38;5;28mself\u001b[39m\u001b[38;5;241m.\u001b[39mcommand_header \u001b[38;5;241m+\u001b[39m\\\n\u001b[1;32m   1317\u001b[0m     args_command \u001b[38;5;241m+\u001b[39m\\\n\u001b[1;32m   1318\u001b[0m     proto\u001b[38;5;241m.\u001b[39mEND_COMMAND_PART\n\u001b[1;32m   1320\u001b[0m answer \u001b[38;5;241m=\u001b[39m \u001b[38;5;28mself\u001b[39m\u001b[38;5;241m.\u001b[39mgateway_client\u001b[38;5;241m.\u001b[39msend_command(command)\n\u001b[0;32m-> 1321\u001b[0m return_value \u001b[38;5;241m=\u001b[39m \u001b[43mget_return_value\u001b[49m\u001b[43m(\u001b[49m\n\u001b[1;32m   1322\u001b[0m \u001b[43m    \u001b[49m\u001b[43manswer\u001b[49m\u001b[43m,\u001b[49m\u001b[43m \u001b[49m\u001b[38;5;28;43mself\u001b[39;49m\u001b[38;5;241;43m.\u001b[39;49m\u001b[43mgateway_client\u001b[49m\u001b[43m,\u001b[49m\u001b[43m \u001b[49m\u001b[38;5;28;43mself\u001b[39;49m\u001b[38;5;241;43m.\u001b[39;49m\u001b[43mtarget_id\u001b[49m\u001b[43m,\u001b[49m\u001b[43m \u001b[49m\u001b[38;5;28;43mself\u001b[39;49m\u001b[38;5;241;43m.\u001b[39;49m\u001b[43mname\u001b[49m\u001b[43m)\u001b[49m\n\u001b[1;32m   1324\u001b[0m \u001b[38;5;28;01mfor\u001b[39;00m temp_arg \u001b[38;5;129;01min\u001b[39;00m temp_args:\n\u001b[1;32m   1325\u001b[0m     temp_arg\u001b[38;5;241m.\u001b[39m_detach()\n",
      "File \u001b[0;32m~/.local/lib/python3.10/site-packages/pyspark/sql/utils.py:196\u001b[0m, in \u001b[0;36mcapture_sql_exception.<locals>.deco\u001b[0;34m(*a, **kw)\u001b[0m\n\u001b[1;32m    192\u001b[0m converted \u001b[38;5;241m=\u001b[39m convert_exception(e\u001b[38;5;241m.\u001b[39mjava_exception)\n\u001b[1;32m    193\u001b[0m \u001b[38;5;28;01mif\u001b[39;00m \u001b[38;5;129;01mnot\u001b[39;00m \u001b[38;5;28misinstance\u001b[39m(converted, UnknownException):\n\u001b[1;32m    194\u001b[0m     \u001b[38;5;66;03m# Hide where the exception came from that shows a non-Pythonic\u001b[39;00m\n\u001b[1;32m    195\u001b[0m     \u001b[38;5;66;03m# JVM exception message.\u001b[39;00m\n\u001b[0;32m--> 196\u001b[0m     \u001b[38;5;28;01mraise\u001b[39;00m converted \u001b[38;5;28;01mfrom\u001b[39;00m \u001b[38;5;28mNone\u001b[39m\n\u001b[1;32m    197\u001b[0m \u001b[38;5;28;01melse\u001b[39;00m:\n\u001b[1;32m    198\u001b[0m     \u001b[38;5;28;01mraise\u001b[39;00m\n",
      "\u001b[0;31mAnalysisException\u001b[0m: Append output mode not supported when there are streaming aggregations on streaming DataFrames/DataSets without watermark;\nEventTimeWatermark time_stamp#10968: timestamp, 10 seconds\n+- Project [words#10957, count_words#10961L, time_date#10964, 2023-01-26 10:28:19.790838 AS time_stamp#10968]\n   +- Project [words#10957, count_words#10961L, 10:28 AS time_date#10964]\n      +- Aggregate [words#10957], [words#10957, count(words#10957) AS count_words#10961L]\n         +- Project [words#10957]\n            +- Generate explode(split(value#0,  , -1)), false, [words#10957]\n               +- StreamingRelationV2 org.apache.spark.sql.execution.streaming.sources.TextSocketSourceProvider@5ef536b6, socket, org.apache.spark.sql.execution.streaming.sources.TextSocketTable@e94c46a, [host=localhost, port=9999], [value#0]\n"
     ]
    }
   ],
   "source": [
    "count_sheep_wm.writeStream. \\\n",
    "            foreach(foreach_batch_function). \\\n",
    "            outputMode('')\n",
    "            start()"
   ]
  },
  {
   "cell_type": "code",
   "execution_count": 90,
   "id": "da37bb36",
   "metadata": {},
   "outputs": [],
   "source": [
    "fileData= newSparker.readStream.format('csv'). \\\n",
    "    option(\"cleanSource\",\"archive\"). \\\n",
    "    option(\"sourceArchiveDir\",\"checkpoint_dir\"). \\\n",
    "    option(\"maxFilesPerTrigger\",1). \\\n",
    "    load('samplesource',)"
   ]
  },
  {
   "cell_type": "code",
   "execution_count": 91,
   "id": "301fd266",
   "metadata": {},
   "outputs": [],
   "source": [
    "selectedData = fileData.selectExpr(\"_c0 as date\",\"_c2 as borough\",\n",
    "                                   \"_c3 as zipcode\")"
   ]
  },
  {
   "cell_type": "code",
   "execution_count": 92,
   "id": "c2293e8d",
   "metadata": {},
   "outputs": [
    {
     "name": "stdout",
     "output_type": "stream",
     "text": [
      "23/01/26 12:47:34 WARN ResolveWriteToStream: Temporary checkpoint location created which is deleted normally when the query didn't fail: /tmp/temporary-26e94f68-4fbf-4af1-b7e0-f2e5595678b9. If it's required to delete it under any circumstances, please set spark.sql.streaming.forceDeleteTempCheckpointLocation to true. Important to know deleting temp checkpoint folder is best effort.\n"
     ]
    },
    {
     "data": {
      "text/plain": [
       "<pyspark.sql.streaming.StreamingQuery at 0x7fb1813dbd90>"
      ]
     },
     "execution_count": 92,
     "metadata": {},
     "output_type": "execute_result"
    },
    {
     "name": "stdout",
     "output_type": "stream",
     "text": [
      "-------------------------------------------\n",
      "Batch: 0\n",
      "-------------------------------------------\n",
      "+----------+---------+-------+\n",
      "|      date|  borough|zipcode|\n",
      "+----------+---------+-------+\n",
      "|      date|  borough|    zip|\n",
      "|01/01/2019|     null|   null|\n",
      "|01/01/2019|     null|   null|\n",
      "|01/01/2019|     null|   null|\n",
      "|01/01/2019|     null|   null|\n",
      "|01/01/2019| BROOKLYN|  11219|\n",
      "|01/01/2019|     null|   null|\n",
      "|01/01/2019| BROOKLYN|  11208|\n",
      "|01/01/2019|   QUEENS|  11355|\n",
      "|01/01/2019|     null|   null|\n",
      "|01/01/2019|   QUEENS|  11373|\n",
      "|01/01/2019|     null|   null|\n",
      "|01/01/2019|   QUEENS|  11413|\n",
      "|01/01/2019|   QUEENS|  11413|\n",
      "|01/01/2019|     null|   null|\n",
      "|01/01/2019|     null|   null|\n",
      "|01/01/2019|MANHATTAN|  10037|\n",
      "|01/01/2019| BROOKLYN|  11217|\n",
      "|01/01/2019|   QUEENS|  11419|\n",
      "|01/01/2019|    BRONX|  10463|\n",
      "+----------+---------+-------+\n",
      "only showing top 20 rows\n",
      "\n",
      "23/01/26 12:48:05 WARN FileStreamSource$SourceFileArchiver: Fail to move file:/run/media/solverbot/repoA/gitFolders/moreDE/pyspark_Exercises/samplesource/part_001.csv to file:/run/media/solverbot/repoA/gitFolders/moreDE/pyspark_Exercises/checkpoint_dir/run/media/solverbot/repoA/gitFolders/moreDE/pyspark_Exercises/samplesource/part_001.csv / skip moving file.\n",
      "23/01/26 12:48:05 WARN FileStreamSource$SourceFileArchiver: Fail to move file:/run/media/solverbot/repoA/gitFolders/moreDE/pyspark_Exercises/samplesource/part_001.csv to file:/run/media/solverbot/repoA/gitFolders/moreDE/pyspark_Exercises/checkpoint_dir/run/media/solverbot/repoA/gitFolders/moreDE/pyspark_Exercises/samplesource/part_001.csv / skip moving file.\n",
      "23/01/26 12:48:05 WARN FileStreamSource$SourceFileArchiver: Fail to move file:/run/media/solverbot/repoA/gitFolders/moreDE/pyspark_Exercises/samplesource/part_001.csv to file:/run/media/solverbot/repoA/gitFolders/moreDE/pyspark_Exercises/checkpoint_dir/run/media/solverbot/repoA/gitFolders/moreDE/pyspark_Exercises/samplesource/part_001.csv / skip moving file.\n",
      "23/01/26 12:48:05 WARN FileStreamSource$SourceFileArchiver: Fail to move file:/run/media/solverbot/repoA/gitFolders/moreDE/pyspark_Exercises/samplesource/part_001.csv to file:/run/media/solverbot/repoA/gitFolders/moreDE/pyspark_Exercises/checkpoint_dir/run/media/solverbot/repoA/gitFolders/moreDE/pyspark_Exercises/samplesource/part_001.csv / skip moving file.\n",
      "23/01/26 12:48:05 WARN FileStreamSource$SourceFileArchiver: Fail to move file:/run/media/solverbot/repoA/gitFolders/moreDE/pyspark_Exercises/samplesource/part_001.csv to file:/run/media/solverbot/repoA/gitFolders/moreDE/pyspark_Exercises/checkpoint_dir/run/media/solverbot/repoA/gitFolders/moreDE/pyspark_Exercises/samplesource/part_001.csv / skip moving file.\n",
      "-------------------------------------------\n",
      "Batch: 4\n",
      "-------------------------------------------\n",
      "-------------------------------------------\n",
      "Batch: 10\n",
      "-------------------------------------------\n",
      "-------------------------------------------\n",
      "Batch: 4\n",
      "-------------------------------------------\n",
      "+----+-------+-------+\n",
      "|date|borough|zipcode|\n",
      "+----+-------+-------+\n",
      "+----+-------+-------+\n",
      "\n",
      "-------------------------------------------\n",
      "Batch: 1\n",
      "-------------------------------------------\n",
      "+----+-------+-------+\n",
      "|date|borough|zipcode|\n",
      "+----+-------+-------+\n",
      "+----+-------+-------+\n",
      "\n",
      "+----+-------+-------+\n",
      "|date|borough|zipcode|\n",
      "+----+-------+-------+\n",
      "+----+-------+-------+\n",
      "\n",
      "+----+-------+-------+\n",
      "|date|borough|zipcode|\n",
      "+----+-------+-------+\n",
      "+----+-------+-------+\n",
      "\n",
      "-------------------------------------------\n",
      "Batch: 11\n",
      "-------------------------------------------\n",
      "-------------------------------------------\n",
      "Batch: 5\n",
      "-------------------------------------------\n",
      "+----+-------+-------+\n",
      "|date|borough|zipcode|\n",
      "+----+-------+-------+\n",
      "+----+-------+-------+\n",
      "\n",
      "+----+-------+-------+\n",
      "|date|borough|zipcode|\n",
      "+----+-------+-------+\n",
      "+----+-------+-------+\n",
      "\n",
      "23/01/26 12:49:07 WARN FileStreamSource$SourceFileArchiver: Fail to move file:/run/media/solverbot/repoA/gitFolders/moreDE/pyspark_Exercises/samplesource/part_002.csv to file:/run/media/solverbot/repoA/gitFolders/moreDE/pyspark_Exercises/checkpoint_dir/run/media/solverbot/repoA/gitFolders/moreDE/pyspark_Exercises/samplesource/part_002.csv / skip moving file.\n",
      "23/01/26 12:49:07 WARN FileStreamSource$SourceFileArchiver: Fail to move file:/run/media/solverbot/repoA/gitFolders/moreDE/pyspark_Exercises/samplesource/part_002.csv to file:/run/media/solverbot/repoA/gitFolders/moreDE/pyspark_Exercises/checkpoint_dir/run/media/solverbot/repoA/gitFolders/moreDE/pyspark_Exercises/samplesource/part_002.csv / skip moving file.\n",
      "23/01/26 12:49:07 WARN FileStreamSource$SourceFileArchiver: Fail to move file:/run/media/solverbot/repoA/gitFolders/moreDE/pyspark_Exercises/samplesource/part_002.csv to file:/run/media/solverbot/repoA/gitFolders/moreDE/pyspark_Exercises/checkpoint_dir/run/media/solverbot/repoA/gitFolders/moreDE/pyspark_Exercises/samplesource/part_002.csv / skip moving file.\n",
      "23/01/26 12:49:07 WARN FileStreamSource$SourceFileArchiver: Fail to move file:/run/media/solverbot/repoA/gitFolders/moreDE/pyspark_Exercises/samplesource/part_002.csv to file:/run/media/solverbot/repoA/gitFolders/moreDE/pyspark_Exercises/checkpoint_dir/run/media/solverbot/repoA/gitFolders/moreDE/pyspark_Exercises/samplesource/part_002.csv / skip moving file.\n",
      "23/01/26 12:49:07 WARN FileStreamSource$SourceFileArchiver: Fail to move file:/run/media/solverbot/repoA/gitFolders/moreDE/pyspark_Exercises/samplesource/part_002.csv to file:/run/media/solverbot/repoA/gitFolders/moreDE/pyspark_Exercises/checkpoint_dir/run/media/solverbot/repoA/gitFolders/moreDE/pyspark_Exercises/samplesource/part_002.csv / skip moving file.\n",
      "-------------------------------------------\n",
      "Batch: 5\n",
      "-------------------------------------------\n",
      "+----------+-------------+-------+\n",
      "|      date|      borough|zipcode|\n",
      "+----------+-------------+-------+\n",
      "|01/01/2019|        BRONX|  10468|\n",
      "|01/01/2019|     BROOKLYN|  11208|\n",
      "|01/01/2019|         null|   null|\n",
      "|01/01/2019|    MANHATTAN|  10013|\n",
      "|01/01/2019|     BROOKLYN|  11236|\n",
      "|01/01/2019|     BROOKLYN|  11213|\n",
      "|01/01/2019|       QUEENS|  11367|\n",
      "|01/01/2019|         null|   null|\n",
      "|01/01/2019|     BROOKLYN|  11236|\n",
      "|01/01/2019|         null|   null|\n",
      "|01/01/2019|         null|   null|\n",
      "|01/01/2019|        BRONX|  10460|\n",
      "|01/01/2019|       QUEENS|  11434|\n",
      "|01/01/2019|         null|   null|\n",
      "|01/01/2019|        BRONX|  10455|\n",
      "|01/01/2019|        BRONX|  10463|\n",
      "|01/01/2019|STATEN ISLAND|  10310|\n",
      "|01/01/2019|        BRONX|  10468|\n",
      "|01/01/2019|       QUEENS|  11354|\n",
      "|01/01/2019|       QUEENS|  11412|\n",
      "+----------+-------------+-------+\n",
      "only showing top 20 rows\n",
      "\n",
      "-------------------------------------------\n",
      "Batch: 12\n",
      "-------------------------------------------\n",
      "-------------------------------------------\n",
      "Batch: 5\n",
      "-------------------------------------------\n",
      "-------------------------------------------\n",
      "Batch: 6\n",
      "-------------------------------------------\n",
      "-------------------------------------------\n",
      "Batch: 2\n",
      "-------------------------------------------\n",
      "-------------------------------------------\n",
      "Batch: 11\n",
      "-------------------------------------------\n",
      "+----------+-------------+-------+\n",
      "|      date|      borough|zipcode|\n",
      "+----------+-------------+-------+\n",
      "|01/01/2019|        BRONX|  10468|\n",
      "|01/01/2019|     BROOKLYN|  11208|\n",
      "|01/01/2019|         null|   null|\n",
      "|01/01/2019|    MANHATTAN|  10013|\n",
      "|01/01/2019|     BROOKLYN|  11236|\n",
      "|01/01/2019|     BROOKLYN|  11213|\n",
      "|01/01/2019|       QUEENS|  11367|\n",
      "|01/01/2019|         null|   null|\n",
      "|01/01/2019|     BROOKLYN|  11236|\n",
      "|01/01/2019|         null|   null|\n",
      "|01/01/2019|         null|   null|\n",
      "|01/01/2019|        BRONX|  10460|\n",
      "|01/01/2019|       QUEENS|  11434|\n",
      "|01/01/2019|         null|   null|\n",
      "|01/01/2019|        BRONX|  10455|\n",
      "|01/01/2019|        BRONX|  10463|\n",
      "|01/01/2019|STATEN ISLAND|  10310|\n",
      "|01/01/2019|        BRONX|  10468|\n",
      "|01/01/2019|       QUEENS|  11354|\n",
      "|01/01/2019|       QUEENS|  11412|\n",
      "+----------+-------------+-------+\n",
      "only showing top 20 rows\n",
      "\n",
      "+----------+-------------+-------+\n",
      "|      date|      borough|zipcode|\n",
      "+----------+-------------+-------+\n",
      "|01/01/2019|        BRONX|  10468|\n",
      "|01/01/2019|     BROOKLYN|  11208|\n",
      "|01/01/2019|         null|   null|\n",
      "|01/01/2019|    MANHATTAN|  10013|\n",
      "|01/01/2019|     BROOKLYN|  11236|\n",
      "|01/01/2019|     BROOKLYN|  11213|\n",
      "|01/01/2019|       QUEENS|  11367|\n",
      "|01/01/2019|         null|   null|\n",
      "|01/01/2019|     BROOKLYN|  11236|\n",
      "|01/01/2019|         null|   null|\n",
      "|01/01/2019|         null|   null|\n",
      "|01/01/2019|        BRONX|  10460|\n",
      "|01/01/2019|       QUEENS|  11434|\n",
      "|01/01/2019|         null|   null|\n",
      "|01/01/2019|        BRONX|  10455|\n",
      "|01/01/2019|        BRONX|  10463|\n",
      "|01/01/2019|STATEN ISLAND|  10310|\n",
      "|01/01/2019|        BRONX|  10468|\n",
      "|01/01/2019|       QUEENS|  11354|\n",
      "|01/01/2019|       QUEENS|  11412|\n",
      "+----------+-------------+-------+\n",
      "only showing top 20 rows\n",
      "\n",
      "+----------+-------------+-------+\n",
      "|      date|      borough|zipcode|\n",
      "+----------+-------------+-------+\n",
      "|01/01/2019|        BRONX|  10468|\n",
      "|01/01/2019|     BROOKLYN|  11208|\n",
      "|01/01/2019|         null|   null|\n",
      "|01/01/2019|    MANHATTAN|  10013|\n",
      "|01/01/2019|     BROOKLYN|  11236|\n",
      "|01/01/2019|     BROOKLYN|  11213|\n",
      "|01/01/2019|       QUEENS|  11367|\n",
      "|01/01/2019|         null|   null|\n",
      "|01/01/2019|     BROOKLYN|  11236|\n",
      "|01/01/2019|         null|   null|\n",
      "|01/01/2019|         null|   null|\n",
      "|01/01/2019|        BRONX|  10460|\n",
      "|01/01/2019|       QUEENS|  11434|\n",
      "|01/01/2019|         null|   null|\n",
      "|01/01/2019|        BRONX|  10455|\n",
      "|01/01/2019|        BRONX|  10463|\n",
      "|01/01/2019|STATEN ISLAND|  10310|\n",
      "|01/01/2019|        BRONX|  10468|\n",
      "|01/01/2019|       QUEENS|  11354|\n",
      "|01/01/2019|       QUEENS|  11412|\n",
      "+----------+-------------+-------+\n",
      "only showing top 20 rows\n",
      "\n",
      "+----------+-------------+-------+\n",
      "|      date|      borough|zipcode|\n",
      "+----------+-------------+-------+\n",
      "|01/01/2019|        BRONX|  10468|\n",
      "|01/01/2019|     BROOKLYN|  11208|\n",
      "|01/01/2019|         null|   null|\n",
      "|01/01/2019|    MANHATTAN|  10013|\n",
      "|01/01/2019|     BROOKLYN|  11236|\n",
      "|01/01/2019|     BROOKLYN|  11213|\n",
      "|01/01/2019|       QUEENS|  11367|\n",
      "|01/01/2019|         null|   null|\n",
      "|01/01/2019|     BROOKLYN|  11236|\n",
      "|01/01/2019|         null|   null|\n",
      "|01/01/2019|         null|   null|\n",
      "|01/01/2019|        BRONX|  10460|\n",
      "|01/01/2019|       QUEENS|  11434|\n",
      "|01/01/2019|         null|   null|\n",
      "|01/01/2019|        BRONX|  10455|\n",
      "|01/01/2019|        BRONX|  10463|\n",
      "|01/01/2019|STATEN ISLAND|  10310|\n",
      "|01/01/2019|        BRONX|  10468|\n",
      "|01/01/2019|       QUEENS|  11354|\n",
      "|01/01/2019|       QUEENS|  11412|\n",
      "+----------+-------------+-------+\n",
      "only showing top 20 rows\n",
      "\n",
      "+----------+-------------+-------+\n",
      "|      date|      borough|zipcode|\n",
      "+----------+-------------+-------+\n",
      "|01/01/2019|        BRONX|  10468|\n",
      "|01/01/2019|     BROOKLYN|  11208|\n",
      "|01/01/2019|         null|   null|\n",
      "|01/01/2019|    MANHATTAN|  10013|\n",
      "|01/01/2019|     BROOKLYN|  11236|\n",
      "|01/01/2019|     BROOKLYN|  11213|\n",
      "|01/01/2019|       QUEENS|  11367|\n",
      "|01/01/2019|         null|   null|\n",
      "|01/01/2019|     BROOKLYN|  11236|\n",
      "|01/01/2019|         null|   null|\n",
      "|01/01/2019|         null|   null|\n",
      "|01/01/2019|        BRONX|  10460|\n",
      "|01/01/2019|       QUEENS|  11434|\n",
      "|01/01/2019|         null|   null|\n",
      "|01/01/2019|        BRONX|  10455|\n",
      "|01/01/2019|        BRONX|  10463|\n",
      "|01/01/2019|STATEN ISLAND|  10310|\n",
      "|01/01/2019|        BRONX|  10468|\n",
      "|01/01/2019|       QUEENS|  11354|\n",
      "|01/01/2019|       QUEENS|  11412|\n",
      "+----------+-------------+-------+\n",
      "only showing top 20 rows\n",
      "\n"
     ]
    },
    {
     "name": "stdout",
     "output_type": "stream",
     "text": [
      "23/01/26 12:50:42 WARN FileStreamSource$SourceFileArchiver: Fail to move file:/run/media/solverbot/repoA/gitFolders/moreDE/pyspark_Exercises/samplesource/part_003.csv to file:/run/media/solverbot/repoA/gitFolders/moreDE/pyspark_Exercises/checkpoint_dir/run/media/solverbot/repoA/gitFolders/moreDE/pyspark_Exercises/samplesource/part_003.csv / skip moving file.\n",
      "23/01/26 12:50:42 WARN FileStreamSource$SourceFileArchiver: Fail to move file:/run/media/solverbot/repoA/gitFolders/moreDE/pyspark_Exercises/samplesource/part_003.csv to file:/run/media/solverbot/repoA/gitFolders/moreDE/pyspark_Exercises/checkpoint_dir/run/media/solverbot/repoA/gitFolders/moreDE/pyspark_Exercises/samplesource/part_003.csv / skip moving file.\n",
      "23/01/26 12:50:42 WARN FileStreamSource$SourceFileArchiver: Fail to move file:/run/media/solverbot/repoA/gitFolders/moreDE/pyspark_Exercises/samplesource/part_003.csv to file:/run/media/solverbot/repoA/gitFolders/moreDE/pyspark_Exercises/checkpoint_dir/run/media/solverbot/repoA/gitFolders/moreDE/pyspark_Exercises/samplesource/part_003.csv / skip moving file.\n",
      "23/01/26 12:50:42 WARN FileStreamSource$SourceFileArchiver: Fail to move file:/run/media/solverbot/repoA/gitFolders/moreDE/pyspark_Exercises/samplesource/part_003.csv to file:/run/media/solverbot/repoA/gitFolders/moreDE/pyspark_Exercises/checkpoint_dir/run/media/solverbot/repoA/gitFolders/moreDE/pyspark_Exercises/samplesource/part_003.csv / skip moving file.\n",
      "23/01/26 12:50:42 WARN FileStreamSource$SourceFileArchiver: Fail to move file:/run/media/solverbot/repoA/gitFolders/moreDE/pyspark_Exercises/samplesource/part_003.csv to file:/run/media/solverbot/repoA/gitFolders/moreDE/pyspark_Exercises/checkpoint_dir/run/media/solverbot/repoA/gitFolders/moreDE/pyspark_Exercises/samplesource/part_003.csv / skip moving file.\n",
      "-------------------------------------------\n",
      "Batch: 6\n",
      "-------------------------------------------\n",
      "+----------+--------+-------+\n",
      "|      date| borough|zipcode|\n",
      "+----------+--------+-------+\n",
      "|01/01/2019|  QUEENS|  11691|\n",
      "|01/01/2019|    null|   null|\n",
      "|01/01/2019|BROOKLYN|  11229|\n",
      "|01/01/2019|    null|   null|\n",
      "|01/01/2019|    null|   null|\n",
      "|01/01/2019|   BRONX|  10455|\n",
      "|01/01/2019|    null|   null|\n",
      "|01/01/2019|   BRONX|  10465|\n",
      "|01/01/2019|  QUEENS|  11411|\n",
      "|01/01/2019|    null|   null|\n",
      "|01/01/2019|BROOKLYN|  11215|\n",
      "|01/01/2019|    null|   null|\n",
      "|01/01/2019|  QUEENS|  11421|\n",
      "|01/01/2019|  QUEENS|  11375|\n",
      "|01/01/2019|    null|   null|\n",
      "|01/01/2019|    null|   null|\n",
      "|01/01/2019|BROOKLYN|  11220|\n",
      "|01/01/2019|    null|   null|\n",
      "|01/01/2019|  QUEENS|  11368|\n",
      "+----------+--------+-------+\n",
      "\n",
      "-------------------------------------------\n",
      "Batch: 6\n",
      "-------------------------------------------\n",
      "-------------------------------------------\n",
      "Batch: 13\n",
      "-------------------------------------------\n",
      "+----------+--------+-------+\n",
      "|      date| borough|zipcode|\n",
      "+----------+--------+-------+\n",
      "|01/01/2019|  QUEENS|  11691|\n",
      "|01/01/2019|    null|   null|\n",
      "|01/01/2019|BROOKLYN|  11229|\n",
      "|01/01/2019|    null|   null|\n",
      "|01/01/2019|    null|   null|\n",
      "|01/01/2019|   BRONX|  10455|\n",
      "|01/01/2019|    null|   null|\n",
      "|01/01/2019|   BRONX|  10465|\n",
      "|01/01/2019|  QUEENS|  11411|\n",
      "|01/01/2019|    null|   null|\n",
      "|01/01/2019|BROOKLYN|  11215|\n",
      "|01/01/2019|    null|   null|\n",
      "|01/01/2019|  QUEENS|  11421|\n",
      "|01/01/2019|  QUEENS|  11375|\n",
      "|01/01/2019|    null|   null|\n",
      "|01/01/2019|    null|   null|\n",
      "|01/01/2019|BROOKLYN|  11220|\n",
      "|01/01/2019|    null|   null|\n",
      "|01/01/2019|  QUEENS|  11368|\n",
      "+----------+--------+-------+\n",
      "\n",
      "-------------------------------------------\n",
      "Batch: 3\n",
      "-------------------------------------------\n",
      "-------------------------------------------\n",
      "Batch: 7\n",
      "-------------------------------------------\n",
      "+----------+--------+-------+\n",
      "|      date| borough|zipcode|\n",
      "+----------+--------+-------+\n",
      "|01/01/2019|  QUEENS|  11691|\n",
      "|01/01/2019|    null|   null|\n",
      "|01/01/2019|BROOKLYN|  11229|\n",
      "|01/01/2019|    null|   null|\n",
      "|01/01/2019|    null|   null|\n",
      "|01/01/2019|   BRONX|  10455|\n",
      "|01/01/2019|    null|   null|\n",
      "|01/01/2019|   BRONX|  10465|\n",
      "|01/01/2019|  QUEENS|  11411|\n",
      "|01/01/2019|    null|   null|\n",
      "|01/01/2019|BROOKLYN|  11215|\n",
      "|01/01/2019|    null|   null|\n",
      "|01/01/2019|  QUEENS|  11421|\n",
      "|01/01/2019|  QUEENS|  11375|\n",
      "|01/01/2019|    null|   null|\n",
      "|01/01/2019|    null|   null|\n",
      "|01/01/2019|BROOKLYN|  11220|\n",
      "|01/01/2019|    null|   null|\n",
      "|01/01/2019|  QUEENS|  11368|\n",
      "+----------+--------+-------+\n",
      "\n",
      "-------------------------------------------\n",
      "Batch: 12\n",
      "-------------------------------------------\n",
      "+----------+--------+-------+\n",
      "|      date| borough|zipcode|\n",
      "+----------+--------+-------+\n",
      "|01/01/2019|  QUEENS|  11691|\n",
      "|01/01/2019|    null|   null|\n",
      "|01/01/2019|BROOKLYN|  11229|\n",
      "|01/01/2019|    null|   null|\n",
      "|01/01/2019|    null|   null|\n",
      "|01/01/2019|   BRONX|  10455|\n",
      "|01/01/2019|    null|   null|\n",
      "|01/01/2019|   BRONX|  10465|\n",
      "|01/01/2019|  QUEENS|  11411|\n",
      "|01/01/2019|    null|   null|\n",
      "|01/01/2019|BROOKLYN|  11215|\n",
      "|01/01/2019|    null|   null|\n",
      "|01/01/2019|  QUEENS|  11421|\n",
      "|01/01/2019|  QUEENS|  11375|\n",
      "|01/01/2019|    null|   null|\n",
      "|01/01/2019|    null|   null|\n",
      "|01/01/2019|BROOKLYN|  11220|\n",
      "|01/01/2019|    null|   null|\n",
      "|01/01/2019|  QUEENS|  11368|\n",
      "+----------+--------+-------+\n",
      "\n",
      "+----------+--------+-------+\n",
      "|      date| borough|zipcode|\n",
      "+----------+--------+-------+\n",
      "|01/01/2019|  QUEENS|  11691|\n",
      "|01/01/2019|    null|   null|\n",
      "|01/01/2019|BROOKLYN|  11229|\n",
      "|01/01/2019|    null|   null|\n",
      "|01/01/2019|    null|   null|\n",
      "|01/01/2019|   BRONX|  10455|\n",
      "|01/01/2019|    null|   null|\n",
      "|01/01/2019|   BRONX|  10465|\n",
      "|01/01/2019|  QUEENS|  11411|\n",
      "|01/01/2019|    null|   null|\n",
      "|01/01/2019|BROOKLYN|  11215|\n",
      "|01/01/2019|    null|   null|\n",
      "|01/01/2019|  QUEENS|  11421|\n",
      "|01/01/2019|  QUEENS|  11375|\n",
      "|01/01/2019|    null|   null|\n",
      "|01/01/2019|    null|   null|\n",
      "|01/01/2019|BROOKLYN|  11220|\n",
      "|01/01/2019|    null|   null|\n",
      "|01/01/2019|  QUEENS|  11368|\n",
      "+----------+--------+-------+\n",
      "\n",
      "+----------+--------+-------+\n",
      "|      date| borough|zipcode|\n",
      "+----------+--------+-------+\n",
      "|01/01/2019|  QUEENS|  11691|\n",
      "|01/01/2019|    null|   null|\n",
      "|01/01/2019|BROOKLYN|  11229|\n",
      "|01/01/2019|    null|   null|\n",
      "|01/01/2019|    null|   null|\n",
      "|01/01/2019|   BRONX|  10455|\n",
      "|01/01/2019|    null|   null|\n",
      "|01/01/2019|   BRONX|  10465|\n",
      "|01/01/2019|  QUEENS|  11411|\n",
      "|01/01/2019|    null|   null|\n",
      "|01/01/2019|BROOKLYN|  11215|\n",
      "|01/01/2019|    null|   null|\n",
      "|01/01/2019|  QUEENS|  11421|\n",
      "|01/01/2019|  QUEENS|  11375|\n",
      "|01/01/2019|    null|   null|\n",
      "|01/01/2019|    null|   null|\n",
      "|01/01/2019|BROOKLYN|  11220|\n",
      "|01/01/2019|    null|   null|\n",
      "|01/01/2019|  QUEENS|  11368|\n",
      "+----------+--------+-------+\n",
      "\n"
     ]
    }
   ],
   "source": [
    "selectedData.writeStream.outputMode(\"append\").format('console') \\\n",
    "        .start()"
   ]
  }
 ],
 "metadata": {
  "kernelspec": {
   "display_name": "Python 3 (ipykernel)",
   "language": "python",
   "name": "python3"
  },
  "language_info": {
   "codemirror_mode": {
    "name": "ipython",
    "version": 3
   },
   "file_extension": ".py",
   "mimetype": "text/x-python",
   "name": "python",
   "nbconvert_exporter": "python",
   "pygments_lexer": "ipython3",
   "version": "3.10.8"
  }
 },
 "nbformat": 4,
 "nbformat_minor": 5
}
