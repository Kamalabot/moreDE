{
 "cells": [
  {
   "cell_type": "markdown",
   "id": "85fa2cc0",
   "metadata": {
    "papermill": {
     "duration": 0.007354,
     "end_time": "2023-01-02T09:38:51.212091",
     "exception": false,
     "start_time": "2023-01-02T09:38:51.204737",
     "status": "completed"
    },
    "tags": []
   },
   "source": [
    "**Store Sales Forecasting** an ongoing Kaggle competition. This note book is about the ML and predictive modeling of the data."
   ]
  },
  {
   "cell_type": "code",
   "execution_count": 1,
   "id": "0c9cc93f",
   "metadata": {
    "execution": {
     "iopub.execute_input": "2023-01-02T09:38:51.226849Z",
     "iopub.status.busy": "2023-01-02T09:38:51.226047Z",
     "iopub.status.idle": "2023-01-02T09:39:31.468239Z",
     "shell.execute_reply": "2023-01-02T09:39:31.467362Z"
    },
    "papermill": {
     "duration": 40.25288,
     "end_time": "2023-01-02T09:39:31.471168",
     "exception": false,
     "start_time": "2023-01-02T09:38:51.218288",
     "status": "completed"
    },
    "tags": []
   },
   "outputs": [
    {
     "name": "stdout",
     "output_type": "stream",
     "text": [
      "Collecting pyspark\r\n",
      "  Downloading pyspark-3.3.1.tar.gz (281.4 MB)\r\n",
      "\u001b[2K     \u001b[90m━━━━━━━━━━━━━━━━━━━━━━━━━━━━━━━━━━━━━━━\u001b[0m \u001b[32m281.4/281.4 MB\u001b[0m \u001b[31m4.9 MB/s\u001b[0m eta \u001b[36m0:00:00\u001b[0m\r\n",
      "\u001b[?25h  Preparing metadata (setup.py) ... \u001b[?25l-\b \bdone\r\n",
      "\u001b[?25hCollecting py4j==0.10.9.5\r\n",
      "  Downloading py4j-0.10.9.5-py2.py3-none-any.whl (199 kB)\r\n",
      "\u001b[2K     \u001b[90m━━━━━━━━━━━━━━━━━━━━━━━━━━━━━━━━━━━━━━\u001b[0m \u001b[32m199.7/199.7 kB\u001b[0m \u001b[31m11.7 MB/s\u001b[0m eta \u001b[36m0:00:00\u001b[0m\r\n",
      "\u001b[?25hBuilding wheels for collected packages: pyspark\r\n",
      "  Building wheel for pyspark (setup.py) ... \u001b[?25l-\b \b\\\b \b|\b \b/\b \b-\b \b\\\b \b|\b \b/\b \b-\b \b\\\b \b|\b \b/\b \b-\b \b\\\b \b|\b \b/\b \b-\b \b\\\b \b|\b \b/\b \b-\b \b\\\b \b|\b \b/\b \b-\b \b\\\b \b|\b \b/\b \b-\b \b\\\b \b|\b \b/\b \b-\b \b\\\b \b|\b \b/\b \b-\b \b\\\b \b|\b \b/\b \b-\b \b\\\b \b|\b \b/\b \b-\b \b\\\b \b|\b \b/\b \b-\b \b\\\b \b|\b \bdone\r\n",
      "\u001b[?25h  Created wheel for pyspark: filename=pyspark-3.3.1-py2.py3-none-any.whl size=281845513 sha256=8b90331b66ffbaabd393e0cbe47043ce383215aac74f6cd1dd9a773edbda5b9d\r\n",
      "  Stored in directory: /root/.cache/pip/wheels/42/59/f5/79a5bf931714dcd201b26025347785f087370a10a3329a899c\r\n",
      "Successfully built pyspark\r\n",
      "Installing collected packages: py4j, pyspark\r\n",
      "  Attempting uninstall: py4j\r\n",
      "    Found existing installation: py4j 0.10.9.7\r\n",
      "    Uninstalling py4j-0.10.9.7:\r\n",
      "      Successfully uninstalled py4j-0.10.9.7\r\n",
      "Successfully installed py4j-0.10.9.5 pyspark-3.3.1\r\n",
      "\u001b[33mWARNING: Running pip as the 'root' user can result in broken permissions and conflicting behaviour with the system package manager. It is recommended to use a virtual environment instead: https://pip.pypa.io/warnings/venv\u001b[0m\u001b[33m\r\n",
      "\u001b[0m"
     ]
    }
   ],
   "source": [
    "! pip install pyspark"
   ]
  },
  {
   "cell_type": "code",
   "execution_count": 2,
   "id": "0bbbf874",
   "metadata": {
    "execution": {
     "iopub.execute_input": "2023-01-02T09:39:31.501890Z",
     "iopub.status.busy": "2023-01-02T09:39:31.501521Z",
     "iopub.status.idle": "2023-01-02T09:39:31.551677Z",
     "shell.execute_reply": "2023-01-02T09:39:31.550636Z"
    },
    "papermill": {
     "duration": 0.068632,
     "end_time": "2023-01-02T09:39:31.554431",
     "exception": false,
     "start_time": "2023-01-02T09:39:31.485799",
     "status": "completed"
    },
    "tags": []
   },
   "outputs": [],
   "source": [
    "import pyspark\n",
    "from pyspark.sql import SparkSession\n",
    "from pyspark.sql.functions import *"
   ]
  },
  {
   "cell_type": "code",
   "execution_count": 3,
   "id": "c49a1a7e",
   "metadata": {
    "execution": {
     "iopub.execute_input": "2023-01-02T09:39:31.582816Z",
     "iopub.status.busy": "2023-01-02T09:39:31.582426Z",
     "iopub.status.idle": "2023-01-02T09:39:31.589365Z",
     "shell.execute_reply": "2023-01-02T09:39:31.587863Z"
    },
    "papermill": {
     "duration": 0.024115,
     "end_time": "2023-01-02T09:39:31.591972",
     "exception": false,
     "start_time": "2023-01-02T09:39:31.567857",
     "status": "completed"
    },
    "tags": []
   },
   "outputs": [],
   "source": [
    "#lets assign var names to the source files for easy references\n",
    "\n",
    "holidays = '/kaggle/input/store-sales-time-series-forecasting/holidays_events.csv'\n",
    "oil = '/kaggle/input/store-sales-time-series-forecasting/oil.csv'\n",
    "stores = '/kaggle/input/store-sales-time-series-forecasting/stores.csv'\n",
    "train = '/kaggle/input/store-sales-time-series-forecasting/train.csv'\n",
    "txn = '/kaggle/input/store-sales-time-series-forecasting/transactions.csv'\n",
    "#We wont be needing those for quite some time\n",
    "test = '/kaggle/input/store-sales-time-series-forecasting/test.csv'\n",
    "sample = '/kaggle/input/store-sales-time-series-forecasting/sample_submission.csv'"
   ]
  },
  {
   "cell_type": "code",
   "execution_count": 4,
   "id": "e44ce280",
   "metadata": {
    "execution": {
     "iopub.execute_input": "2023-01-02T09:39:31.621531Z",
     "iopub.status.busy": "2023-01-02T09:39:31.621158Z",
     "iopub.status.idle": "2023-01-02T09:39:37.299781Z",
     "shell.execute_reply": "2023-01-02T09:39:37.298676Z"
    },
    "papermill": {
     "duration": 5.696708,
     "end_time": "2023-01-02T09:39:37.302475",
     "exception": false,
     "start_time": "2023-01-02T09:39:31.605767",
     "status": "completed"
    },
    "tags": []
   },
   "outputs": [
    {
     "name": "stderr",
     "output_type": "stream",
     "text": [
      "Setting default log level to \"WARN\".\n",
      "To adjust logging level use sc.setLogLevel(newLevel). For SparkR, use setLogLevel(newLevel).\n"
     ]
    },
    {
     "name": "stdout",
     "output_type": "stream",
     "text": [
      "23/01/02 09:39:34 WARN NativeCodeLoader: Unable to load native-hadoop library for your platform... using builtin-java classes where applicable\n"
     ]
    }
   ],
   "source": [
    "#starting the spark session and getting the database setup.\n",
    "\n",
    "spark = SparkSession.builder.appName('sales_fc').getOrCreate()\n",
    "sparkql= spark.sql\n",
    "sparkreader = spark.read"
   ]
  },
  {
   "cell_type": "code",
   "execution_count": 5,
   "id": "46fb17a9",
   "metadata": {
    "execution": {
     "iopub.execute_input": "2023-01-02T09:39:37.332515Z",
     "iopub.status.busy": "2023-01-02T09:39:37.331829Z",
     "iopub.status.idle": "2023-01-02T09:39:39.834600Z",
     "shell.execute_reply": "2023-01-02T09:39:39.833657Z"
    },
    "papermill": {
     "duration": 2.520212,
     "end_time": "2023-01-02T09:39:39.836412",
     "exception": false,
     "start_time": "2023-01-02T09:39:37.316200",
     "status": "completed"
    },
    "tags": []
   },
   "outputs": [
    {
     "name": "stdout",
     "output_type": "stream",
     "text": [
      "+-----------------------+------------------------------------+\n",
      "|key                    |value                               |\n",
      "+-----------------------+------------------------------------+\n",
      "|spark.sql.warehouse.dir|file:/kaggle/working/spark-warehouse|\n",
      "+-----------------------+------------------------------------+\n",
      "\n"
     ]
    }
   ],
   "source": [
    "sparkql(\"SET spark.sql.warehouse.dir\").show(truncate=False)"
   ]
  },
  {
   "cell_type": "code",
   "execution_count": 6,
   "id": "bddd3ccb",
   "metadata": {
    "execution": {
     "iopub.execute_input": "2023-01-02T09:39:39.865098Z",
     "iopub.status.busy": "2023-01-02T09:39:39.864777Z",
     "iopub.status.idle": "2023-01-02T09:39:40.054397Z",
     "shell.execute_reply": "2023-01-02T09:39:40.053113Z"
    },
    "papermill": {
     "duration": 0.206406,
     "end_time": "2023-01-02T09:39:40.056544",
     "exception": false,
     "start_time": "2023-01-02T09:39:39.850138",
     "status": "completed"
    },
    "tags": []
   },
   "outputs": [
    {
     "data": {
      "text/plain": [
       "DataFrame[]"
      ]
     },
     "execution_count": 6,
     "metadata": {},
     "output_type": "execute_result"
    }
   ],
   "source": [
    "#creating local database, even though not having hive file system\n",
    "sparkql(\"CREATE DATABASE IF NOT EXISTS sales_forecast\")\n",
    "sparkql(\"USE sales_forecast\")"
   ]
  },
  {
   "cell_type": "code",
   "execution_count": 7,
   "id": "930d65f6",
   "metadata": {
    "execution": {
     "iopub.execute_input": "2023-01-02T09:39:40.086174Z",
     "iopub.status.busy": "2023-01-02T09:39:40.085470Z",
     "iopub.status.idle": "2023-01-02T09:39:48.005224Z",
     "shell.execute_reply": "2023-01-02T09:39:48.004326Z"
    },
    "papermill": {
     "duration": 7.937922,
     "end_time": "2023-01-02T09:39:48.008339",
     "exception": false,
     "start_time": "2023-01-02T09:39:40.070417",
     "status": "completed"
    },
    "tags": []
   },
   "outputs": [
    {
     "name": "stderr",
     "output_type": "stream",
     "text": [
      "                                                                                \r"
     ]
    }
   ],
   "source": [
    "#Reading in the data\n",
    "holidays_data = sparkreader.csv(holidays,inferSchema=True,header=True)\n",
    "oil_data = sparkreader.csv(oil,inferSchema=True,header=True)\n",
    "stores_data = sparkreader.csv(stores,inferSchema=True,header=True)\n",
    "train_data = sparkreader.csv(train,inferSchema=True,header=True)\n",
    "txn_data = sparkreader.csv(txn,inferSchema=True,header=True)"
   ]
  },
  {
   "cell_type": "markdown",
   "id": "68ad42f1",
   "metadata": {
    "papermill": {
     "duration": 0.014737,
     "end_time": "2023-01-02T09:39:48.039860",
     "exception": false,
     "start_time": "2023-01-02T09:39:48.025123",
     "status": "completed"
    },
    "tags": []
   },
   "source": [
    "Anything that is outside the database is data, once it is \n",
    "inside then it is a table. That will keep things separate"
   ]
  },
  {
   "cell_type": "code",
   "execution_count": 8,
   "id": "768f3645",
   "metadata": {
    "execution": {
     "iopub.execute_input": "2023-01-02T09:39:48.068780Z",
     "iopub.status.busy": "2023-01-02T09:39:48.068367Z",
     "iopub.status.idle": "2023-01-02T09:39:48.137400Z",
     "shell.execute_reply": "2023-01-02T09:39:48.136473Z"
    },
    "papermill": {
     "duration": 0.086358,
     "end_time": "2023-01-02T09:39:48.140172",
     "exception": false,
     "start_time": "2023-01-02T09:39:48.053814",
     "status": "completed"
    },
    "tags": []
   },
   "outputs": [],
   "source": [
    "#Lets create temp views of the tables first. \n",
    "holidays_data.createOrReplaceTempView(\"holidays_table\")\n",
    "oil_data.createOrReplaceTempView(\"oil_table\")\n",
    "stores_data.createOrReplaceTempView(\"stores_table\")\n",
    "train_data.createOrReplaceTempView(\"train_table\")\n",
    "txn_data.createOrReplaceTempView(\"txn_table\")"
   ]
  },
  {
   "cell_type": "markdown",
   "id": "2561195c",
   "metadata": {
    "papermill": {
     "duration": 0.015787,
     "end_time": "2023-01-02T09:39:48.175664",
     "exception": false,
     "start_time": "2023-01-02T09:39:48.159877",
     "status": "completed"
    },
    "tags": []
   },
   "source": [
    "The temp tables are dropped like the usual sql tables. sparkql(\"DROP TABLE holidays_data\")"
   ]
  },
  {
   "cell_type": "markdown",
   "id": "98dc301d",
   "metadata": {
    "papermill": {
     "duration": 0.013274,
     "end_time": "2023-01-02T09:39:48.202797",
     "exception": false,
     "start_time": "2023-01-02T09:39:48.189523",
     "status": "completed"
    },
    "tags": []
   },
   "source": [
    "### Creating the date sequence that we want"
   ]
  },
  {
   "cell_type": "code",
   "execution_count": 9,
   "id": "df8b9e89",
   "metadata": {
    "execution": {
     "iopub.execute_input": "2023-01-02T09:39:48.231612Z",
     "iopub.status.busy": "2023-01-02T09:39:48.231260Z",
     "iopub.status.idle": "2023-01-02T09:39:48.414400Z",
     "shell.execute_reply": "2023-01-02T09:39:48.412722Z"
    },
    "papermill": {
     "duration": 0.200624,
     "end_time": "2023-01-02T09:39:48.416931",
     "exception": false,
     "start_time": "2023-01-02T09:39:48.216307",
     "status": "completed"
    },
    "tags": []
   },
   "outputs": [],
   "source": [
    "data_date_series = oil_data.select(date_trunc(\"mm\", max(to_date(\"date\", \"dd/MM/yyyy\"))).\\\n",
    "            alias(\"max_date\"),\n",
    "            date_trunc(\"mm\", min(to_date(\"date\", \"dd/MM/yyyy\"))). \\\n",
    "            alias(\"min_date\")). \\\n",
    "    select(expr(\"sequence(min_date, max_date, interval 1 day)\").alias(\"date_seq\")). \\\n",
    "        withColumn(\"date_new\",explode(\"date_seq\")). \\\n",
    "        withColumn(\"date_form\",date_format(\"date_new\", \"yyyy-MM-dd\"))"
   ]
  },
  {
   "cell_type": "code",
   "execution_count": 10,
   "id": "65361b08",
   "metadata": {
    "execution": {
     "iopub.execute_input": "2023-01-02T09:39:48.446224Z",
     "iopub.status.busy": "2023-01-02T09:39:48.445894Z",
     "iopub.status.idle": "2023-01-02T09:39:48.458169Z",
     "shell.execute_reply": "2023-01-02T09:39:48.457340Z"
    },
    "papermill": {
     "duration": 0.029986,
     "end_time": "2023-01-02T09:39:48.460963",
     "exception": false,
     "start_time": "2023-01-02T09:39:48.430977",
     "status": "completed"
    },
    "tags": []
   },
   "outputs": [],
   "source": [
    "date_series=data_date_series.drop(\"date_seq\",\"date_new\")"
   ]
  },
  {
   "cell_type": "code",
   "execution_count": 11,
   "id": "b21eaedc",
   "metadata": {
    "execution": {
     "iopub.execute_input": "2023-01-02T09:39:48.500181Z",
     "iopub.status.busy": "2023-01-02T09:39:48.499784Z",
     "iopub.status.idle": "2023-01-02T09:39:49.267165Z",
     "shell.execute_reply": "2023-01-02T09:39:49.266448Z"
    },
    "papermill": {
     "duration": 0.789231,
     "end_time": "2023-01-02T09:39:49.269255",
     "exception": false,
     "start_time": "2023-01-02T09:39:48.480024",
     "status": "completed"
    },
    "tags": []
   },
   "outputs": [
    {
     "data": {
      "text/plain": [
       "1674"
      ]
     },
     "execution_count": 11,
     "metadata": {},
     "output_type": "execute_result"
    }
   ],
   "source": [
    "date_series.count()"
   ]
  },
  {
   "cell_type": "code",
   "execution_count": 12,
   "id": "a6eb1921",
   "metadata": {
    "execution": {
     "iopub.execute_input": "2023-01-02T09:39:49.299609Z",
     "iopub.status.busy": "2023-01-02T09:39:49.299246Z",
     "iopub.status.idle": "2023-01-02T09:39:49.314992Z",
     "shell.execute_reply": "2023-01-02T09:39:49.314237Z"
    },
    "papermill": {
     "duration": 0.033349,
     "end_time": "2023-01-02T09:39:49.317318",
     "exception": false,
     "start_time": "2023-01-02T09:39:49.283969",
     "status": "completed"
    },
    "tags": []
   },
   "outputs": [],
   "source": [
    "date_series.createOrReplaceTempView('date_table')"
   ]
  },
  {
   "cell_type": "code",
   "execution_count": 13,
   "id": "84da57de",
   "metadata": {
    "execution": {
     "iopub.execute_input": "2023-01-02T09:39:49.347119Z",
     "iopub.status.busy": "2023-01-02T09:39:49.346795Z",
     "iopub.status.idle": "2023-01-02T09:39:49.598767Z",
     "shell.execute_reply": "2023-01-02T09:39:49.598063Z"
    },
    "papermill": {
     "duration": 0.26909,
     "end_time": "2023-01-02T09:39:49.600900",
     "exception": false,
     "start_time": "2023-01-02T09:39:49.331810",
     "status": "completed"
    },
    "tags": []
   },
   "outputs": [
    {
     "data": {
      "text/plain": [
       "1218"
      ]
     },
     "execution_count": 13,
     "metadata": {},
     "output_type": "execute_result"
    }
   ],
   "source": [
    "sparkql(\"\"\"SELECT * from oil_table\"\"\").count()"
   ]
  },
  {
   "cell_type": "code",
   "execution_count": 14,
   "id": "ddbe311e",
   "metadata": {
    "execution": {
     "iopub.execute_input": "2023-01-02T09:39:49.646179Z",
     "iopub.status.busy": "2023-01-02T09:39:49.645752Z",
     "iopub.status.idle": "2023-01-02T09:39:49.729728Z",
     "shell.execute_reply": "2023-01-02T09:39:49.728808Z"
    },
    "papermill": {
     "duration": 0.109357,
     "end_time": "2023-01-02T09:39:49.733001",
     "exception": false,
     "start_time": "2023-01-02T09:39:49.623644",
     "status": "completed"
    },
    "tags": []
   },
   "outputs": [],
   "source": [
    "#Resorting to the Temp view creation route instead\n",
    "sparkql(\"\"\" SELECT date_form, COALESCE(dcoilwtico,0) as dcoilwtico\n",
    "        FROM date_table dt LEFT JOIN oil_table ot\n",
    "        ON dt.date_form = ot.date\"\"\"). \\\n",
    "    createOrReplaceTempView('full_oil_table')"
   ]
  },
  {
   "cell_type": "code",
   "execution_count": 15,
   "id": "20c5d886",
   "metadata": {
    "execution": {
     "iopub.execute_input": "2023-01-02T09:39:49.776923Z",
     "iopub.status.busy": "2023-01-02T09:39:49.776562Z",
     "iopub.status.idle": "2023-01-02T09:39:50.277123Z",
     "shell.execute_reply": "2023-01-02T09:39:50.276435Z"
    },
    "papermill": {
     "duration": 0.522877,
     "end_time": "2023-01-02T09:39:50.278939",
     "exception": false,
     "start_time": "2023-01-02T09:39:49.756062",
     "status": "completed"
    },
    "tags": []
   },
   "outputs": [
    {
     "data": {
      "text/plain": [
       "1674"
      ]
     },
     "execution_count": 15,
     "metadata": {},
     "output_type": "execute_result"
    }
   ],
   "source": [
    "sparkql(\"\"\"SELECT * \n",
    "            FROM full_oil_table\"\"\").count()"
   ]
  },
  {
   "cell_type": "code",
   "execution_count": 16,
   "id": "3f6c05e9",
   "metadata": {
    "execution": {
     "iopub.execute_input": "2023-01-02T09:39:50.309299Z",
     "iopub.status.busy": "2023-01-02T09:39:50.308958Z",
     "iopub.status.idle": "2023-01-02T09:39:50.363370Z",
     "shell.execute_reply": "2023-01-02T09:39:50.362561Z"
    },
    "papermill": {
     "duration": 0.072065,
     "end_time": "2023-01-02T09:39:50.365532",
     "exception": false,
     "start_time": "2023-01-02T09:39:50.293467",
     "status": "completed"
    },
    "tags": []
   },
   "outputs": [],
   "source": [
    "sparkql(\"\"\" SELECT ot.date_form, COALESCE(ht.type,'Working') as type, \n",
    "        COALESCE(ht.locale,'National') as locale,\n",
    "        COALESCE(ht.locale_name,'National') as locale_name,\n",
    "        ot.dcoilwtico\n",
    "        FROM holidays_table ht RIGHT JOIN full_oil_table ot\n",
    "        ON date_format(ht.date,'yyyy-MM-dd') = ot.date_form\n",
    "\"\"\").createOrReplaceTempView('full_oil_with_holidays')\n",
    "## The tables are joining"
   ]
  },
  {
   "cell_type": "code",
   "execution_count": 17,
   "id": "d2a241f4",
   "metadata": {
    "execution": {
     "iopub.execute_input": "2023-01-02T09:39:50.395304Z",
     "iopub.status.busy": "2023-01-02T09:39:50.395006Z",
     "iopub.status.idle": "2023-01-02T09:39:50.924714Z",
     "shell.execute_reply": "2023-01-02T09:39:50.923403Z"
    },
    "papermill": {
     "duration": 0.548313,
     "end_time": "2023-01-02T09:39:50.928143",
     "exception": false,
     "start_time": "2023-01-02T09:39:50.379830",
     "status": "completed"
    },
    "tags": []
   },
   "outputs": [
    {
     "name": "stdout",
     "output_type": "stream",
     "text": [
      "+----------+-------+--------+-----------+----------+\n",
      "| date_form|   type|  locale|locale_name|dcoilwtico|\n",
      "+----------+-------+--------+-----------+----------+\n",
      "|2013-01-01|Holiday|National|    Ecuador|       0.0|\n",
      "|2013-01-02|Working|National|   National|     93.14|\n",
      "+----------+-------+--------+-----------+----------+\n",
      "only showing top 2 rows\n",
      "\n"
     ]
    }
   ],
   "source": [
    "sparkql(\"\"\"SELECT * \n",
    "            FROM full_oil_with_holidays\"\"\").show(2)"
   ]
  },
  {
   "cell_type": "code",
   "execution_count": 18,
   "id": "963fa6bb",
   "metadata": {
    "execution": {
     "iopub.execute_input": "2023-01-02T09:39:50.970285Z",
     "iopub.status.busy": "2023-01-02T09:39:50.969873Z",
     "iopub.status.idle": "2023-01-02T09:39:51.361326Z",
     "shell.execute_reply": "2023-01-02T09:39:51.360541Z"
    },
    "papermill": {
     "duration": 0.416331,
     "end_time": "2023-01-02T09:39:51.364006",
     "exception": false,
     "start_time": "2023-01-02T09:39:50.947675",
     "status": "completed"
    },
    "tags": []
   },
   "outputs": [
    {
     "data": {
      "text/plain": [
       "1704"
      ]
     },
     "execution_count": 18,
     "metadata": {},
     "output_type": "execute_result"
    }
   ],
   "source": [
    "sparkql(\"\"\"SELECT * \n",
    "            FROM full_oil_with_holidays\"\"\").count()"
   ]
  },
  {
   "cell_type": "code",
   "execution_count": 19,
   "id": "3970d2b8",
   "metadata": {
    "execution": {
     "iopub.execute_input": "2023-01-02T09:39:51.403693Z",
     "iopub.status.busy": "2023-01-02T09:39:51.403273Z",
     "iopub.status.idle": "2023-01-02T09:39:51.456913Z",
     "shell.execute_reply": "2023-01-02T09:39:51.455877Z"
    },
    "papermill": {
     "duration": 0.076571,
     "end_time": "2023-01-02T09:39:51.459764",
     "exception": false,
     "start_time": "2023-01-02T09:39:51.383193",
     "status": "completed"
    },
    "tags": []
   },
   "outputs": [],
   "source": [
    "sparkql(\"\"\" SELECT tt.id, date_format(tt.date,'yyyy-MM-dd') as date,\n",
    "            tt.store_nbr, tt.family, \n",
    "            tt.sales, tt.onpromotion\n",
    "        FROM train_table tt\"\"\").createOrReplaceTempView('full_train_table')"
   ]
  },
  {
   "cell_type": "code",
   "execution_count": 20,
   "id": "2c26eac5",
   "metadata": {
    "execution": {
     "iopub.execute_input": "2023-01-02T09:39:51.503765Z",
     "iopub.status.busy": "2023-01-02T09:39:51.503338Z",
     "iopub.status.idle": "2023-01-02T09:39:52.310582Z",
     "shell.execute_reply": "2023-01-02T09:39:52.309702Z"
    },
    "papermill": {
     "duration": 0.832331,
     "end_time": "2023-01-02T09:39:52.313515",
     "exception": false,
     "start_time": "2023-01-02T09:39:51.481184",
     "status": "completed"
    },
    "tags": []
   },
   "outputs": [
    {
     "name": "stderr",
     "output_type": "stream",
     "text": [
      "                                                                                \r"
     ]
    },
    {
     "data": {
      "text/plain": [
       "3000888"
      ]
     },
     "execution_count": 20,
     "metadata": {},
     "output_type": "execute_result"
    }
   ],
   "source": [
    "sparkql(\"\"\"SELECT * FROM train_table\"\"\").count()"
   ]
  },
  {
   "cell_type": "code",
   "execution_count": 21,
   "id": "6030511e",
   "metadata": {
    "execution": {
     "iopub.execute_input": "2023-01-02T09:39:52.345555Z",
     "iopub.status.busy": "2023-01-02T09:39:52.344239Z",
     "iopub.status.idle": "2023-01-02T09:39:56.285062Z",
     "shell.execute_reply": "2023-01-02T09:39:56.284206Z"
    },
    "papermill": {
     "duration": 3.959377,
     "end_time": "2023-01-02T09:39:56.287526",
     "exception": false,
     "start_time": "2023-01-02T09:39:52.328149",
     "status": "completed"
    },
    "tags": []
   },
   "outputs": [
    {
     "name": "stderr",
     "output_type": "stream",
     "text": [
      "                                                                                \r"
     ]
    },
    {
     "data": {
      "text/plain": [
       "3000888"
      ]
     },
     "execution_count": 21,
     "metadata": {},
     "output_type": "execute_result"
    }
   ],
   "source": [
    "sparkql(\"\"\" SELECT ftt.*, st.*,fot.*\n",
    "        FROM full_train_table ftt JOIN stores_table st\n",
    "        on ftt.store_nbr = st.store_nbr\n",
    "        LEFT JOIN full_oil_table fot\n",
    "        on fot.date_form = ftt.date\"\"\").count()"
   ]
  },
  {
   "cell_type": "code",
   "execution_count": 22,
   "id": "6e47a538",
   "metadata": {
    "execution": {
     "iopub.execute_input": "2023-01-02T09:39:56.333864Z",
     "iopub.status.busy": "2023-01-02T09:39:56.333500Z",
     "iopub.status.idle": "2023-01-02T09:39:56.389208Z",
     "shell.execute_reply": "2023-01-02T09:39:56.388291Z"
    },
    "papermill": {
     "duration": 0.081129,
     "end_time": "2023-01-02T09:39:56.391687",
     "exception": false,
     "start_time": "2023-01-02T09:39:56.310558",
     "status": "completed"
    },
    "tags": []
   },
   "outputs": [],
   "source": [
    "sparkql(\"\"\" SELECT ftt.id, ftt.date,ftt.store_nbr,ftt.family,\n",
    "            ftt.sales, ftt.onpromotion, st.city, st.state,st.type,\n",
    "            st.cluster,fot.dcoilwtico\n",
    "        FROM full_train_table ftt JOIN stores_table st\n",
    "        on ftt.store_nbr = st.store_nbr\n",
    "        LEFT JOIN full_oil_table fot\n",
    "        on fot.date_form = ftt.date\"\"\"). \\\n",
    "        createOrReplaceTempView(\"train_store_oil_table\")"
   ]
  },
  {
   "cell_type": "code",
   "execution_count": 23,
   "id": "48d59422",
   "metadata": {
    "execution": {
     "iopub.execute_input": "2023-01-02T09:39:56.435651Z",
     "iopub.status.busy": "2023-01-02T09:39:56.434946Z",
     "iopub.status.idle": "2023-01-02T09:39:59.997703Z",
     "shell.execute_reply": "2023-01-02T09:39:59.996838Z"
    },
    "papermill": {
     "duration": 3.587993,
     "end_time": "2023-01-02T09:40:00.000166",
     "exception": false,
     "start_time": "2023-01-02T09:39:56.412173",
     "status": "completed"
    },
    "tags": []
   },
   "outputs": [
    {
     "name": "stderr",
     "output_type": "stream",
     "text": [
      "                                                                                \r"
     ]
    },
    {
     "data": {
      "text/plain": [
       "3000888"
      ]
     },
     "execution_count": 23,
     "metadata": {},
     "output_type": "execute_result"
    }
   ],
   "source": [
    "sparkql(\"\"\"SELECT tsot.*\n",
    "            FROM train_store_oil_table tsot\"\"\").count()"
   ]
  },
  {
   "cell_type": "code",
   "execution_count": 24,
   "id": "70a35ff0",
   "metadata": {
    "execution": {
     "iopub.execute_input": "2023-01-02T09:40:00.048620Z",
     "iopub.status.busy": "2023-01-02T09:40:00.048084Z",
     "iopub.status.idle": "2023-01-02T09:40:00.123438Z",
     "shell.execute_reply": "2023-01-02T09:40:00.122338Z"
    },
    "papermill": {
     "duration": 0.105938,
     "end_time": "2023-01-02T09:40:00.127244",
     "exception": false,
     "start_time": "2023-01-02T09:40:00.021306",
     "status": "completed"
    },
    "tags": []
   },
   "outputs": [],
   "source": [
    "sparkql(\"\"\"SELECT tsot.*, \n",
    "            COALESCE(DATE_FORMAT(txt.date,'yyyy-MM-dd'),tsot.date) as txn_date,\n",
    "            COALESCE(txt.transactions,0) as store_txns, \n",
    "            COALESCE(txt.store_nbr, tsot.store_nbr) as store_nbr\n",
    "            FROM train_store_oil_table tsot LEFT JOIN txn_table txt\n",
    "            on tsot.date = date_format(txt.date,'yyyy-MM-dd')\n",
    "            and tsot.store_nbr = txt.store_nbr\n",
    "        \"\"\").createOrReplaceTempView(\"all_data_joined_data\")"
   ]
  },
  {
   "cell_type": "code",
   "execution_count": 25,
   "id": "af597800",
   "metadata": {
    "execution": {
     "iopub.execute_input": "2023-01-02T09:40:00.183544Z",
     "iopub.status.busy": "2023-01-02T09:40:00.182918Z",
     "iopub.status.idle": "2023-01-02T09:40:02.337526Z",
     "shell.execute_reply": "2023-01-02T09:40:02.336470Z"
    },
    "papermill": {
     "duration": 2.188569,
     "end_time": "2023-01-02T09:40:02.340669",
     "exception": false,
     "start_time": "2023-01-02T09:40:00.152100",
     "status": "completed"
    },
    "tags": []
   },
   "outputs": [
    {
     "name": "stdout",
     "output_type": "stream",
     "text": [
      "+---+----------+---------+-------------------+---------+-----------+-------+-----------+----+-------+----------+----------+----------+---------+\n",
      "| id|      date|store_nbr|             family|    sales|onpromotion|   city|      state|type|cluster|dcoilwtico|  txn_date|store_txns|store_nbr|\n",
      "+---+----------+---------+-------------------+---------+-----------+-------+-----------+----+-------+----------+----------+----------+---------+\n",
      "|561|2013-01-01|       25|         AUTOMOTIVE|      0.0|          0|Salinas|Santa Elena|   D|      1|       0.0|2013-01-01|       770|       25|\n",
      "|562|2013-01-01|       25|          BABY CARE|      0.0|          0|Salinas|Santa Elena|   D|      1|       0.0|2013-01-01|       770|       25|\n",
      "|563|2013-01-01|       25|             BEAUTY|      2.0|          0|Salinas|Santa Elena|   D|      1|       0.0|2013-01-01|       770|       25|\n",
      "|564|2013-01-01|       25|          BEVERAGES|    810.0|          0|Salinas|Santa Elena|   D|      1|       0.0|2013-01-01|       770|       25|\n",
      "|565|2013-01-01|       25|              BOOKS|      0.0|          0|Salinas|Santa Elena|   D|      1|       0.0|2013-01-01|       770|       25|\n",
      "|566|2013-01-01|       25|       BREAD/BAKERY|  180.589|          0|Salinas|Santa Elena|   D|      1|       0.0|2013-01-01|       770|       25|\n",
      "|567|2013-01-01|       25|        CELEBRATION|      0.0|          0|Salinas|Santa Elena|   D|      1|       0.0|2013-01-01|       770|       25|\n",
      "|568|2013-01-01|       25|           CLEANING|    186.0|          0|Salinas|Santa Elena|   D|      1|       0.0|2013-01-01|       770|       25|\n",
      "|569|2013-01-01|       25|              DAIRY|    143.0|          0|Salinas|Santa Elena|   D|      1|       0.0|2013-01-01|       770|       25|\n",
      "|570|2013-01-01|       25|               DELI|    71.09|          0|Salinas|Santa Elena|   D|      1|       0.0|2013-01-01|       770|       25|\n",
      "|571|2013-01-01|       25|               EGGS|     46.0|          0|Salinas|Santa Elena|   D|      1|       0.0|2013-01-01|       770|       25|\n",
      "|572|2013-01-01|       25|       FROZEN FOODS|29.654999|          0|Salinas|Santa Elena|   D|      1|       0.0|2013-01-01|       770|       25|\n",
      "|573|2013-01-01|       25|          GROCERY I|    700.0|          0|Salinas|Santa Elena|   D|      1|       0.0|2013-01-01|       770|       25|\n",
      "|574|2013-01-01|       25|         GROCERY II|     15.0|          0|Salinas|Santa Elena|   D|      1|       0.0|2013-01-01|       770|       25|\n",
      "|575|2013-01-01|       25|           HARDWARE|      0.0|          0|Salinas|Santa Elena|   D|      1|       0.0|2013-01-01|       770|       25|\n",
      "|576|2013-01-01|       25| HOME AND KITCHEN I|      0.0|          0|Salinas|Santa Elena|   D|      1|       0.0|2013-01-01|       770|       25|\n",
      "|577|2013-01-01|       25|HOME AND KITCHEN II|      0.0|          0|Salinas|Santa Elena|   D|      1|       0.0|2013-01-01|       770|       25|\n",
      "|578|2013-01-01|       25|    HOME APPLIANCES|      0.0|          0|Salinas|Santa Elena|   D|      1|       0.0|2013-01-01|       770|       25|\n",
      "|579|2013-01-01|       25|          HOME CARE|      0.0|          0|Salinas|Santa Elena|   D|      1|       0.0|2013-01-01|       770|       25|\n",
      "|580|2013-01-01|       25|         LADIESWEAR|      0.0|          0|Salinas|Santa Elena|   D|      1|       0.0|2013-01-01|       770|       25|\n",
      "+---+----------+---------+-------------------+---------+-----------+-------+-----------+----+-------+----------+----------+----------+---------+\n",
      "only showing top 20 rows\n",
      "\n"
     ]
    }
   ],
   "source": [
    "sparkql(\"\"\"SELECT * FROM all_data_joined_data adj\n",
    "            WHERE adj.date = '2013-01-01'\n",
    "            and adj.store_txns != 0\"\"\").show()"
   ]
  }
 ],
 "metadata": {
  "kernelspec": {
   "display_name": "Python 3",
   "language": "python",
   "name": "python3"
  },
  "language_info": {
   "codemirror_mode": {
    "name": "ipython",
    "version": 3
   },
   "file_extension": ".py",
   "mimetype": "text/x-python",
   "name": "python",
   "nbconvert_exporter": "python",
   "pygments_lexer": "ipython3",
   "version": "3.7.12"
  },
  "papermill": {
   "default_parameters": {},
   "duration": 81.581085,
   "end_time": "2023-01-02T09:40:04.984935",
   "environment_variables": {},
   "exception": null,
   "input_path": "__notebook__.ipynb",
   "output_path": "__notebook__.ipynb",
   "parameters": {},
   "start_time": "2023-01-02T09:38:43.403850",
   "version": "2.3.4"
  }
 },
 "nbformat": 4,
 "nbformat_minor": 5
}
