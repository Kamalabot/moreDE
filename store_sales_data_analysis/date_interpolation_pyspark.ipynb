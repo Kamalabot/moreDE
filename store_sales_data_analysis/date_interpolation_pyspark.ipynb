{
 "cells": [
  {
   "cell_type": "code",
   "execution_count": null,
   "id": "abeb7d7d",
   "metadata": {},
   "outputs": [],
   "source": [
    "all_dates_df = df.groupBy(\"id\").agg(\n",
    "    F.date_trunc(\"mm\", F.max(F.to_date(\"date\", \"dd/MM/yyyy\"))).alias(\"max_date\"),\n",
    "    F.date_trunc(\"mm\", F.min(F.to_date(\"date\", \"dd/MM/yyyy\"))).alias(\"min_date\")\n",
    ").select(\n",
    "    \"id\",\n",
    "    F.expr(\"sequence(min_date, max_date, interval 1 month)\").alias(\"date\")\n",
    ").withColumn(\n",
    "    \"date\", F.explode(\"date\")\n",
    ").withColumn(\n",
    "    \"date\",\n",
    "    F.date_format(\"date\", \"dd/MM/yyyy\")\n",
    ")"
   ]
  },
  {
   "cell_type": "code",
   "execution_count": null,
   "id": "eda19694",
   "metadata": {},
   "outputs": [],
   "source": [
    "from pyspark.sql import Window\n",
    "window_spec = Window.partitionBy(\"ID\").orderBy(\"DATE\")\n",
    "\n",
    "next_date = coalesce(lead(\"DATE\", 1). \\\n",
    "            over(window_spec), col(\"DATE\") + \\\n",
    "                       expr(\"interval 1 month\"))"
   ]
  },
  {
   "cell_type": "code",
   "execution_count": null,
   "id": "cfa9efae",
   "metadata": {},
   "outputs": [],
   "source": [
    "window_oil = Window.partitionBy(\"date\")\n",
    "next_day = coalesce(lead(\"date\", 1).over(window=window_oil), \\\n",
    "                    col('date') + expr('interval 1 day'))"
   ]
  },
  {
   "cell_type": "code",
   "execution_count": null,
   "id": "38021537",
   "metadata": {},
   "outputs": [],
   "source": [
    "end_date_range = next_day - expr(\"interval 1 day\")"
   ]
  },
  {
   "cell_type": "code",
   "execution_count": null,
   "id": "9232a095",
   "metadata": {},
   "outputs": [],
   "source": [
    "oil_data.withColumn(\"Ranges\", sequence(col(\"date\"), end_date_range, \n",
    "                                 expr(\"interval 1 day\"))).show()"
   ]
  },
  {
   "cell_type": "code",
   "execution_count": null,
   "id": "308739ad",
   "metadata": {},
   "outputs": [],
   "source": [
    "oil_data.withColumn(\"Ranges\", sequence(col(\"date\"), end_date_range, \n",
    "                                 expr(\"interval 1 day\")))\\\n",
    "  .withColumn(\"date_now\", explode(\"Ranges\")).show(20)"
   ]
  },
  {
   "cell_type": "code",
   "execution_count": null,
   "id": "5a6b0cd4",
   "metadata": {},
   "outputs": [],
   "source": [
    "oil_data.withColumn(\"Ranges\", sequence(col(\"date\"), end_date_range, \n",
    "                                 expr(\"interval 1 day\")))\\\n",
    "  .withColumn(\"date\", explode(\"Ranges\"))\\\n",
    "  .withColumn(\"date\", date_format(\"date\", \"dd/MM/yyyy\"))\\\n",
    "  .drop(\"Ranges\").show(truncate=False)"
   ]
  },
  {
   "cell_type": "code",
   "execution_count": 1,
   "id": "5a791968",
   "metadata": {},
   "outputs": [
    {
     "ename": "NameError",
     "evalue": "name 'datetime' is not defined",
     "output_type": "error",
     "traceback": [
      "\u001b[0;31m---------------------------------------------------------------------------\u001b[0m",
      "\u001b[0;31mNameError\u001b[0m                                 Traceback (most recent call last)",
      "Cell \u001b[0;32mIn[1], line 7\u001b[0m\n\u001b[1;32m      5\u001b[0m    all_days \u001b[38;5;241m=\u001b[39m [{\u001b[38;5;124m\"\u001b[39m\u001b[38;5;124mdate\u001b[39m\u001b[38;5;124m\"\u001b[39m: initial_date \u001b[38;5;241m+\u001b[39m i \u001b[38;5;241m*\u001b[39m one_day} \u001b[38;5;28;01mfor\u001b[39;00m i \u001b[38;5;129;01min\u001b[39;00m \u001b[38;5;28mrange\u001b[39m(days)]\n\u001b[1;32m      6\u001b[0m    \u001b[38;5;28;01mreturn\u001b[39;00m spark\u001b[38;5;241m.\u001b[39mcreateDataFrame(Row(\u001b[38;5;241m*\u001b[39m\u001b[38;5;241m*\u001b[39mx) \u001b[38;5;28;01mfor\u001b[39;00m x \u001b[38;5;129;01min\u001b[39;00m all_days)\n\u001b[0;32m----> 7\u001b[0m date_df \u001b[38;5;241m=\u001b[39m \u001b[43mget_date_df\u001b[49m\u001b[43m(\u001b[49m\u001b[43m)\u001b[49m\n\u001b[1;32m      8\u001b[0m date_df\u001b[38;5;241m.\u001b[39mshow(\u001b[38;5;241m5\u001b[39m)\n",
      "Cell \u001b[0;32mIn[1], line 2\u001b[0m, in \u001b[0;36mget_date_df\u001b[0;34m()\u001b[0m\n\u001b[1;32m      1\u001b[0m \u001b[38;5;28;01mdef\u001b[39;00m \u001b[38;5;21mget_date_df\u001b[39m():\n\u001b[0;32m----> 2\u001b[0m    initial_date \u001b[38;5;241m=\u001b[39m \u001b[43mdatetime\u001b[49m\u001b[38;5;241m.\u001b[39mdate(\u001b[38;5;241m2018\u001b[39m, \u001b[38;5;241m1\u001b[39m, \u001b[38;5;241m1\u001b[39m)\n\u001b[1;32m      3\u001b[0m    days \u001b[38;5;241m=\u001b[39m \u001b[38;5;241m365\u001b[39m\n\u001b[1;32m      4\u001b[0m    one_day \u001b[38;5;241m=\u001b[39m datetime\u001b[38;5;241m.\u001b[39mtimedelta(days\u001b[38;5;241m=\u001b[39m\u001b[38;5;241m1\u001b[39m)\n",
      "\u001b[0;31mNameError\u001b[0m: name 'datetime' is not defined"
     ]
    }
   ],
   "source": [
    "def get_date_df():\n",
    "   initial_date = datetime.date(2018, 1, 1)\n",
    "   days = 365\n",
    "   one_day = datetime.timedelta(days=1)\n",
    "   all_days = [{\"date\": initial_date + i * one_day} for i in range(days)]\n",
    "   return spark.createDataFrame(Row(**x) for x in all_days)\n",
    "date_df = get_date_df()\n",
    "date_df.show(5)"
   ]
  },
  {
   "cell_type": "markdown",
   "id": "34093db8",
   "metadata": {},
   "source": [
    "Following code worked in creating the date_series as planned"
   ]
  },
  {
   "cell_type": "code",
   "execution_count": null,
   "id": "2fcc4840",
   "metadata": {},
   "outputs": [],
   "source": [
    "data_date_series = oil_data.select(date_trunc(\"mm\", max(to_date(\"date\", \"dd/MM/yyyy\"))).\\\n",
    "            alias(\"max_date\"),\n",
    "            date_trunc(\"mm\", min(to_date(\"date\", \"dd/MM/yyyy\"))). \\\n",
    "            alias(\"min_date\")). \\\n",
    "    select(expr(\"sequence(min_date, max_date, interval 1 day)\").alias(\"date_seq\")). \\\n",
    "        withColumn(\"date_new\",explode(\"date_seq\")). \\\n",
    "        withColumn(\"date_form\",date_format(\"date_new\", \"yyyy-MM-dd\"))"
   ]
  }
 ],
 "metadata": {
  "kernelspec": {
   "display_name": "Python 3 (ipykernel)",
   "language": "python",
   "name": "python3"
  },
  "language_info": {
   "codemirror_mode": {
    "name": "ipython",
    "version": 3
   },
   "file_extension": ".py",
   "mimetype": "text/x-python",
   "name": "python",
   "nbconvert_exporter": "python",
   "pygments_lexer": "ipython3",
   "version": "3.10.8"
  }
 },
 "nbformat": 4,
 "nbformat_minor": 5
}
