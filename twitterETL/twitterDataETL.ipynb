{
 "cells": [
  {
   "cell_type": "code",
   "execution_count": 44,
   "id": "80aa1aa2",
   "metadata": {},
   "outputs": [],
   "source": [
    "import tweepy\n",
    "import pandas as pd \n",
    "import json\n",
    "from datetime import datetime\n",
    "import s3fs"
   ]
  },
  {
   "cell_type": "code",
   "execution_count": 2,
   "id": "f7e44bf2",
   "metadata": {},
   "outputs": [],
   "source": [
    "import configparser"
   ]
  },
  {
   "cell_type": "code",
   "execution_count": 3,
   "id": "de71f16c",
   "metadata": {},
   "outputs": [],
   "source": [
    "config = configparser.ConfigParser()"
   ]
  },
  {
   "cell_type": "code",
   "execution_count": 22,
   "id": "954d67d7",
   "metadata": {},
   "outputs": [
    {
     "data": {
      "text/plain": [
       "['clustwiter.config']"
      ]
     },
     "execution_count": 22,
     "metadata": {},
     "output_type": "execute_result"
    }
   ],
   "source": [
    "config.read('clustwiter.config')"
   ]
  },
  {
   "cell_type": "markdown",
   "id": "0f4825ce",
   "metadata": {},
   "source": [
    "**API key and secret:**\n",
    "\n",
    "Think of these as the user name and password that represents your Twitter developer app when making API requests. \n",
    "\n",
    "oauth_consumer_key\n",
    "\n",
    "oauth_consumer_secret\n",
    "\n",
    "\n",
    "**Access token and secret:**\n",
    "An access token and access token secret are user-specific credentials used to authenticate OAuth 1.0a API requests. They specify the Twitter account the request is made on behalf of.\n",
    "\n",
    "You can generate your own access token and token secret if you would like your app to make requests on behalf of the same Twitter account associated with your developer account on the Twitter developer app's details page.\n",
    "\n",
    "oauth_token\n",
    "\n",
    "oauth_token_secret\n"
   ]
  },
  {
   "cell_type": "code",
   "execution_count": 29,
   "id": "53523d09",
   "metadata": {},
   "outputs": [],
   "source": [
    "access_key = config['TWITTER']['access_token'] \n",
    "access_secret = config['TWITTER']['access_secret']\n",
    "consumer_key = config['TWITTER']['api_key']\n",
    "consumer_secret = config['TWITTER']['api_secret']"
   ]
  },
  {
   "cell_type": "code",
   "execution_count": 35,
   "id": "d3934444",
   "metadata": {},
   "outputs": [],
   "source": [
    "auth = tweepy.OAuthHandler(consumer_key, consumer_secret)"
   ]
  },
  {
   "cell_type": "code",
   "execution_count": 37,
   "id": "16a70376",
   "metadata": {},
   "outputs": [],
   "source": [
    "auth.set_access_token(access_key, access_secret)"
   ]
  },
  {
   "cell_type": "code",
   "execution_count": 38,
   "id": "d875eb05",
   "metadata": {},
   "outputs": [],
   "source": [
    "api = tweepy.API(auth)"
   ]
  },
  {
   "cell_type": "code",
   "execution_count": 41,
   "id": "fcbf1dce",
   "metadata": {},
   "outputs": [],
   "source": [
    "def run_twitter_etl():\n",
    "    \n",
    "    access_key = config['TWITTER']['access_token'] \n",
    "    access_secret = config['TWITTER']['access_secret']\n",
    "    consumer_key = config['TWITTER']['api_key']\n",
    "    consumer_secret = config['TWITTER']['api_secret']\n",
    "\n",
    "\n",
    "    auth = tweepy.OAuthHandler(consumer_key, consumer_secret)\n",
    "    auth.set_access_token(access_key, access_secret)\n",
    "\n",
    "    # # # Creating an API object \n",
    "    api = tweepy.API(auth)\n",
    "    tweets = api.user_timeline(screen_name='@elonmusk', \n",
    "                            # 200 is the maximum allowed count\n",
    "                            count=50,\n",
    "                            include_rts = False,\n",
    "                            # Necessary to keep full_text \n",
    "                            # otherwise only the first 140 words are extracted\n",
    "                            tweet_mode = 'extended'\n",
    "                            )\n",
    "\n",
    "    print(tweets[0])\n",
    "    list = []\n",
    "    for tweet in tweets:\n",
    "        text = tweet._json[\"full_text\"]\n",
    "\n",
    "        refined_tweet = {\"user\": tweet.user.screen_name,\n",
    "                        'text' : text,\n",
    "                        'favorite_count' : tweet.favorite_count,\n",
    "                        'retweet_count' : tweet.retweet_count,\n",
    "                        'created_at' : tweet.created_at}\n",
    "        \n",
    "        list.append(refined_tweet)\n",
    "\n",
    "    df = pd.DataFrame(list)\n",
    "    df.to_csv('refined_tweets.csv')"
   ]
  },
  {
   "cell_type": "code",
   "execution_count": 43,
   "id": "33531819",
   "metadata": {},
   "outputs": [],
   "source": [
    "from datetime import timedelta\n",
    "from airflow import DAG\n",
    "from airflow.operators.python import PythonOperator\n",
    "from airflow.utils.dates import days_ago\n",
    "from datetime import datetime\n",
    "from twitter_etl import run_twitter_etl"
   ]
  },
  {
   "cell_type": "code",
   "execution_count": 19,
   "id": "9860348d",
   "metadata": {},
   "outputs": [],
   "source": [
    "default_args = {\n",
    "    'owner': 'airflow',\n",
    "    'depends_on_past': False,\n",
    "    'start_date': datetime(2020, 11, 8),\n",
    "    'email': ['airflow@example.com'],\n",
    "    'email_on_failure': False,\n",
    "    'email_on_retry': False,\n",
    "    'retries': 1,\n",
    "    'retry_delay': timedelta(minutes=1)\n",
    "}"
   ]
  },
  {
   "cell_type": "code",
   "execution_count": 22,
   "id": "7bc6a81b",
   "metadata": {},
   "outputs": [],
   "source": [
    "dag = DAG(\n",
    "    'twitter_dag',\n",
    "    default_args=default_args,\n",
    "    description='Our first DAG with ETL process!',\n",
    "    schedule=timedelta(days=1),\n",
    ")"
   ]
  },
  {
   "cell_type": "code",
   "execution_count": 23,
   "id": "4497fdba",
   "metadata": {},
   "outputs": [],
   "source": [
    "dag = DAG(\n",
    "    'twitter_dag',\n",
    "    default_args=default_args,\n",
    "    description='My first etl code'\n",
    ")\n"
   ]
  },
  {
   "cell_type": "code",
   "execution_count": 24,
   "id": "3d1a0ba2",
   "metadata": {},
   "outputs": [],
   "source": [
    "run_etl = PythonOperator(\n",
    "    task_id='complete_twitter_etl',\n",
    "    python_callable=run_twitter_etl,\n",
    "    dag=dag, \n",
    ")"
   ]
  }
 ],
 "metadata": {
  "kernelspec": {
   "display_name": "Python 3 (ipykernel)",
   "language": "python",
   "name": "python3"
  },
  "language_info": {
   "codemirror_mode": {
    "name": "ipython",
    "version": 3
   },
   "file_extension": ".py",
   "mimetype": "text/x-python",
   "name": "python",
   "nbconvert_exporter": "python",
   "pygments_lexer": "ipython3",
   "version": "3.10.8"
  }
 },
 "nbformat": 4,
 "nbformat_minor": 5
}
