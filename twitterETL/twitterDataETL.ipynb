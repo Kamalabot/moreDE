{
 "cells": [
  {
   "cell_type": "code",
   "execution_count": 1,
   "id": "80aa1aa2",
   "metadata": {},
   "outputs": [],
   "source": [
    "import tweepy\n",
    "import pandas as pd \n",
    "import json\n",
    "from datetime import datetime\n",
    "import s3fs"
   ]
  },
  {
   "cell_type": "code",
   "execution_count": 2,
   "id": "f7e44bf2",
   "metadata": {},
   "outputs": [],
   "source": [
    "import configparser"
   ]
  },
  {
   "cell_type": "code",
   "execution_count": 12,
   "id": "de71f16c",
   "metadata": {},
   "outputs": [],
   "source": [
    "config = configparser.ConfigParser()"
   ]
  },
  {
   "cell_type": "code",
   "execution_count": 13,
   "id": "954d67d7",
   "metadata": {},
   "outputs": [
    {
     "data": {
      "text/plain": [
       "['clustwiter.config']"
      ]
     },
     "execution_count": 13,
     "metadata": {},
     "output_type": "execute_result"
    }
   ],
   "source": [
    "config.read('clustwiter.config')"
   ]
  },
  {
   "cell_type": "code",
   "execution_count": 14,
   "id": "75e6632e",
   "metadata": {},
   "outputs": [
    {
     "data": {
      "text/plain": [
       "'airbnb'"
      ]
     },
     "execution_count": 14,
     "metadata": {},
     "output_type": "execute_result"
    }
   ],
   "source": [
    "config['TWITTER']['access_secret']"
   ]
  },
  {
   "cell_type": "code",
   "execution_count": 17,
   "id": "fcbf1dce",
   "metadata": {},
   "outputs": [],
   "source": [
    "def run_twitter_etl():\n",
    "\n",
    "    access_key = config['TWITTER']['access_key'] \n",
    "    access_secret = config['TWITTER']['access_secret']\n",
    "    consumer_key = config['TWITTER']['consumer_key']\n",
    "    consumer_secret = config['TWITTER']['consumer_secret']\n",
    "\n",
    "\n",
    "    # Twitter authentication\n",
    "    auth = tweepy.OAuthHandler(access_key, access_secret)   \n",
    "    auth.set_access_token(consumer_key, consumer_secret) \n",
    "\n",
    "    # # # Creating an API object \n",
    "    api = tweepy.API(auth)\n",
    "    tweets = api.user_timeline(screen_name='@elonmusk', \n",
    "                            # 200 is the maximum allowed count\n",
    "                            count=200,\n",
    "                            include_rts = False,\n",
    "                            # Necessary to keep full_text \n",
    "                            # otherwise only the first 140 words are extracted\n",
    "                            tweet_mode = 'extended'\n",
    "                            )\n",
    "\n",
    "    list = []\n",
    "    for tweet in tweets:\n",
    "        text = tweet._json[\"full_text\"]\n",
    "\n",
    "        refined_tweet = {\"user\": tweet.user.screen_name,\n",
    "                        'text' : text,\n",
    "                        'favorite_count' : tweet.favorite_count,\n",
    "                        'retweet_count' : tweet.retweet_count,\n",
    "                        'created_at' : tweet.created_at}\n",
    "        \n",
    "        list.append(refined_tweet)\n",
    "\n",
    "    df = pd.DataFrame(list)\n",
    "    df.to_csv('refined_tweets.csv')"
   ]
  },
  {
   "cell_type": "code",
   "execution_count": 21,
   "id": "33531819",
   "metadata": {},
   "outputs": [],
   "source": [
    "from datetime import timedelta\n",
    "from airflow import DAG\n",
    "from airflow.operators.python import PythonOperator\n",
    "from airflow.utils.dates import days_ago\n",
    "from datetime import datetime\n",
    "from twitter_etl import run_twitter_etl"
   ]
  },
  {
   "cell_type": "code",
   "execution_count": 19,
   "id": "9860348d",
   "metadata": {},
   "outputs": [],
   "source": [
    "default_args = {\n",
    "    'owner': 'airflow',\n",
    "    'depends_on_past': False,\n",
    "    'start_date': datetime(2020, 11, 8),\n",
    "    'email': ['airflow@example.com'],\n",
    "    'email_on_failure': False,\n",
    "    'email_on_retry': False,\n",
    "    'retries': 1,\n",
    "    'retry_delay': timedelta(minutes=1)\n",
    "}"
   ]
  },
  {
   "cell_type": "code",
   "execution_count": 22,
   "id": "7bc6a81b",
   "metadata": {},
   "outputs": [],
   "source": [
    "dag = DAG(\n",
    "    'twitter_dag',\n",
    "    default_args=default_args,\n",
    "    description='Our first DAG with ETL process!',\n",
    "    schedule=timedelta(days=1),\n",
    ")"
   ]
  },
  {
   "cell_type": "code",
   "execution_count": 23,
   "id": "4497fdba",
   "metadata": {},
   "outputs": [],
   "source": [
    "dag = DAG(\n",
    "    'twitter_dag',\n",
    "    default_args=default_args,\n",
    "    description='My first etl code'\n",
    ")\n"
   ]
  },
  {
   "cell_type": "code",
   "execution_count": 24,
   "id": "3d1a0ba2",
   "metadata": {},
   "outputs": [],
   "source": [
    "run_etl = PythonOperator(\n",
    "    task_id='complete_twitter_etl',\n",
    "    python_callable=run_twitter_etl,\n",
    "    dag=dag, \n",
    ")"
   ]
  }
 ],
 "metadata": {
  "kernelspec": {
   "display_name": "Python 3 (ipykernel)",
   "language": "python",
   "name": "python3"
  },
  "language_info": {
   "codemirror_mode": {
    "name": "ipython",
    "version": 3
   },
   "file_extension": ".py",
   "mimetype": "text/x-python",
   "name": "python",
   "nbconvert_exporter": "python",
   "pygments_lexer": "ipython3",
   "version": "3.10.8"
  }
 },
 "nbformat": 4,
 "nbformat_minor": 5
}
